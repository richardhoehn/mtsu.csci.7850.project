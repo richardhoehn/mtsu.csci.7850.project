{
 "cells": [
  {
   "cell_type": "code",
   "execution_count": 1,
   "id": "8ba96bee-7b35-48a2-9660-be126f4fbda3",
   "metadata": {},
   "outputs": [],
   "source": [
    "import numpy as np\n",
    "import torch\n",
    "import torch.nn as nn\n",
    "import lightning.pytorch as pl\n",
    "import torchmetrics\n",
    "import torchvision\n",
    "from torchinfo import summary\n",
    "from torchview import draw_graph\n",
    "from IPython.display import display\n",
    "\n",
    "import pandas as pd\n",
    "import matplotlib.pyplot as plt\n",
    "import matplotlib.dates as mdates\n",
    "import plotly.offline as py\n",
    "import plotly.graph_objs as go\n",
    "\n",
    "from sklearn.preprocessing import MinMaxScaler\n"
   ]
  },
  {
   "cell_type": "code",
   "execution_count": 2,
   "id": "3c452bfb-6c16-4b09-802a-b8e777c60c97",
   "metadata": {},
   "outputs": [],
   "source": [
    "# Config & Setup Details\n",
    "cfg_batch_size  = 50\n",
    "cfg_max_epochs  = 50\n",
    "cfg_num_workers = 2\n",
    "\n",
    "# Learning Config\n",
    "cfg_split   = 0.8\n",
    "cfg_seq_len = 180\n",
    "\n",
    "# Data Config\n",
    "cfg_data_separator = \",\"\n",
    "cfg_data_date_fmt  = \"%Y-%m-%d\"\n",
    "cfg_data_url_train = \"https://s3.amazonaws.com/mtsu.csci.7850.project/train.csv\"\n",
    "\n",
    "# Logger Config\n",
    "cfg_logger_dir     = \"logs\"\n",
    "cfg_logger_name    = \"Project\"\n",
    "cfg_logger_version = \"data-loader\"\n"
   ]
  },
  {
   "cell_type": "code",
   "execution_count": 3,
   "id": "3d9c2e45-4217-4d40-8f11-0b0d8d57b906",
   "metadata": {},
   "outputs": [
    {
     "name": "stdout",
     "output_type": "stream",
     "text": [
      "NVIDIA GeForce RTX 2080 Ti\n",
      "_CudaDeviceProperties(name='NVIDIA GeForce RTX 2080 Ti', major=7, minor=5, total_memory=11011MB, multi_processor_count=68)\n",
      "Number of devices: 1\n"
     ]
    }
   ],
   "source": [
    "# Setup CPU or GPU Device Settings for CUDA\n",
    "if torch.cuda.is_available():\n",
    "    print(torch.cuda.get_device_name())\n",
    "    print(torch.cuda.get_device_properties(\"cuda\"))\n",
    "    print(\"Number of devices:\",torch.cuda.device_count())\n",
    "    device = (\"cuda\")\n",
    "else:\n",
    "    print(\"Only CPU is available...\")\n",
    "    device = (\"cpu\")"
   ]
  },
  {
   "cell_type": "code",
   "execution_count": 4,
   "id": "7434bc9f-b965-4032-8c7a-f069c91761f9",
   "metadata": {},
   "outputs": [
    {
     "name": "stdout",
     "output_type": "stream",
     "text": [
      "Raw Shape: (913000, 4)\n",
      "        date  store  item  sales\n",
      "0 2013-01-01      1     1     13\n",
      "1 2013-01-02      1     1     11\n",
      "2 2013-01-03      1     1     14\n",
      "3 2013-01-04      1     1     13\n",
      "4 2013-01-05      1     1     10\n",
      "********\n",
      "\n",
      "Grouped by Date Shape: (1826, 2)\n",
      "           date  sales\n",
      "0    2013-01-01  13696\n",
      "1    2013-01-02  13678\n",
      "2    2013-01-03  14488\n",
      "3    2013-01-04  15677\n",
      "4    2013-01-05  16237\n",
      "...         ...    ...\n",
      "1821 2017-12-27  20378\n",
      "1822 2017-12-28  21885\n",
      "1823 2017-12-29  23535\n",
      "1824 2017-12-30  24988\n",
      "1825 2017-12-31  26420\n",
      "\n",
      "[1826 rows x 2 columns]\n",
      "********\n",
      "\n",
      "Training Shape: (1826, 3)\n",
      "      index       date  sales\n",
      "0         0 2013-01-01  13696\n",
      "1         1 2013-01-02  13678\n",
      "2         2 2013-01-03  14488\n",
      "3         3 2013-01-04  15677\n",
      "4         4 2013-01-05  16237\n",
      "...     ...        ...    ...\n",
      "1821   1821 2017-12-27  20378\n",
      "1822   1822 2017-12-28  21885\n",
      "1823   1823 2017-12-29  23535\n",
      "1824   1824 2017-12-30  24988\n",
      "1825   1825 2017-12-31  26420\n",
      "\n",
      "[1826 rows x 3 columns]\n",
      "Training Cols: Index(['index', 'date', 'sales'], dtype='object')\n",
      "********\n",
      "\n"
     ]
    }
   ],
   "source": [
    "# Load Data - Parse the Date Column\n",
    "df_raw = pd.read_csv(cfg_data_url_train, parse_dates=[\"date\"])\n",
    "\n",
    "print(f\"Raw Shape: {df_raw.shape}\")\n",
    "print(df_raw.head())\n",
    "print(\"********\\n\")\n",
    "\n",
    "# Format Date Column to DateTime\n",
    "df_raw['date'] = pd.to_datetime(df_raw['date'], format=cfg_data_date_fmt)\n",
    "\n",
    "# Get Sales (Sum across all Stores) Grouped by Date\n",
    "df_grouped_date = df_raw.groupby(['date'])['sales'].sum().reset_index()\n",
    "print(f\"Grouped by Date Shape: {df_grouped_date.shape}\")\n",
    "print(df_grouped_date)\n",
    "print(\"********\\n\")\n",
    "\n",
    "# Resetting the index\n",
    "df_train = df_grouped_date.reset_index()\n",
    "\n",
    "# Show the New Table\n",
    "print(f\"Training Shape: {df_train.shape}\")\n",
    "print(df_train)\n",
    "print(f\"Training Cols: {df_train.columns}\")\n",
    "print(\"********\\n\")\n",
    "\n"
   ]
  },
  {
   "cell_type": "code",
   "execution_count": 5,
   "id": "4df77e4c-8929-4521-92f0-ac792f67c08d",
   "metadata": {},
   "outputs": [
    {
     "data": {
      "text/html": [
       "<div>\n",
       "<style scoped>\n",
       "    .dataframe tbody tr th:only-of-type {\n",
       "        vertical-align: middle;\n",
       "    }\n",
       "\n",
       "    .dataframe tbody tr th {\n",
       "        vertical-align: top;\n",
       "    }\n",
       "\n",
       "    .dataframe thead th {\n",
       "        text-align: right;\n",
       "    }\n",
       "</style>\n",
       "<table border=\"1\" class=\"dataframe\">\n",
       "  <thead>\n",
       "    <tr style=\"text-align: right;\">\n",
       "      <th></th>\n",
       "      <th>index</th>\n",
       "      <th>date</th>\n",
       "      <th>sales</th>\n",
       "    </tr>\n",
       "  </thead>\n",
       "  <tbody>\n",
       "    <tr>\n",
       "      <th>0</th>\n",
       "      <td>0</td>\n",
       "      <td>2013-01-01</td>\n",
       "      <td>0.059801</td>\n",
       "    </tr>\n",
       "    <tr>\n",
       "      <th>1</th>\n",
       "      <td>1</td>\n",
       "      <td>2013-01-02</td>\n",
       "      <td>0.059530</td>\n",
       "    </tr>\n",
       "    <tr>\n",
       "      <th>2</th>\n",
       "      <td>2</td>\n",
       "      <td>2013-01-03</td>\n",
       "      <td>0.067566</td>\n",
       "    </tr>\n",
       "    <tr>\n",
       "      <th>3</th>\n",
       "      <td>3</td>\n",
       "      <td>2013-01-04</td>\n",
       "      <td>0.080529</td>\n",
       "    </tr>\n",
       "    <tr>\n",
       "      <th>4</th>\n",
       "      <td>4</td>\n",
       "      <td>2013-01-05</td>\n",
       "      <td>0.091678</td>\n",
       "    </tr>\n",
       "    <tr>\n",
       "      <th>5</th>\n",
       "      <td>5</td>\n",
       "      <td>2013-01-06</td>\n",
       "      <td>0.104398</td>\n",
       "    </tr>\n",
       "    <tr>\n",
       "      <th>6</th>\n",
       "      <td>6</td>\n",
       "      <td>2013-01-07</td>\n",
       "      <td>0.089742</td>\n",
       "    </tr>\n",
       "    <tr>\n",
       "      <th>7</th>\n",
       "      <td>7</td>\n",
       "      <td>2013-01-08</td>\n",
       "      <td>0.089157</td>\n",
       "    </tr>\n",
       "    <tr>\n",
       "      <th>8</th>\n",
       "      <td>8</td>\n",
       "      <td>2013-01-09</td>\n",
       "      <td>0.090017</td>\n",
       "    </tr>\n",
       "    <tr>\n",
       "      <th>9</th>\n",
       "      <td>9</td>\n",
       "      <td>2013-01-10</td>\n",
       "      <td>0.090679</td>\n",
       "    </tr>\n",
       "  </tbody>\n",
       "</table>\n",
       "</div>"
      ],
      "text/plain": [
       "   index       date     sales\n",
       "0      0 2013-01-01  0.059801\n",
       "1      1 2013-01-02  0.059530\n",
       "2      2 2013-01-03  0.067566\n",
       "3      3 2013-01-04  0.080529\n",
       "4      4 2013-01-05  0.091678\n",
       "5      5 2013-01-06  0.104398\n",
       "6      6 2013-01-07  0.089742\n",
       "7      7 2013-01-08  0.089157\n",
       "8      8 2013-01-09  0.090017\n",
       "9      9 2013-01-10  0.090679"
      ]
     },
     "execution_count": 5,
     "metadata": {},
     "output_type": "execute_result"
    }
   ],
   "source": [
    "# Scaling\n",
    "scaler = MinMaxScaler(feature_range=(0, 1))\n",
    "sales_data = df_train['sales'].values.reshape(-1, 1)\n",
    "scaled_sales_data = scaler.fit_transform(sales_data)\n",
    "df_train['sales'] = scaled_sales_data\n",
    "\n",
    "\n",
    "df_avg = df_train\n",
    "\n",
    "# Set the Roling Average of the last 7 days\n",
    "df_avg['sales'] = df_avg['sales'].rolling(window=7, min_periods=1).mean()\n",
    "\n",
    "# Displaying the updated DataFrame with moving averages\n",
    "df_avg.head(10) "
   ]
  },
  {
   "cell_type": "code",
   "execution_count": 6,
   "id": "19d512fb-f092-446b-ba5e-b343ea5d8acd",
   "metadata": {},
   "outputs": [
    {
     "name": "stdout",
     "output_type": "stream",
     "text": [
      "DF Shape: (1826, 2)\n"
     ]
    },
    {
     "data": {
      "text/html": [
       "<div>\n",
       "<style scoped>\n",
       "    .dataframe tbody tr th:only-of-type {\n",
       "        vertical-align: middle;\n",
       "    }\n",
       "\n",
       "    .dataframe tbody tr th {\n",
       "        vertical-align: top;\n",
       "    }\n",
       "\n",
       "    .dataframe thead th {\n",
       "        text-align: right;\n",
       "    }\n",
       "</style>\n",
       "<table border=\"1\" class=\"dataframe\">\n",
       "  <thead>\n",
       "    <tr style=\"text-align: right;\">\n",
       "      <th></th>\n",
       "      <th>index</th>\n",
       "      <th>sales</th>\n",
       "    </tr>\n",
       "    <tr>\n",
       "      <th>date</th>\n",
       "      <th></th>\n",
       "      <th></th>\n",
       "    </tr>\n",
       "  </thead>\n",
       "  <tbody>\n",
       "    <tr>\n",
       "      <th>2013-01-01</th>\n",
       "      <td>0</td>\n",
       "      <td>0.059801</td>\n",
       "    </tr>\n",
       "    <tr>\n",
       "      <th>2013-01-02</th>\n",
       "      <td>1</td>\n",
       "      <td>0.059530</td>\n",
       "    </tr>\n",
       "    <tr>\n",
       "      <th>2013-01-03</th>\n",
       "      <td>2</td>\n",
       "      <td>0.067566</td>\n",
       "    </tr>\n",
       "    <tr>\n",
       "      <th>2013-01-04</th>\n",
       "      <td>3</td>\n",
       "      <td>0.080529</td>\n",
       "    </tr>\n",
       "    <tr>\n",
       "      <th>2013-01-05</th>\n",
       "      <td>4</td>\n",
       "      <td>0.091678</td>\n",
       "    </tr>\n",
       "    <tr>\n",
       "      <th>2013-01-06</th>\n",
       "      <td>5</td>\n",
       "      <td>0.104398</td>\n",
       "    </tr>\n",
       "    <tr>\n",
       "      <th>2013-01-07</th>\n",
       "      <td>6</td>\n",
       "      <td>0.089742</td>\n",
       "    </tr>\n",
       "    <tr>\n",
       "      <th>2013-01-08</th>\n",
       "      <td>7</td>\n",
       "      <td>0.089157</td>\n",
       "    </tr>\n",
       "    <tr>\n",
       "      <th>2013-01-09</th>\n",
       "      <td>8</td>\n",
       "      <td>0.090017</td>\n",
       "    </tr>\n",
       "    <tr>\n",
       "      <th>2013-01-10</th>\n",
       "      <td>9</td>\n",
       "      <td>0.090679</td>\n",
       "    </tr>\n",
       "  </tbody>\n",
       "</table>\n",
       "</div>"
      ],
      "text/plain": [
       "            index     sales\n",
       "date                       \n",
       "2013-01-01      0  0.059801\n",
       "2013-01-02      1  0.059530\n",
       "2013-01-03      2  0.067566\n",
       "2013-01-04      3  0.080529\n",
       "2013-01-05      4  0.091678\n",
       "2013-01-06      5  0.104398\n",
       "2013-01-07      6  0.089742\n",
       "2013-01-08      7  0.089157\n",
       "2013-01-09      8  0.090017\n",
       "2013-01-10      9  0.090679"
      ]
     },
     "execution_count": 6,
     "metadata": {},
     "output_type": "execute_result"
    }
   ],
   "source": [
    "# Setup the Dataframe being used\n",
    "df = df_avg # Simple Copy\n",
    "df.set_index('date', inplace=True)\n",
    "print(f\"DF Shape: {df.shape}\")\n",
    "\n",
    "df.head(10) "
   ]
  },
  {
   "cell_type": "code",
   "execution_count": 7,
   "id": "b9d3fd1e-2e2a-4d08-93be-673124f5bf12",
   "metadata": {},
   "outputs": [],
   "source": [
    "def create_sequences(data, seq_length):\n",
    "    xs = []\n",
    "    ys = []\n",
    "\n",
    "    for i in range(len(data) - seq_length):\n",
    "        x = data.iloc[i:(i + seq_length)]['sales'].values\n",
    "        y = data.iloc[i + seq_length]['sales']\n",
    "        xs.append(x)\n",
    "        ys.append(y)\n",
    "    \n",
    "    return np.array(xs), np.array(ys)"
   ]
  },
  {
   "cell_type": "code",
   "execution_count": 8,
   "id": "4de4fe51-6058-4624-b984-e5d302af0384",
   "metadata": {},
   "outputs": [],
   "source": [
    "x, y = create_sequences(df, cfg_seq_len)\n",
    "\n",
    "# Convert to PyTorch tensors\n",
    "x_tensor = torch.tensor(x, dtype=torch.float32)\n",
    "y_tensor = torch.tensor(y, dtype=torch.float32)\n",
    "\n",
    "# Split the data into training and testing sets\n",
    "train_size = int(cfg_split * len(x_tensor))\n",
    "\n",
    "x_train = x_tensor[:train_size]\n",
    "#x_train = x_train.unsqueeze(-1)\n",
    "\n",
    "y_train = y_tensor[:train_size]\n",
    "\n",
    "x_val = x_tensor[train_size:]\n",
    "y_val = y_tensor[train_size:]"
   ]
  },
  {
   "cell_type": "code",
   "execution_count": 9,
   "id": "f5d8017d-ef71-4785-9e9d-2db2f2dae877",
   "metadata": {},
   "outputs": [
    {
     "name": "stdout",
     "output_type": "stream",
     "text": [
      "x Shape: (1646, 180)\n",
      "y Shape: (1646,)\n",
      "\n",
      "x_train Shape: torch.Size([1316, 180])\n",
      "y_train Shape: torch.Size([1316])\n",
      "\n",
      "x_val Shape: torch.Size([330, 180])\n",
      "y_val Shape: torch.Size([330])\n"
     ]
    }
   ],
   "source": [
    "print(f\"x Shape: {x.shape}\")\n",
    "print(f\"y Shape: {y.shape}\")\n",
    "print(\"\")\n",
    "print(f\"x_train Shape: {x_train.shape}\")\n",
    "print(f\"y_train Shape: {y_train.shape}\")\n",
    "print(\"\")\n",
    "print(f\"x_val Shape: {x_val.shape}\")\n",
    "print(f\"y_val Shape: {y_val.shape}\")"
   ]
  },
  {
   "cell_type": "code",
   "execution_count": 10,
   "id": "6466407a-73a5-480c-8123-fc1631a06e93",
   "metadata": {},
   "outputs": [],
   "source": [
    "class LSTMModel(pl.LightningModule):\n",
    "    def __init__(self, \n",
    "                 input_size, \n",
    "                 hidden_size, \n",
    "                 output_size, \n",
    "                 num_layers,\n",
    "                 scaler = 10000,\n",
    "                 **kwargs):\n",
    "        super().__init__(**kwargs)\n",
    "\n",
    "        self.lstm = nn.LSTM(input_size, hidden_size, num_layers, batch_first=True, dropout=0.1)\n",
    "        self.dropout = torch.nn.Dropout1d(0.1) # Whole token dropped\n",
    "        self.linear = nn.Linear(hidden_size, output_size)\n",
    "        self.loss = nn.MSELoss()\n",
    "        self.scaler = scaler\n",
    "\n",
    "    def configure_optimizers(self):\n",
    "        optimizer = torch.optim.Adam(self.parameters(), lr=0.0001)\n",
    "        return optimizer\n",
    "\n",
    "    # No complications with regression...\n",
    "    def predict(self, x):\n",
    "        return self(x)\n",
    "    \n",
    "    def forward(self, x):\n",
    "        x = x.unsqueeze(-1)\n",
    "        y = x\n",
    "        #y = y / self.scaler\n",
    "        #y = torch.log(y)\n",
    "        y, _ = self.lstm(y)\n",
    "        y = y[:, -1, :] # Extract only the last time step\n",
    "        y = self.linear(y) # Using linear to bring back to output_size\n",
    "        #y = torch.exp(y)\n",
    "        #y * self.scaler\n",
    "        \n",
    "        return y\n",
    "\n",
    "    def training_step(self, train_batch, batch_idx):\n",
    "        # training_step defines the train loop. It is independent of forward\n",
    "        x, y_true = train_batch\n",
    "        y_pred = self(x)\n",
    "        loss = self.loss(y_pred, y_true)\n",
    "        self.log('train_loss', loss, on_step=False, on_epoch=True)\n",
    "\n",
    "        offset = y_true.sum() - y_pred.sum()\n",
    "        self.log('train_offset', offset, on_step=False, on_epoch=True)\n",
    "        \n",
    "        return loss\n",
    "\n",
    "    def validation_step(self, val_batch, batch_idx):\n",
    "        x, y_true = val_batch\n",
    "        y_pred = self(x)\n",
    "        loss = self.loss(y_pred, y_true)\n",
    "        self.log('val_loss', loss, on_step=False, on_epoch=True)\n",
    "\n",
    "        offset = y_true.sum() - y_pred.sum()\n",
    "        self.log('val_offset', offset, on_step=False, on_epoch=True)\n",
    "        \n",
    "        return loss\n",
    "\n",
    "\n",
    "# Model parameters\n",
    "input_size  = 1  # Number of features (sales data from 10 stores)\n",
    "hidden_size = 50 # Number of features in hidden state\n",
    "output_size = 1  # Number of output values (future sales prediction)\n",
    "num_layers  = 4  # Number of stacked LSTM layers\n",
    "\n",
    "# Create the LSTM model\n",
    "model = LSTMModel(input_size, hidden_size, output_size, num_layers)"
   ]
  },
  {
   "cell_type": "code",
   "execution_count": 11,
   "id": "13f87241-11f5-4cf1-aa57-e4bc952171ce",
   "metadata": {},
   "outputs": [
    {
     "data": {
      "text/plain": [
       "==========================================================================================\n",
       "Layer (type:depth-idx)                   Output Shape              Param #\n",
       "==========================================================================================\n",
       "LSTMModel                                [5, 1]                    --\n",
       "├─LSTM: 1-1                              [5, 180, 50]              71,800\n",
       "├─Linear: 1-2                            [5, 1]                    51\n",
       "==========================================================================================\n",
       "Total params: 71,851\n",
       "Trainable params: 71,851\n",
       "Non-trainable params: 0\n",
       "Total mult-adds (Units.MEGABYTES): 64.62\n",
       "==========================================================================================\n",
       "Input size (MB): 1.19\n",
       "Forward/backward pass size (MB): 0.36\n",
       "Params size (MB): 0.29\n",
       "Estimated Total Size (MB): 1.83\n",
       "=========================================================================================="
      ]
     },
     "execution_count": 11,
     "metadata": {},
     "output_type": "execute_result"
    }
   ],
   "source": [
    "summary(model, input_data=torch.Tensor(x_train[0:5]).float())"
   ]
  },
  {
   "cell_type": "code",
   "execution_count": 12,
   "id": "e2da7029-b357-4293-971b-c5496b7257f3",
   "metadata": {},
   "outputs": [
    {
     "data": {
      "image/svg+xml": [
       "<?xml version=\"1.0\" encoding=\"UTF-8\" standalone=\"no\"?>\n",
       "<!DOCTYPE svg PUBLIC \"-//W3C//DTD SVG 1.1//EN\"\n",
       " \"http://www.w3.org/Graphics/SVG/1.1/DTD/svg11.dtd\">\n",
       "<!-- Generated by graphviz version 8.1.0 (20230707.2238)\n",
       " -->\n",
       "<!-- Title: model Pages: 1 -->\n",
       "<svg width=\"237pt\" height=\"435pt\"\n",
       " viewBox=\"0.00 0.00 237.00 435.00\" xmlns=\"http://www.w3.org/2000/svg\" xmlns:xlink=\"http://www.w3.org/1999/xlink\">\n",
       "<g id=\"graph0\" class=\"graph\" transform=\"scale(1 1) rotate(0) translate(4 431)\">\n",
       "<title>model</title>\n",
       "<polygon fill=\"white\" stroke=\"none\" points=\"-4,4 -4,-431 233,-431 233,4 -4,4\"/>\n",
       "<!-- 0 -->\n",
       "<g id=\"node1\" class=\"node\">\n",
       "<title>0</title>\n",
       "<polygon fill=\"lightyellow\" stroke=\"none\" points=\"172.88,-427 56.12,-427 56.12,-391.5 172.88,-391.5 172.88,-427\"/>\n",
       "<polygon fill=\"none\" stroke=\"black\" points=\"56.12,-391.5 56.12,-427 125.38,-427 125.38,-391.5 56.12,-391.5\"/>\n",
       "<text text-anchor=\"start\" x=\"61.12\" y=\"-412.5\" font-family=\"Linux libertine\" font-size=\"10.00\">input&#45;tensor</text>\n",
       "<text text-anchor=\"start\" x=\"72.38\" y=\"-399.75\" font-family=\"Linux libertine\" font-size=\"10.00\">depth:0</text>\n",
       "<polygon fill=\"none\" stroke=\"black\" points=\"125.38,-391.5 125.38,-427 172.88,-427 172.88,-391.5 125.38,-391.5\"/>\n",
       "<text text-anchor=\"start\" x=\"130.38\" y=\"-406.12\" font-family=\"Linux libertine\" font-size=\"10.00\">(5, 180)</text>\n",
       "</g>\n",
       "<!-- 1 -->\n",
       "<g id=\"node2\" class=\"node\">\n",
       "<title>1</title>\n",
       "<polygon fill=\"aliceblue\" stroke=\"none\" points=\"200,-355.5 29,-355.5 29,-311.5 200,-311.5 200,-355.5\"/>\n",
       "<polygon fill=\"none\" stroke=\"black\" points=\"29,-311.5 29,-355.5 91,-355.5 91,-311.5 29,-311.5\"/>\n",
       "<text text-anchor=\"start\" x=\"33.75\" y=\"-336.75\" font-family=\"Linux libertine\" font-size=\"10.00\">unsqueeze</text>\n",
       "<text text-anchor=\"start\" x=\"41.62\" y=\"-324\" font-family=\"Linux libertine\" font-size=\"10.00\">depth:1</text>\n",
       "<polygon fill=\"none\" stroke=\"black\" points=\"91,-333.5 91,-355.5 138,-355.5 138,-333.5 91,-333.5\"/>\n",
       "<text text-anchor=\"start\" x=\"100.62\" y=\"-341\" font-family=\"Linux libertine\" font-size=\"10.00\">input:</text>\n",
       "<polygon fill=\"none\" stroke=\"black\" points=\"138,-333.5 138,-355.5 200,-355.5 200,-333.5 138,-333.5\"/>\n",
       "<text text-anchor=\"start\" x=\"148.75\" y=\"-341\" font-family=\"Linux libertine\" font-size=\"10.00\">(5, 180) </text>\n",
       "<polygon fill=\"none\" stroke=\"black\" points=\"91,-311.5 91,-333.5 138,-333.5 138,-311.5 91,-311.5\"/>\n",
       "<text text-anchor=\"start\" x=\"95.75\" y=\"-319\" font-family=\"Linux libertine\" font-size=\"10.00\">output: </text>\n",
       "<polygon fill=\"none\" stroke=\"black\" points=\"138,-311.5 138,-333.5 200,-333.5 200,-311.5 138,-311.5\"/>\n",
       "<text text-anchor=\"start\" x=\"142.75\" y=\"-319\" font-family=\"Linux libertine\" font-size=\"10.00\">(5, 180, 1) </text>\n",
       "</g>\n",
       "<!-- 0&#45;&gt;1 -->\n",
       "<g id=\"edge1\" class=\"edge\">\n",
       "<title>0&#45;&gt;1</title>\n",
       "<path fill=\"none\" stroke=\"black\" d=\"M114.5,-391.51C114.5,-384.07 114.5,-375.04 114.5,-366.39\"/>\n",
       "<polygon fill=\"black\" stroke=\"black\" points=\"118,-366.39 114.5,-356.39 111,-366.39 118,-366.39\"/>\n",
       "</g>\n",
       "<!-- 2 -->\n",
       "<g id=\"node3\" class=\"node\">\n",
       "<title>2</title>\n",
       "<polygon fill=\"#c1ffc1\" stroke=\"none\" points=\"229,-275.5 0,-275.5 0,-231.5 229,-231.5 229,-275.5\"/>\n",
       "<polygon fill=\"none\" stroke=\"black\" points=\"0,-231.5 0,-275.5 46,-275.5 46,-231.5 0,-231.5\"/>\n",
       "<text text-anchor=\"start\" x=\"9.88\" y=\"-256.75\" font-family=\"Linux libertine\" font-size=\"10.00\">LSTM</text>\n",
       "<text text-anchor=\"start\" x=\"4.62\" y=\"-244\" font-family=\"Linux libertine\" font-size=\"10.00\">depth:1</text>\n",
       "<polygon fill=\"none\" stroke=\"black\" points=\"46,-253.5 46,-275.5 93,-275.5 93,-253.5 46,-253.5\"/>\n",
       "<text text-anchor=\"start\" x=\"55.62\" y=\"-261\" font-family=\"Linux libertine\" font-size=\"10.00\">input:</text>\n",
       "<polygon fill=\"none\" stroke=\"black\" points=\"93,-253.5 93,-275.5 229,-275.5 229,-253.5 93,-253.5\"/>\n",
       "<text text-anchor=\"start\" x=\"134.75\" y=\"-261\" font-family=\"Linux libertine\" font-size=\"10.00\">(5, 180, 1) </text>\n",
       "<polygon fill=\"none\" stroke=\"black\" points=\"46,-231.5 46,-253.5 93,-253.5 93,-231.5 46,-231.5\"/>\n",
       "<text text-anchor=\"start\" x=\"50.75\" y=\"-239\" font-family=\"Linux libertine\" font-size=\"10.00\">output: </text>\n",
       "<polygon fill=\"none\" stroke=\"black\" points=\"93,-231.5 93,-253.5 229,-253.5 229,-231.5 93,-231.5\"/>\n",
       "<text text-anchor=\"start\" x=\"98\" y=\"-239\" font-family=\"Linux libertine\" font-size=\"10.00\">(5, 180, 50), 2 x (4, 5, 50) </text>\n",
       "</g>\n",
       "<!-- 1&#45;&gt;2 -->\n",
       "<g id=\"edge2\" class=\"edge\">\n",
       "<title>1&#45;&gt;2</title>\n",
       "<path fill=\"none\" stroke=\"black\" d=\"M114.5,-311.6C114.5,-303.82 114.5,-294.8 114.5,-286.26\"/>\n",
       "<polygon fill=\"black\" stroke=\"black\" points=\"118,-286.46 114.5,-276.46 111,-286.46 118,-286.46\"/>\n",
       "</g>\n",
       "<!-- 3 -->\n",
       "<g id=\"node4\" class=\"node\">\n",
       "<title>3</title>\n",
       "<polygon fill=\"aliceblue\" stroke=\"none\" points=\"206.5,-195.5 22.5,-195.5 22.5,-151.5 206.5,-151.5 206.5,-195.5\"/>\n",
       "<polygon fill=\"none\" stroke=\"black\" points=\"22.5,-151.5 22.5,-195.5 91.5,-195.5 91.5,-151.5 22.5,-151.5\"/>\n",
       "<text text-anchor=\"start\" x=\"27.38\" y=\"-176.75\" font-family=\"Linux libertine\" font-size=\"10.00\">__getitem__</text>\n",
       "<text text-anchor=\"start\" x=\"38.62\" y=\"-164\" font-family=\"Linux libertine\" font-size=\"10.00\">depth:1</text>\n",
       "<polygon fill=\"none\" stroke=\"black\" points=\"91.5,-173.5 91.5,-195.5 138.5,-195.5 138.5,-173.5 91.5,-173.5\"/>\n",
       "<text text-anchor=\"start\" x=\"101.12\" y=\"-181\" font-family=\"Linux libertine\" font-size=\"10.00\">input:</text>\n",
       "<polygon fill=\"none\" stroke=\"black\" points=\"138.5,-173.5 138.5,-195.5 206.5,-195.5 206.5,-173.5 138.5,-173.5\"/>\n",
       "<text text-anchor=\"start\" x=\"143.25\" y=\"-181\" font-family=\"Linux libertine\" font-size=\"10.00\">(5, 180, 50) </text>\n",
       "<polygon fill=\"none\" stroke=\"black\" points=\"91.5,-151.5 91.5,-173.5 138.5,-173.5 138.5,-151.5 91.5,-151.5\"/>\n",
       "<text text-anchor=\"start\" x=\"96.25\" y=\"-159\" font-family=\"Linux libertine\" font-size=\"10.00\">output: </text>\n",
       "<polygon fill=\"none\" stroke=\"black\" points=\"138.5,-151.5 138.5,-173.5 206.5,-173.5 206.5,-151.5 138.5,-151.5\"/>\n",
       "<text text-anchor=\"start\" x=\"155.25\" y=\"-159\" font-family=\"Linux libertine\" font-size=\"10.00\">(5, 50) </text>\n",
       "</g>\n",
       "<!-- 2&#45;&gt;3 -->\n",
       "<g id=\"edge3\" class=\"edge\">\n",
       "<title>2&#45;&gt;3</title>\n",
       "<path fill=\"none\" stroke=\"black\" d=\"M114.5,-231.6C114.5,-223.82 114.5,-214.8 114.5,-206.26\"/>\n",
       "<polygon fill=\"black\" stroke=\"black\" points=\"118,-206.46 114.5,-196.46 111,-206.46 118,-206.46\"/>\n",
       "</g>\n",
       "<!-- 4 -->\n",
       "<g id=\"node5\" class=\"node\">\n",
       "<title>4</title>\n",
       "<polygon fill=\"#c1ffc1\" stroke=\"none\" points=\"183,-115.5 46,-115.5 46,-71.5 183,-71.5 183,-115.5\"/>\n",
       "<polygon fill=\"none\" stroke=\"black\" points=\"46,-71.5 46,-115.5 92,-115.5 92,-71.5 46,-71.5\"/>\n",
       "<text text-anchor=\"start\" x=\"54\" y=\"-96.75\" font-family=\"Linux libertine\" font-size=\"10.00\">Linear</text>\n",
       "<text text-anchor=\"start\" x=\"50.62\" y=\"-84\" font-family=\"Linux libertine\" font-size=\"10.00\">depth:1</text>\n",
       "<polygon fill=\"none\" stroke=\"black\" points=\"92,-93.5 92,-115.5 139,-115.5 139,-93.5 92,-93.5\"/>\n",
       "<text text-anchor=\"start\" x=\"101.62\" y=\"-101\" font-family=\"Linux libertine\" font-size=\"10.00\">input:</text>\n",
       "<polygon fill=\"none\" stroke=\"black\" points=\"139,-93.5 139,-115.5 183,-115.5 183,-93.5 139,-93.5\"/>\n",
       "<text text-anchor=\"start\" x=\"143.75\" y=\"-101\" font-family=\"Linux libertine\" font-size=\"10.00\">(5, 50) </text>\n",
       "<polygon fill=\"none\" stroke=\"black\" points=\"92,-71.5 92,-93.5 139,-93.5 139,-71.5 92,-71.5\"/>\n",
       "<text text-anchor=\"start\" x=\"96.75\" y=\"-79\" font-family=\"Linux libertine\" font-size=\"10.00\">output: </text>\n",
       "<polygon fill=\"none\" stroke=\"black\" points=\"139,-71.5 139,-93.5 183,-93.5 183,-71.5 139,-71.5\"/>\n",
       "<text text-anchor=\"start\" x=\"146.75\" y=\"-79\" font-family=\"Linux libertine\" font-size=\"10.00\">(5, 1) </text>\n",
       "</g>\n",
       "<!-- 3&#45;&gt;4 -->\n",
       "<g id=\"edge4\" class=\"edge\">\n",
       "<title>3&#45;&gt;4</title>\n",
       "<path fill=\"none\" stroke=\"black\" d=\"M114.5,-151.6C114.5,-143.82 114.5,-134.8 114.5,-126.26\"/>\n",
       "<polygon fill=\"black\" stroke=\"black\" points=\"118,-126.46 114.5,-116.46 111,-126.46 118,-126.46\"/>\n",
       "</g>\n",
       "<!-- 5 -->\n",
       "<g id=\"node6\" class=\"node\">\n",
       "<title>5</title>\n",
       "<polygon fill=\"lightyellow\" stroke=\"none\" points=\"170.25,-35.5 58.75,-35.5 58.75,0 170.25,0 170.25,-35.5\"/>\n",
       "<polygon fill=\"none\" stroke=\"black\" points=\"58.75,0 58.75,-35.5 134.75,-35.5 134.75,0 58.75,0\"/>\n",
       "<text text-anchor=\"start\" x=\"63.75\" y=\"-21\" font-family=\"Linux libertine\" font-size=\"10.00\">output&#45;tensor</text>\n",
       "<text text-anchor=\"start\" x=\"78.38\" y=\"-8.25\" font-family=\"Linux libertine\" font-size=\"10.00\">depth:0</text>\n",
       "<polygon fill=\"none\" stroke=\"black\" points=\"134.75,0 134.75,-35.5 170.25,-35.5 170.25,0 134.75,0\"/>\n",
       "<text text-anchor=\"start\" x=\"139.75\" y=\"-14.62\" font-family=\"Linux libertine\" font-size=\"10.00\">(5, 1)</text>\n",
       "</g>\n",
       "<!-- 4&#45;&gt;5 -->\n",
       "<g id=\"edge5\" class=\"edge\">\n",
       "<title>4&#45;&gt;5</title>\n",
       "<path fill=\"none\" stroke=\"black\" d=\"M114.5,-71.56C114.5,-63.6 114.5,-54.41 114.5,-45.95\"/>\n",
       "<polygon fill=\"black\" stroke=\"black\" points=\"118,-46.05 114.5,-36.05 111,-46.05 118,-46.05\"/>\n",
       "</g>\n",
       "</g>\n",
       "</svg>\n"
      ],
      "text/plain": [
       "<graphviz.graphs.Digraph at 0x7feef8700110>"
      ]
     },
     "execution_count": 12,
     "metadata": {},
     "output_type": "execute_result"
    }
   ],
   "source": [
    "model_graph = draw_graph(model,\n",
    "                         input_data=torch.Tensor(x_train[0:5]).float(),\n",
    "                         device=device,\n",
    "                         hide_inner_tensors=True,\n",
    "                         hide_module_functions=True,\n",
    "                         expand_nested=False,\n",
    "                         depth=3,\n",
    "                         dtypes=[torch.long])\n",
    "\n",
    "model_graph.visual_graph"
   ]
  },
  {
   "cell_type": "code",
   "execution_count": 13,
   "id": "643df836-e85a-4d03-8226-fc56cf8b3cf6",
   "metadata": {},
   "outputs": [],
   "source": [
    "xy_train = torch.utils.data.DataLoader(list(zip(torch.Tensor(x_train).float(),\n",
    "                                                torch.Tensor(y_train).float())), \n",
    "                                       shuffle=True, \n",
    "                                       batch_size=cfg_batch_size, \n",
    "                                       num_workers=cfg_num_workers)\n",
    "\n",
    "xy_val = torch.utils.data.DataLoader(list(zip(torch.Tensor(x_val).float(), \n",
    "                                              torch.Tensor(y_val).float())), \n",
    "                                     shuffle=False, \n",
    "                                     batch_size=cfg_batch_size, \n",
    "                                     num_workers=cfg_num_workers)"
   ]
  },
  {
   "cell_type": "code",
   "execution_count": 14,
   "id": "97c23877-fe6c-4154-8233-5aff37f0a28d",
   "metadata": {},
   "outputs": [],
   "source": [
    "logger = pl.loggers.CSVLogger(\"lightning_logs\", \n",
    "                              name=\"Project\",\n",
    "                              version=\"1.0.0\")"
   ]
  },
  {
   "cell_type": "code",
   "execution_count": 15,
   "id": "5f02ae27-a084-4d2b-bab9-af0a4b32c53c",
   "metadata": {},
   "outputs": [
    {
     "name": "stderr",
     "output_type": "stream",
     "text": [
      "GPU available: True (cuda), used: True\n",
      "TPU available: False, using: 0 TPU cores\n",
      "IPU available: False, using: 0 IPUs\n",
      "HPU available: False, using: 0 HPUs\n"
     ]
    }
   ],
   "source": [
    "trainer = pl.Trainer(logger=logger, max_epochs=cfg_max_epochs,\n",
    "                     enable_progress_bar=True,\n",
    "                     log_every_n_steps=0,\n",
    "                     enable_checkpointing=False, \n",
    "                     callbacks=[pl.callbacks.TQDMProgressBar(refresh_rate=50)])"
   ]
  },
  {
   "cell_type": "code",
   "execution_count": 16,
   "id": "434715be-7a7c-46cc-af84-f64d25ed572b",
   "metadata": {},
   "outputs": [
    {
     "name": "stderr",
     "output_type": "stream",
     "text": [
      "/opt/conda/lib/python3.11/site-packages/lightning/fabric/loggers/csv_logs.py:195: UserWarning:\n",
      "\n",
      "Experiment logs directory lightning_logs/Project/1.0.0 exists and is not empty. Previous log files in this directory will be deleted when the new ones are saved!\n",
      "\n",
      "LOCAL_RANK: 0 - CUDA_VISIBLE_DEVICES: [0]\n",
      "SLURM auto-requeueing enabled. Setting signal handlers.\n",
      "/opt/conda/lib/python3.11/site-packages/lightning/pytorch/trainer/connectors/data_connector.py:442: PossibleUserWarning:\n",
      "\n",
      "The dataloader, val_dataloader, does not have many workers which may be a bottleneck. Consider increasing the value of the `num_workers` argument` (try 20 which is the number of cpus on this machine) in the `DataLoader` init to improve performance.\n",
      "\n"
     ]
    },
    {
     "data": {
      "application/vnd.jupyter.widget-view+json": {
       "model_id": "b94ca78e5bb946f4ba55084182ab2d99",
       "version_major": 2,
       "version_minor": 0
      },
      "text/plain": [
       "Validation: 0it [00:00, ?it/s]"
      ]
     },
     "metadata": {},
     "output_type": "display_data"
    },
    {
     "name": "stderr",
     "output_type": "stream",
     "text": [
      "/opt/conda/lib/python3.11/site-packages/torch/nn/modules/loss.py:536: UserWarning:\n",
      "\n",
      "Using a target size (torch.Size([50])) that is different to the input size (torch.Size([50, 1])). This will likely lead to incorrect results due to broadcasting. Please ensure they have the same size.\n",
      "\n",
      "/opt/conda/lib/python3.11/site-packages/torch/nn/modules/loss.py:536: UserWarning:\n",
      "\n",
      "Using a target size (torch.Size([30])) that is different to the input size (torch.Size([30, 1])). This will likely lead to incorrect results due to broadcasting. Please ensure they have the same size.\n",
      "\n"
     ]
    },
    {
     "data": {
      "text/html": [
       "<pre style=\"white-space:pre;overflow-x:auto;line-height:normal;font-family:Menlo,'DejaVu Sans Mono',consolas,'Courier New',monospace\">┏━━━━━━━━━━━━━━━━━━━━━━━━━━━┳━━━━━━━━━━━━━━━━━━━━━━━━━━━┓\n",
       "┃<span style=\"font-weight: bold\">  Runningstage.validating  </span>┃<span style=\"font-weight: bold\">                           </span>┃\n",
       "┃<span style=\"font-weight: bold\">          metric           </span>┃<span style=\"font-weight: bold\">       DataLoader 0        </span>┃\n",
       "┡━━━━━━━━━━━━━━━━━━━━━━━━━━━╇━━━━━━━━━━━━━━━━━━━━━━━━━━━┩\n",
       "│<span style=\"color: #008080; text-decoration-color: #008080\">         val_loss          </span>│<span style=\"color: #800080; text-decoration-color: #800080\">    0.3168419301509857     </span>│\n",
       "│<span style=\"color: #008080; text-decoration-color: #008080\">        val_offset         </span>│<span style=\"color: #800080; text-decoration-color: #800080\">    26.698944091796875     </span>│\n",
       "└───────────────────────────┴───────────────────────────┘\n",
       "</pre>\n"
      ],
      "text/plain": [
       "┏━━━━━━━━━━━━━━━━━━━━━━━━━━━┳━━━━━━━━━━━━━━━━━━━━━━━━━━━┓\n",
       "┃\u001b[1m \u001b[0m\u001b[1m Runningstage.validating \u001b[0m\u001b[1m \u001b[0m┃\u001b[1m                           \u001b[0m┃\n",
       "┃\u001b[1m \u001b[0m\u001b[1m         metric          \u001b[0m\u001b[1m \u001b[0m┃\u001b[1m \u001b[0m\u001b[1m      DataLoader 0       \u001b[0m\u001b[1m \u001b[0m┃\n",
       "┡━━━━━━━━━━━━━━━━━━━━━━━━━━━╇━━━━━━━━━━━━━━━━━━━━━━━━━━━┩\n",
       "│\u001b[36m \u001b[0m\u001b[36m        val_loss         \u001b[0m\u001b[36m \u001b[0m│\u001b[35m \u001b[0m\u001b[35m   0.3168419301509857    \u001b[0m\u001b[35m \u001b[0m│\n",
       "│\u001b[36m \u001b[0m\u001b[36m       val_offset        \u001b[0m\u001b[36m \u001b[0m│\u001b[35m \u001b[0m\u001b[35m   26.698944091796875    \u001b[0m\u001b[35m \u001b[0m│\n",
       "└───────────────────────────┴───────────────────────────┘\n"
      ]
     },
     "metadata": {},
     "output_type": "display_data"
    },
    {
     "data": {
      "text/plain": [
       "[{'val_loss': 0.3168419301509857, 'val_offset': 26.698944091796875}]"
      ]
     },
     "execution_count": 16,
     "metadata": {},
     "output_type": "execute_result"
    }
   ],
   "source": [
    "trainer.validate(model, xy_val)"
   ]
  },
  {
   "cell_type": "code",
   "execution_count": 17,
   "id": "2623d1a3-44a6-4d6a-921d-9c9756e2ff9a",
   "metadata": {},
   "outputs": [
    {
     "name": "stderr",
     "output_type": "stream",
     "text": [
      "LOCAL_RANK: 0 - CUDA_VISIBLE_DEVICES: [0]\n",
      "\n",
      "  | Name    | Type      | Params\n",
      "--------------------------------------\n",
      "0 | lstm    | LSTM      | 71.8 K\n",
      "1 | dropout | Dropout1d | 0     \n",
      "2 | linear  | Linear    | 51    \n",
      "3 | loss    | MSELoss   | 0     \n",
      "--------------------------------------\n",
      "71.9 K    Trainable params\n",
      "0         Non-trainable params\n",
      "71.9 K    Total params\n",
      "0.287     Total estimated model params size (MB)\n",
      "SLURM auto-requeueing enabled. Setting signal handlers.\n"
     ]
    },
    {
     "data": {
      "application/vnd.jupyter.widget-view+json": {
       "model_id": "",
       "version_major": 2,
       "version_minor": 0
      },
      "text/plain": [
       "Sanity Checking: 0it [00:00, ?it/s]"
      ]
     },
     "metadata": {},
     "output_type": "display_data"
    },
    {
     "name": "stderr",
     "output_type": "stream",
     "text": [
      "/opt/conda/lib/python3.11/site-packages/lightning/pytorch/trainer/connectors/data_connector.py:442: PossibleUserWarning:\n",
      "\n",
      "The dataloader, train_dataloader, does not have many workers which may be a bottleneck. Consider increasing the value of the `num_workers` argument` (try 20 which is the number of cpus on this machine) in the `DataLoader` init to improve performance.\n",
      "\n"
     ]
    },
    {
     "data": {
      "application/vnd.jupyter.widget-view+json": {
       "model_id": "6d1d65fd30304377aa7004151d31d334",
       "version_major": 2,
       "version_minor": 0
      },
      "text/plain": [
       "Training: 0it [00:00, ?it/s]"
      ]
     },
     "metadata": {},
     "output_type": "display_data"
    },
    {
     "name": "stderr",
     "output_type": "stream",
     "text": [
      "/opt/conda/lib/python3.11/site-packages/torch/nn/modules/loss.py:536: UserWarning:\n",
      "\n",
      "Using a target size (torch.Size([16])) that is different to the input size (torch.Size([16, 1])). This will likely lead to incorrect results due to broadcasting. Please ensure they have the same size.\n",
      "\n"
     ]
    },
    {
     "data": {
      "application/vnd.jupyter.widget-view+json": {
       "model_id": "",
       "version_major": 2,
       "version_minor": 0
      },
      "text/plain": [
       "Validation: 0it [00:00, ?it/s]"
      ]
     },
     "metadata": {},
     "output_type": "display_data"
    },
    {
     "data": {
      "application/vnd.jupyter.widget-view+json": {
       "model_id": "",
       "version_major": 2,
       "version_minor": 0
      },
      "text/plain": [
       "Validation: 0it [00:00, ?it/s]"
      ]
     },
     "metadata": {},
     "output_type": "display_data"
    },
    {
     "data": {
      "application/vnd.jupyter.widget-view+json": {
       "model_id": "",
       "version_major": 2,
       "version_minor": 0
      },
      "text/plain": [
       "Validation: 0it [00:00, ?it/s]"
      ]
     },
     "metadata": {},
     "output_type": "display_data"
    },
    {
     "data": {
      "application/vnd.jupyter.widget-view+json": {
       "model_id": "",
       "version_major": 2,
       "version_minor": 0
      },
      "text/plain": [
       "Validation: 0it [00:00, ?it/s]"
      ]
     },
     "metadata": {},
     "output_type": "display_data"
    },
    {
     "data": {
      "application/vnd.jupyter.widget-view+json": {
       "model_id": "",
       "version_major": 2,
       "version_minor": 0
      },
      "text/plain": [
       "Validation: 0it [00:00, ?it/s]"
      ]
     },
     "metadata": {},
     "output_type": "display_data"
    },
    {
     "data": {
      "application/vnd.jupyter.widget-view+json": {
       "model_id": "",
       "version_major": 2,
       "version_minor": 0
      },
      "text/plain": [
       "Validation: 0it [00:00, ?it/s]"
      ]
     },
     "metadata": {},
     "output_type": "display_data"
    },
    {
     "data": {
      "application/vnd.jupyter.widget-view+json": {
       "model_id": "",
       "version_major": 2,
       "version_minor": 0
      },
      "text/plain": [
       "Validation: 0it [00:00, ?it/s]"
      ]
     },
     "metadata": {},
     "output_type": "display_data"
    },
    {
     "data": {
      "application/vnd.jupyter.widget-view+json": {
       "model_id": "",
       "version_major": 2,
       "version_minor": 0
      },
      "text/plain": [
       "Validation: 0it [00:00, ?it/s]"
      ]
     },
     "metadata": {},
     "output_type": "display_data"
    },
    {
     "data": {
      "application/vnd.jupyter.widget-view+json": {
       "model_id": "",
       "version_major": 2,
       "version_minor": 0
      },
      "text/plain": [
       "Validation: 0it [00:00, ?it/s]"
      ]
     },
     "metadata": {},
     "output_type": "display_data"
    },
    {
     "data": {
      "application/vnd.jupyter.widget-view+json": {
       "model_id": "",
       "version_major": 2,
       "version_minor": 0
      },
      "text/plain": [
       "Validation: 0it [00:00, ?it/s]"
      ]
     },
     "metadata": {},
     "output_type": "display_data"
    },
    {
     "data": {
      "application/vnd.jupyter.widget-view+json": {
       "model_id": "",
       "version_major": 2,
       "version_minor": 0
      },
      "text/plain": [
       "Validation: 0it [00:00, ?it/s]"
      ]
     },
     "metadata": {},
     "output_type": "display_data"
    },
    {
     "data": {
      "application/vnd.jupyter.widget-view+json": {
       "model_id": "",
       "version_major": 2,
       "version_minor": 0
      },
      "text/plain": [
       "Validation: 0it [00:00, ?it/s]"
      ]
     },
     "metadata": {},
     "output_type": "display_data"
    },
    {
     "data": {
      "application/vnd.jupyter.widget-view+json": {
       "model_id": "",
       "version_major": 2,
       "version_minor": 0
      },
      "text/plain": [
       "Validation: 0it [00:00, ?it/s]"
      ]
     },
     "metadata": {},
     "output_type": "display_data"
    },
    {
     "data": {
      "application/vnd.jupyter.widget-view+json": {
       "model_id": "",
       "version_major": 2,
       "version_minor": 0
      },
      "text/plain": [
       "Validation: 0it [00:00, ?it/s]"
      ]
     },
     "metadata": {},
     "output_type": "display_data"
    },
    {
     "data": {
      "application/vnd.jupyter.widget-view+json": {
       "model_id": "",
       "version_major": 2,
       "version_minor": 0
      },
      "text/plain": [
       "Validation: 0it [00:00, ?it/s]"
      ]
     },
     "metadata": {},
     "output_type": "display_data"
    },
    {
     "data": {
      "application/vnd.jupyter.widget-view+json": {
       "model_id": "",
       "version_major": 2,
       "version_minor": 0
      },
      "text/plain": [
       "Validation: 0it [00:00, ?it/s]"
      ]
     },
     "metadata": {},
     "output_type": "display_data"
    },
    {
     "data": {
      "application/vnd.jupyter.widget-view+json": {
       "model_id": "",
       "version_major": 2,
       "version_minor": 0
      },
      "text/plain": [
       "Validation: 0it [00:00, ?it/s]"
      ]
     },
     "metadata": {},
     "output_type": "display_data"
    },
    {
     "data": {
      "application/vnd.jupyter.widget-view+json": {
       "model_id": "",
       "version_major": 2,
       "version_minor": 0
      },
      "text/plain": [
       "Validation: 0it [00:00, ?it/s]"
      ]
     },
     "metadata": {},
     "output_type": "display_data"
    },
    {
     "data": {
      "application/vnd.jupyter.widget-view+json": {
       "model_id": "",
       "version_major": 2,
       "version_minor": 0
      },
      "text/plain": [
       "Validation: 0it [00:00, ?it/s]"
      ]
     },
     "metadata": {},
     "output_type": "display_data"
    },
    {
     "data": {
      "application/vnd.jupyter.widget-view+json": {
       "model_id": "",
       "version_major": 2,
       "version_minor": 0
      },
      "text/plain": [
       "Validation: 0it [00:00, ?it/s]"
      ]
     },
     "metadata": {},
     "output_type": "display_data"
    },
    {
     "data": {
      "application/vnd.jupyter.widget-view+json": {
       "model_id": "",
       "version_major": 2,
       "version_minor": 0
      },
      "text/plain": [
       "Validation: 0it [00:00, ?it/s]"
      ]
     },
     "metadata": {},
     "output_type": "display_data"
    },
    {
     "data": {
      "application/vnd.jupyter.widget-view+json": {
       "model_id": "",
       "version_major": 2,
       "version_minor": 0
      },
      "text/plain": [
       "Validation: 0it [00:00, ?it/s]"
      ]
     },
     "metadata": {},
     "output_type": "display_data"
    },
    {
     "data": {
      "application/vnd.jupyter.widget-view+json": {
       "model_id": "",
       "version_major": 2,
       "version_minor": 0
      },
      "text/plain": [
       "Validation: 0it [00:00, ?it/s]"
      ]
     },
     "metadata": {},
     "output_type": "display_data"
    },
    {
     "data": {
      "application/vnd.jupyter.widget-view+json": {
       "model_id": "",
       "version_major": 2,
       "version_minor": 0
      },
      "text/plain": [
       "Validation: 0it [00:00, ?it/s]"
      ]
     },
     "metadata": {},
     "output_type": "display_data"
    },
    {
     "data": {
      "application/vnd.jupyter.widget-view+json": {
       "model_id": "",
       "version_major": 2,
       "version_minor": 0
      },
      "text/plain": [
       "Validation: 0it [00:00, ?it/s]"
      ]
     },
     "metadata": {},
     "output_type": "display_data"
    },
    {
     "data": {
      "application/vnd.jupyter.widget-view+json": {
       "model_id": "",
       "version_major": 2,
       "version_minor": 0
      },
      "text/plain": [
       "Validation: 0it [00:00, ?it/s]"
      ]
     },
     "metadata": {},
     "output_type": "display_data"
    },
    {
     "data": {
      "application/vnd.jupyter.widget-view+json": {
       "model_id": "",
       "version_major": 2,
       "version_minor": 0
      },
      "text/plain": [
       "Validation: 0it [00:00, ?it/s]"
      ]
     },
     "metadata": {},
     "output_type": "display_data"
    },
    {
     "data": {
      "application/vnd.jupyter.widget-view+json": {
       "model_id": "",
       "version_major": 2,
       "version_minor": 0
      },
      "text/plain": [
       "Validation: 0it [00:00, ?it/s]"
      ]
     },
     "metadata": {},
     "output_type": "display_data"
    },
    {
     "data": {
      "application/vnd.jupyter.widget-view+json": {
       "model_id": "",
       "version_major": 2,
       "version_minor": 0
      },
      "text/plain": [
       "Validation: 0it [00:00, ?it/s]"
      ]
     },
     "metadata": {},
     "output_type": "display_data"
    },
    {
     "data": {
      "application/vnd.jupyter.widget-view+json": {
       "model_id": "",
       "version_major": 2,
       "version_minor": 0
      },
      "text/plain": [
       "Validation: 0it [00:00, ?it/s]"
      ]
     },
     "metadata": {},
     "output_type": "display_data"
    },
    {
     "data": {
      "application/vnd.jupyter.widget-view+json": {
       "model_id": "",
       "version_major": 2,
       "version_minor": 0
      },
      "text/plain": [
       "Validation: 0it [00:00, ?it/s]"
      ]
     },
     "metadata": {},
     "output_type": "display_data"
    },
    {
     "data": {
      "application/vnd.jupyter.widget-view+json": {
       "model_id": "",
       "version_major": 2,
       "version_minor": 0
      },
      "text/plain": [
       "Validation: 0it [00:00, ?it/s]"
      ]
     },
     "metadata": {},
     "output_type": "display_data"
    },
    {
     "data": {
      "application/vnd.jupyter.widget-view+json": {
       "model_id": "",
       "version_major": 2,
       "version_minor": 0
      },
      "text/plain": [
       "Validation: 0it [00:00, ?it/s]"
      ]
     },
     "metadata": {},
     "output_type": "display_data"
    },
    {
     "data": {
      "application/vnd.jupyter.widget-view+json": {
       "model_id": "",
       "version_major": 2,
       "version_minor": 0
      },
      "text/plain": [
       "Validation: 0it [00:00, ?it/s]"
      ]
     },
     "metadata": {},
     "output_type": "display_data"
    },
    {
     "data": {
      "application/vnd.jupyter.widget-view+json": {
       "model_id": "",
       "version_major": 2,
       "version_minor": 0
      },
      "text/plain": [
       "Validation: 0it [00:00, ?it/s]"
      ]
     },
     "metadata": {},
     "output_type": "display_data"
    },
    {
     "data": {
      "application/vnd.jupyter.widget-view+json": {
       "model_id": "",
       "version_major": 2,
       "version_minor": 0
      },
      "text/plain": [
       "Validation: 0it [00:00, ?it/s]"
      ]
     },
     "metadata": {},
     "output_type": "display_data"
    },
    {
     "data": {
      "application/vnd.jupyter.widget-view+json": {
       "model_id": "",
       "version_major": 2,
       "version_minor": 0
      },
      "text/plain": [
       "Validation: 0it [00:00, ?it/s]"
      ]
     },
     "metadata": {},
     "output_type": "display_data"
    },
    {
     "data": {
      "application/vnd.jupyter.widget-view+json": {
       "model_id": "",
       "version_major": 2,
       "version_minor": 0
      },
      "text/plain": [
       "Validation: 0it [00:00, ?it/s]"
      ]
     },
     "metadata": {},
     "output_type": "display_data"
    },
    {
     "data": {
      "application/vnd.jupyter.widget-view+json": {
       "model_id": "",
       "version_major": 2,
       "version_minor": 0
      },
      "text/plain": [
       "Validation: 0it [00:00, ?it/s]"
      ]
     },
     "metadata": {},
     "output_type": "display_data"
    },
    {
     "data": {
      "application/vnd.jupyter.widget-view+json": {
       "model_id": "",
       "version_major": 2,
       "version_minor": 0
      },
      "text/plain": [
       "Validation: 0it [00:00, ?it/s]"
      ]
     },
     "metadata": {},
     "output_type": "display_data"
    },
    {
     "data": {
      "application/vnd.jupyter.widget-view+json": {
       "model_id": "",
       "version_major": 2,
       "version_minor": 0
      },
      "text/plain": [
       "Validation: 0it [00:00, ?it/s]"
      ]
     },
     "metadata": {},
     "output_type": "display_data"
    },
    {
     "data": {
      "application/vnd.jupyter.widget-view+json": {
       "model_id": "",
       "version_major": 2,
       "version_minor": 0
      },
      "text/plain": [
       "Validation: 0it [00:00, ?it/s]"
      ]
     },
     "metadata": {},
     "output_type": "display_data"
    },
    {
     "data": {
      "application/vnd.jupyter.widget-view+json": {
       "model_id": "",
       "version_major": 2,
       "version_minor": 0
      },
      "text/plain": [
       "Validation: 0it [00:00, ?it/s]"
      ]
     },
     "metadata": {},
     "output_type": "display_data"
    },
    {
     "data": {
      "application/vnd.jupyter.widget-view+json": {
       "model_id": "",
       "version_major": 2,
       "version_minor": 0
      },
      "text/plain": [
       "Validation: 0it [00:00, ?it/s]"
      ]
     },
     "metadata": {},
     "output_type": "display_data"
    },
    {
     "data": {
      "application/vnd.jupyter.widget-view+json": {
       "model_id": "",
       "version_major": 2,
       "version_minor": 0
      },
      "text/plain": [
       "Validation: 0it [00:00, ?it/s]"
      ]
     },
     "metadata": {},
     "output_type": "display_data"
    },
    {
     "data": {
      "application/vnd.jupyter.widget-view+json": {
       "model_id": "3359a99a3ec74b849b8de21f436d760e",
       "version_major": 2,
       "version_minor": 0
      },
      "text/plain": [
       "Validation: 0it [00:00, ?it/s]"
      ]
     },
     "metadata": {},
     "output_type": "display_data"
    },
    {
     "data": {
      "application/vnd.jupyter.widget-view+json": {
       "model_id": "17ccc5d7ba064b4c9171f178128e5dfc",
       "version_major": 2,
       "version_minor": 0
      },
      "text/plain": [
       "Validation: 0it [00:00, ?it/s]"
      ]
     },
     "metadata": {},
     "output_type": "display_data"
    },
    {
     "data": {
      "application/vnd.jupyter.widget-view+json": {
       "model_id": "da8bc1eafbba48279e3e1078a0e9ac2b",
       "version_major": 2,
       "version_minor": 0
      },
      "text/plain": [
       "Validation: 0it [00:00, ?it/s]"
      ]
     },
     "metadata": {},
     "output_type": "display_data"
    },
    {
     "data": {
      "application/vnd.jupyter.widget-view+json": {
       "model_id": "3b29792a7ccf4494b7ef71b1489f7063",
       "version_major": 2,
       "version_minor": 0
      },
      "text/plain": [
       "Validation: 0it [00:00, ?it/s]"
      ]
     },
     "metadata": {},
     "output_type": "display_data"
    },
    {
     "data": {
      "application/vnd.jupyter.widget-view+json": {
       "model_id": "9de2a73add9247a3a5d56fcb5b77e064",
       "version_major": 2,
       "version_minor": 0
      },
      "text/plain": [
       "Validation: 0it [00:00, ?it/s]"
      ]
     },
     "metadata": {},
     "output_type": "display_data"
    },
    {
     "name": "stderr",
     "output_type": "stream",
     "text": [
      "`Trainer.fit` stopped: `max_epochs=50` reached.\n"
     ]
    }
   ],
   "source": [
    "trainer.fit(model, xy_train, xy_val) "
   ]
  },
  {
   "cell_type": "code",
   "execution_count": 18,
   "id": "6d8f4eda-2701-4e45-a1b4-a182912431fa",
   "metadata": {},
   "outputs": [
    {
     "data": {
      "text/html": [
       "<div>\n",
       "<style scoped>\n",
       "    .dataframe tbody tr th:only-of-type {\n",
       "        vertical-align: middle;\n",
       "    }\n",
       "\n",
       "    .dataframe tbody tr th {\n",
       "        vertical-align: top;\n",
       "    }\n",
       "\n",
       "    .dataframe thead th {\n",
       "        text-align: right;\n",
       "    }\n",
       "</style>\n",
       "<table border=\"1\" class=\"dataframe\">\n",
       "  <thead>\n",
       "    <tr style=\"text-align: right;\">\n",
       "      <th></th>\n",
       "      <th>val_loss</th>\n",
       "      <th>val_offset</th>\n",
       "      <th>epoch</th>\n",
       "      <th>step</th>\n",
       "      <th>train_loss</th>\n",
       "      <th>train_offset</th>\n",
       "    </tr>\n",
       "  </thead>\n",
       "  <tbody>\n",
       "    <tr>\n",
       "      <th>0</th>\n",
       "      <td>0.316842</td>\n",
       "      <td>26.698944</td>\n",
       "      <td>0</td>\n",
       "      <td>0</td>\n",
       "      <td>NaN</td>\n",
       "      <td>NaN</td>\n",
       "    </tr>\n",
       "    <tr>\n",
       "      <th>1</th>\n",
       "      <td>0.249444</td>\n",
       "      <td>23.533852</td>\n",
       "      <td>0</td>\n",
       "      <td>26</td>\n",
       "      <td>NaN</td>\n",
       "      <td>NaN</td>\n",
       "    </tr>\n",
       "    <tr>\n",
       "      <th>2</th>\n",
       "      <td>NaN</td>\n",
       "      <td>NaN</td>\n",
       "      <td>0</td>\n",
       "      <td>26</td>\n",
       "      <td>0.165880</td>\n",
       "      <td>18.774204</td>\n",
       "    </tr>\n",
       "    <tr>\n",
       "      <th>3</th>\n",
       "      <td>0.170043</td>\n",
       "      <td>19.135494</td>\n",
       "      <td>1</td>\n",
       "      <td>53</td>\n",
       "      <td>NaN</td>\n",
       "      <td>NaN</td>\n",
       "    </tr>\n",
       "    <tr>\n",
       "      <th>4</th>\n",
       "      <td>NaN</td>\n",
       "      <td>NaN</td>\n",
       "      <td>1</td>\n",
       "      <td>53</td>\n",
       "      <td>0.115848</td>\n",
       "      <td>15.111219</td>\n",
       "    </tr>\n",
       "    <tr>\n",
       "      <th>...</th>\n",
       "      <td>...</td>\n",
       "      <td>...</td>\n",
       "      <td>...</td>\n",
       "      <td>...</td>\n",
       "      <td>...</td>\n",
       "      <td>...</td>\n",
       "    </tr>\n",
       "    <tr>\n",
       "      <th>96</th>\n",
       "      <td>NaN</td>\n",
       "      <td>NaN</td>\n",
       "      <td>47</td>\n",
       "      <td>1295</td>\n",
       "      <td>0.022770</td>\n",
       "      <td>0.109871</td>\n",
       "    </tr>\n",
       "    <tr>\n",
       "      <th>97</th>\n",
       "      <td>0.038716</td>\n",
       "      <td>7.245582</td>\n",
       "      <td>48</td>\n",
       "      <td>1322</td>\n",
       "      <td>NaN</td>\n",
       "      <td>NaN</td>\n",
       "    </tr>\n",
       "    <tr>\n",
       "      <th>98</th>\n",
       "      <td>NaN</td>\n",
       "      <td>NaN</td>\n",
       "      <td>48</td>\n",
       "      <td>1322</td>\n",
       "      <td>0.022949</td>\n",
       "      <td>0.113006</td>\n",
       "    </tr>\n",
       "    <tr>\n",
       "      <th>99</th>\n",
       "      <td>0.033442</td>\n",
       "      <td>6.289355</td>\n",
       "      <td>49</td>\n",
       "      <td>1349</td>\n",
       "      <td>NaN</td>\n",
       "      <td>NaN</td>\n",
       "    </tr>\n",
       "    <tr>\n",
       "      <th>100</th>\n",
       "      <td>NaN</td>\n",
       "      <td>NaN</td>\n",
       "      <td>49</td>\n",
       "      <td>1349</td>\n",
       "      <td>0.022834</td>\n",
       "      <td>0.176643</td>\n",
       "    </tr>\n",
       "  </tbody>\n",
       "</table>\n",
       "<p>101 rows × 6 columns</p>\n",
       "</div>"
      ],
      "text/plain": [
       "     val_loss  val_offset  epoch  step  train_loss  train_offset\n",
       "0    0.316842   26.698944      0     0         NaN           NaN\n",
       "1    0.249444   23.533852      0    26         NaN           NaN\n",
       "2         NaN         NaN      0    26    0.165880     18.774204\n",
       "3    0.170043   19.135494      1    53         NaN           NaN\n",
       "4         NaN         NaN      1    53    0.115848     15.111219\n",
       "..        ...         ...    ...   ...         ...           ...\n",
       "96        NaN         NaN     47  1295    0.022770      0.109871\n",
       "97   0.038716    7.245582     48  1322         NaN           NaN\n",
       "98        NaN         NaN     48  1322    0.022949      0.113006\n",
       "99   0.033442    6.289355     49  1349         NaN           NaN\n",
       "100       NaN         NaN     49  1349    0.022834      0.176643\n",
       "\n",
       "[101 rows x 6 columns]"
      ]
     },
     "execution_count": 18,
     "metadata": {},
     "output_type": "execute_result"
    }
   ],
   "source": [
    "results = pd.read_csv(logger.log_dir+\"/metrics.csv\")\n",
    "results"
   ]
  },
  {
   "cell_type": "code",
   "execution_count": 19,
   "id": "d9156268-0afc-4513-ae82-b468ec25d875",
   "metadata": {},
   "outputs": [
    {
     "data": {
      "image/png": "[encoded data removed]",
      "text/plain": [
       "<Figure size 640x480 with 1 Axes>"
      ]
     },
     "metadata": {},
     "output_type": "display_data"
    }
   ],
   "source": [
    "plt.plot(results[\"epoch\"][np.logical_not(np.isnan(results[\"train_loss\"]))],\n",
    "         results[\"train_loss\"][np.logical_not(np.isnan(results[\"train_loss\"]))],\n",
    "         label=\"Training\")\n",
    "\n",
    "plt.plot(results[\"epoch\"][np.logical_not(np.isnan(results[\"val_loss\"]))], \n",
    "         results[\"val_loss\"][np.logical_not(np.isnan(results[\"val_loss\"]))], \n",
    "         label=\"Validation\")\n",
    "\n",
    "plt.legend() \n",
    "plt.ylabel(\"MSE Loss\") \n",
    "plt.xlabel(\"Epoch\") \n",
    "plt.show()"
   ]
  },
  {
   "cell_type": "code",
   "execution_count": 20,
   "id": "744687d4-8cf0-45d7-bef4-147ce7ad1b32",
   "metadata": {},
   "outputs": [
    {
     "data": {
      "image/png": "[encoded data removed]",
      "text/plain": [
       "<Figure size 640x480 with 1 Axes>"
      ]
     },
     "metadata": {},
     "output_type": "display_data"
    }
   ],
   "source": [
    "plt.plot(results[\"epoch\"][np.logical_not(np.isnan(results[\"train_offset\"]))],\n",
    "         results[\"train_offset\"][np.logical_not(np.isnan(results[\"train_offset\"]))],\n",
    "         label=\"Training\")\n",
    "\n",
    "plt.plot(results[\"epoch\"][np.logical_not(np.isnan(results[\"val_offset\"]))], \n",
    "         results[\"val_offset\"][np.logical_not(np.isnan(results[\"val_offset\"]))], \n",
    "         label=\"Validation\")\n",
    "\n",
    "plt.legend() \n",
    "plt.ylabel(\"Offset\") \n",
    "plt.xlabel(\"Epoch\") \n",
    "plt.show()"
   ]
  },
  {
   "cell_type": "code",
   "execution_count": 21,
   "id": "d9159a32-0dc0-4ad7-ba6f-e0e2a35b839a",
   "metadata": {},
   "outputs": [
    {
     "data": {
      "image/png": "[encoded data removed]",
      "text/plain": [
       "<Figure size 1000x600 with 1 Axes>"
      ]
     },
     "metadata": {},
     "output_type": "display_data"
    }
   ],
   "source": [
    "plt.figure(figsize=(10, 6))  # Set the figure size\n",
    "plt.plot(df['sales'], label='7-Day Rolling Average of Sales')  # Plot the sales data\n",
    "plt.xlabel('Date')  # Label for the x-axis\n",
    "plt.ylabel('Sales')  # Label for the y-axis\n",
    "plt.title('7-Day Rolling Average of Sales Over Time')  # Title of the plot\n",
    "plt.legend()  # Add a legend\n",
    "plt.show() "
   ]
  },
  {
   "cell_type": "code",
   "execution_count": 44,
   "id": "5fda7ba8-0c46-441d-892d-13360f64c1ef",
   "metadata": {},
   "outputs": [
    {
     "name": "stdout",
     "output_type": "stream",
     "text": [
      "(1, 500)\n",
      "torch.Size([1, 500])\n",
      "tensor([[0.6116, 0.6114, 0.6112, 0.6113, 0.6117, 0.6113, 0.6122, 0.6117, 0.6120,\n",
      "         0.6111, 0.6109, 0.6109, 0.6125, 0.6048, 0.5953, 0.5836, 0.5738, 0.5661,\n",
      "         0.5575, 0.5464, 0.5436, 0.5437, 0.5444, 0.5424, 0.5420, 0.5421, 0.5419,\n",
      "         0.5430, 0.5432, 0.5429, 0.5451, 0.5467, 0.5469, 0.5480, 0.5485, 0.5481,\n",
      "         0.5486, 0.5479, 0.5465, 0.5464, 0.5475, 0.5468, 0.5464, 0.5349, 0.5243,\n",
      "         0.5185, 0.5106, 0.5005, 0.4912, 0.4816, 0.4842, 0.4838, 0.4823, 0.4833,\n",
      "         0.4828, 0.4823, 0.4824, 0.4820, 0.4838, 0.4844, 0.4827, 0.4845, 0.4865,\n",
      "         0.4873, 0.4867, 0.4850, 0.4852, 0.4872, 0.4846, 0.4837, 0.4840, 0.4831,\n",
      "         0.4822, 0.4819, 0.4890, 0.5004, 0.5083, 0.5166, 0.5280, 0.5401, 0.5458,\n",
      "         0.5452, 0.5438, 0.5446, 0.5456, 0.5451, 0.5461, 0.5476, 0.5484, 0.5487,\n",
      "         0.5491, 0.5478, 0.5478, 0.5467, 0.5468, 0.5456, 0.5454, 0.5450, 0.5460,\n",
      "         0.5456, 0.5451, 0.5448, 0.5464, 0.5461, 0.5102, 0.4702, 0.4285, 0.3852,\n",
      "         0.3563, 0.3200, 0.2858, 0.2861, 0.2879, 0.2894, 0.2889, 0.2894, 0.2911,\n",
      "         0.2918, 0.2911, 0.2904, 0.2905, 0.2899, 0.2892, 0.2892, 0.2877, 0.2890,\n",
      "         0.2888, 0.2892, 0.2899, 0.2899, 0.2880, 0.2885, 0.2872, 0.2862, 0.2845,\n",
      "         0.2781, 0.2735, 0.2706, 0.2660, 0.2608, 0.2552, 0.2500, 0.2500, 0.2501,\n",
      "         0.2499, 0.2499, 0.2489, 0.2498, 0.2491, 0.2491, 0.2489, 0.2484, 0.2491,\n",
      "         0.2484, 0.2479, 0.2486, 0.2492, 0.2490, 0.2490, 0.2482, 0.2482, 0.2485,\n",
      "         0.2468, 0.2467, 0.2473, 0.2472, 0.2565, 0.2665, 0.2767, 0.2888, 0.2986,\n",
      "         0.3061, 0.3145, 0.3131, 0.3129, 0.3130, 0.3143, 0.3160, 0.3160, 0.3162,\n",
      "         0.3174, 0.3174, 0.3173, 0.3153, 0.3151, 0.3144, 0.3149, 0.3142, 0.3156,\n",
      "         0.3152, 0.3161, 0.3167, 0.3172, 0.3164, 0.3343, 0.3523, 0.3721, 0.3913,\n",
      "         0.4133, 0.4282, 0.4456, 0.4470, 0.4456, 0.4456, 0.4470, 0.4475, 0.4482,\n",
      "         0.4500, 0.4476, 0.4487, 0.4482, 0.4484, 0.4470, 0.4458, 0.4452, 0.4469,\n",
      "         0.4463, 0.4463, 0.4467, 0.4478, 0.4483, 0.4483, 0.4471, 0.4483, 0.4479,\n",
      "         0.4684, 0.4900, 0.5059, 0.5221, 0.5387, 0.5570, 0.5786, 0.5804, 0.5796,\n",
      "         0.5793, 0.5798, 0.5811, 0.5803, 0.5786, 0.5770, 0.5765, 0.5767, 0.5765,\n",
      "         0.5770, 0.5786, 0.5800, 0.5802, 0.5828, 0.5819, 0.5825, 0.5820, 0.5813,\n",
      "         0.5826, 0.5819, 0.5806, 0.5883, 0.5986, 0.6078, 0.6176, 0.6277, 0.6398,\n",
      "         0.6514, 0.6517, 0.6511, 0.6516, 0.6527, 0.6511, 0.6505, 0.6503, 0.6495,\n",
      "         0.6496, 0.6480, 0.6468, 0.6486, 0.6500, 0.6520, 0.6527, 0.6513, 0.6523,\n",
      "         0.6530, 0.6530, 0.6515, 0.6496, 0.6489, 0.6476, 0.6481, 0.6558, 0.6635,\n",
      "         0.6747, 0.6861, 0.6929, 0.7043, 0.7137, 0.7158, 0.7160, 0.7156, 0.7155,\n",
      "         0.7156, 0.7152, 0.7151, 0.7136, 0.7134, 0.7144, 0.7143, 0.7158, 0.7157,\n",
      "         0.7152, 0.7144, 0.7151, 0.7126, 0.7127, 0.7127, 0.7129, 0.7120, 0.7139,\n",
      "         0.7129, 0.7262, 0.7387, 0.7455, 0.7536, 0.7621, 0.7702, 0.7823, 0.7782,\n",
      "         0.7768, 0.7766, 0.7775, 0.7781, 0.7773, 0.7779, 0.7801, 0.7812, 0.7822,\n",
      "         0.7807, 0.7815, 0.7825, 0.7812, 0.7827, 0.7826, 0.7829, 0.7842, 0.7842,\n",
      "         0.7841, 0.7819, 0.7801, 0.7801, 0.7807, 0.7627, 0.7447, 0.7256, 0.7077,\n",
      "         0.6868, 0.6630, 0.6478, 0.6482, 0.6479, 0.6492, 0.6490, 0.6497, 0.6505,\n",
      "         0.6484, 0.6470, 0.6470, 0.6467, 0.6474, 0.6481, 0.6503, 0.6505, 0.6523,\n",
      "         0.6519, 0.6514, 0.6499, 0.6507, 0.6496, 0.6512, 0.6506, 0.6505, 0.6505,\n",
      "         0.6404, 0.6277, 0.6138, 0.6055, 0.5948, 0.5861, 0.5762, 0.5789, 0.5784,\n",
      "         0.5812, 0.5812, 0.5823, 0.5835, 0.5843, 0.5819, 0.5829, 0.5815, 0.5812,\n",
      "         0.5814, 0.5820, 0.5814, 0.5819, 0.5807, 0.5797, 0.5807, 0.5805, 0.5808,\n",
      "         0.5802, 0.5801, 0.5800, 0.5681, 0.5600, 0.5527, 0.5426, 0.5332, 0.5226,\n",
      "         0.5121, 0.5136, 0.5139, 0.5123, 0.5131, 0.5139, 0.5145, 0.5163, 0.5160,\n",
      "         0.5159, 0.5170, 0.5163, 0.5174, 0.5181, 0.5185, 0.5196, 0.5197, 0.5186,\n",
      "         0.5189, 0.5173, 0.5170, 0.5158, 0.5155, 0.5143, 0.5145, 0.5218, 0.5330,\n",
      "         0.5432, 0.5547, 0.5658, 0.5747, 0.5849, 0.5860, 0.5852, 0.5852, 0.5827,\n",
      "         0.5828, 0.5822, 0.5815, 0.5810, 0.5804, 0.5801, 0.5824, 0.5806, 0.5807,\n",
      "         0.5810, 0.5797, 0.5806, 0.5799, 0.5796, 0.5816, 0.5807, 0.5805, 0.5823,\n",
      "         0.5818, 0.5424, 0.4977, 0.4528, 0.4225, 0.3855, 0.3495, 0.3108, 0.3108,\n",
      "         0.3120, 0.3114, 0.3125, 0.3127, 0.3143, 0.3152, 0.3157, 0.3163, 0.3153,\n",
      "         0.3158, 0.3170, 0.3164, 0.3171, 0.3171, 0.3162, 0.3161, 0.3151, 0.3161,\n",
      "         0.3153, 0.3139, 0.3138, 0.3148, 0.3160]])\n",
      "torch.Size([1, 590])\n",
      "tensor([[0.6116, 0.6114, 0.6112, 0.6113, 0.6117, 0.6113, 0.6122, 0.6117, 0.6120,\n",
      "         0.6111, 0.6109, 0.6109, 0.6125, 0.6048, 0.5953, 0.5836, 0.5738, 0.5661,\n",
      "         0.5575, 0.5464, 0.5436, 0.5437, 0.5444, 0.5424, 0.5420, 0.5421, 0.5419,\n",
      "         0.5430, 0.5432, 0.5429, 0.5451, 0.5467, 0.5469, 0.5480, 0.5485, 0.5481,\n",
      "         0.5486, 0.5479, 0.5465, 0.5464, 0.5475, 0.5468, 0.5464, 0.5349, 0.5243,\n",
      "         0.5185, 0.5106, 0.5005, 0.4912, 0.4816, 0.4842, 0.4838, 0.4823, 0.4833,\n",
      "         0.4828, 0.4823, 0.4824, 0.4820, 0.4838, 0.4844, 0.4827, 0.4845, 0.4865,\n",
      "         0.4873, 0.4867, 0.4850, 0.4852, 0.4872, 0.4846, 0.4837, 0.4840, 0.4831,\n",
      "         0.4822, 0.4819, 0.4890, 0.5004, 0.5083, 0.5166, 0.5280, 0.5401, 0.5458,\n",
      "         0.5452, 0.5438, 0.5446, 0.5456, 0.5451, 0.5461, 0.5476, 0.5484, 0.5487,\n",
      "         0.5491, 0.5478, 0.5478, 0.5467, 0.5468, 0.5456, 0.5454, 0.5450, 0.5460,\n",
      "         0.5456, 0.5451, 0.5448, 0.5464, 0.5461, 0.5102, 0.4702, 0.4285, 0.3852,\n",
      "         0.3563, 0.3200, 0.2858, 0.2861, 0.2879, 0.2894, 0.2889, 0.2894, 0.2911,\n",
      "         0.2918, 0.2911, 0.2904, 0.2905, 0.2899, 0.2892, 0.2892, 0.2877, 0.2890,\n",
      "         0.2888, 0.2892, 0.2899, 0.2899, 0.2880, 0.2885, 0.2872, 0.2862, 0.2845,\n",
      "         0.2781, 0.2735, 0.2706, 0.2660, 0.2608, 0.2552, 0.2500, 0.2500, 0.2501,\n",
      "         0.2499, 0.2499, 0.2489, 0.2498, 0.2491, 0.2491, 0.2489, 0.2484, 0.2491,\n",
      "         0.2484, 0.2479, 0.2486, 0.2492, 0.2490, 0.2490, 0.2482, 0.2482, 0.2485,\n",
      "         0.2468, 0.2467, 0.2473, 0.2472, 0.2565, 0.2665, 0.2767, 0.2888, 0.2986,\n",
      "         0.3061, 0.3145, 0.3131, 0.3129, 0.3130, 0.3143, 0.3160, 0.3160, 0.3162,\n",
      "         0.3174, 0.3174, 0.3173, 0.3153, 0.3151, 0.3144, 0.3149, 0.3142, 0.3156,\n",
      "         0.3152, 0.3161, 0.3167, 0.3172, 0.3164, 0.3343, 0.3523, 0.3721, 0.3913,\n",
      "         0.4133, 0.4282, 0.4456, 0.4470, 0.4456, 0.4456, 0.4470, 0.4475, 0.4482,\n",
      "         0.4500, 0.4476, 0.4487, 0.4482, 0.4484, 0.4470, 0.4458, 0.4452, 0.4469,\n",
      "         0.4463, 0.4463, 0.4467, 0.4478, 0.4483, 0.4483, 0.4471, 0.4483, 0.4479,\n",
      "         0.4684, 0.4900, 0.5059, 0.5221, 0.5387, 0.5570, 0.5786, 0.5804, 0.5796,\n",
      "         0.5793, 0.5798, 0.5811, 0.5803, 0.5786, 0.5770, 0.5765, 0.5767, 0.5765,\n",
      "         0.5770, 0.5786, 0.5800, 0.5802, 0.5828, 0.5819, 0.5825, 0.5820, 0.5813,\n",
      "         0.5826, 0.5819, 0.5806, 0.5883, 0.5986, 0.6078, 0.6176, 0.6277, 0.6398,\n",
      "         0.6514, 0.6517, 0.6511, 0.6516, 0.6527, 0.6511, 0.6505, 0.6503, 0.6495,\n",
      "         0.6496, 0.6480, 0.6468, 0.6486, 0.6500, 0.6520, 0.6527, 0.6513, 0.6523,\n",
      "         0.6530, 0.6530, 0.6515, 0.6496, 0.6489, 0.6476, 0.6481, 0.6558, 0.6635,\n",
      "         0.6747, 0.6861, 0.6929, 0.7043, 0.7137, 0.7158, 0.7160, 0.7156, 0.7155,\n",
      "         0.7156, 0.7152, 0.7151, 0.7136, 0.7134, 0.7144, 0.7143, 0.7158, 0.7157,\n",
      "         0.7152, 0.7144, 0.7151, 0.7126, 0.7127, 0.7127, 0.7129, 0.7120, 0.7139,\n",
      "         0.7129, 0.7262, 0.7387, 0.7455, 0.7536, 0.7621, 0.7702, 0.7823, 0.7782,\n",
      "         0.7768, 0.7766, 0.7775, 0.7781, 0.7773, 0.7779, 0.7801, 0.7812, 0.7822,\n",
      "         0.7807, 0.7815, 0.7825, 0.7812, 0.7827, 0.7826, 0.7829, 0.7842, 0.7842,\n",
      "         0.7841, 0.7819, 0.7801, 0.7801, 0.7807, 0.7627, 0.7447, 0.7256, 0.7077,\n",
      "         0.6868, 0.6630, 0.6478, 0.6482, 0.6479, 0.6492, 0.6490, 0.6497, 0.6505,\n",
      "         0.6484, 0.6470, 0.6470, 0.6467, 0.6474, 0.6481, 0.6503, 0.6505, 0.6523,\n",
      "         0.6519, 0.6514, 0.6499, 0.6507, 0.6496, 0.6512, 0.6506, 0.6505, 0.6505,\n",
      "         0.6404, 0.6277, 0.6138, 0.6055, 0.5948, 0.5861, 0.5762, 0.5789, 0.5784,\n",
      "         0.5812, 0.5812, 0.5823, 0.5835, 0.5843, 0.5819, 0.5829, 0.5815, 0.5812,\n",
      "         0.5814, 0.5820, 0.5814, 0.5819, 0.5807, 0.5797, 0.5807, 0.5805, 0.5808,\n",
      "         0.5802, 0.5801, 0.5800, 0.5681, 0.5600, 0.5527, 0.5426, 0.5332, 0.5226,\n",
      "         0.5121, 0.5136, 0.5139, 0.5123, 0.5131, 0.5139, 0.5145, 0.5163, 0.5160,\n",
      "         0.5159, 0.5170, 0.5163, 0.5174, 0.5181, 0.5185, 0.5196, 0.5197, 0.5186,\n",
      "         0.5189, 0.5173, 0.5170, 0.5158, 0.5155, 0.5143, 0.5145, 0.5218, 0.5330,\n",
      "         0.5432, 0.5547, 0.5658, 0.5747, 0.5849, 0.5860, 0.5852, 0.5852, 0.5827,\n",
      "         0.5828, 0.5822, 0.5815, 0.5810, 0.5804, 0.5801, 0.5824, 0.5806, 0.5807,\n",
      "         0.5810, 0.5797, 0.5806, 0.5799, 0.5796, 0.5816, 0.5807, 0.5805, 0.5823,\n",
      "         0.5818, 0.5424, 0.4977, 0.4528, 0.4225, 0.3855, 0.3495, 0.3108, 0.3108,\n",
      "         0.3120, 0.3114, 0.3125, 0.3127, 0.3143, 0.3152, 0.3157, 0.3163, 0.3153,\n",
      "         0.3158, 0.3170, 0.3164, 0.3171, 0.3171, 0.3162, 0.3161, 0.3151, 0.3161,\n",
      "         0.3153, 0.3139, 0.3138, 0.3148, 0.3160, 0.4352, 0.4250, 0.4335, 0.4310,\n",
      "         0.4429, 0.4273, 0.4149, 0.4251, 0.4304, 0.4444, 0.4465, 0.4378, 0.4430,\n",
      "         0.4182, 0.4102, 0.4200, 0.4244, 0.4478, 0.4365, 0.4449, 0.4402, 0.4365,\n",
      "         0.4124, 0.4303, 0.4421, 0.4482, 0.4069, 0.4529, 0.4494, 0.4363, 0.4475,\n",
      "         0.4458, 0.4185, 0.4274, 0.4330, 0.4583, 0.4407, 0.4360, 0.4462, 0.4496,\n",
      "         0.4489, 0.4277, 0.4201, 0.4332, 0.4273, 0.4382, 0.4504, 0.4620, 0.4225,\n",
      "         0.4145, 0.4153, 0.4265, 0.4358, 0.4525, 0.4343, 0.4374, 0.4377, 0.4212,\n",
      "         0.4239, 0.4454, 0.4084, 0.4414, 0.4401, 0.4408, 0.4323, 0.4523, 0.4256,\n",
      "         0.4359, 0.4458, 0.4383, 0.4360, 0.4351, 0.4535, 0.4459, 0.4257, 0.4229,\n",
      "         0.4419, 0.4443, 0.4551, 0.4303, 0.4457, 0.4328, 0.4385, 0.4394, 0.4170,\n",
      "         0.4415, 0.4370, 0.4388, 0.4371, 0.4407]], grad_fn=<CatBackward0>)\n"
     ]
    }
   ],
   "source": [
    "\n",
    "last_50_sales = df_avg['sales'][-500:]\n",
    "sales_array = last_50_sales.values\n",
    "sales_array_reshaped = sales_array.reshape(1, -1)\n",
    "print(sales_array_reshaped.shape)\n",
    "\n",
    "\n",
    "tensor_input = torch.tensor(sales_array_reshaped, dtype=torch.float32)\n",
    "\n",
    "print(tensor_input.shape)\n",
    "print(tensor_input)\n",
    "\n",
    "for i in range(90):\n",
    "    pred = model.predict(tensor_input)\n",
    "    tensor_input = torch.cat((tensor_input, pred), dim=1)\n",
    "\n",
    "print(tensor_input.shape)\n",
    "print(tensor_input)\n"
   ]
  },
  {
   "cell_type": "code",
   "execution_count": 45,
   "id": "533a6bd5-4898-46f8-a071-68554a629d69",
   "metadata": {},
   "outputs": [
    {
     "data": {
      "image/png": "[encoded data removed]",
      "text/plain": [
       "<Figure size 640x480 with 1 Axes>"
      ]
     },
     "metadata": {},
     "output_type": "display_data"
    }
   ],
   "source": [
    "# if tensor_input.is_cuda:\n",
    "#     tensor_input = tensor_input.cpu()\n",
    "\n",
    "# Convert to NumPy array\n",
    "numpy_array = tensor_input.squeeze().detach().numpy()\n",
    "\n",
    "plt.plot(numpy_array)\n",
    "plt.xlabel('Index')  # Adjust as per your data's context\n",
    "plt.ylabel('Value')  # Adjust this label to reflect what the values represent\n",
    "plt.title('Tensor Values')  # Provide a suitable title\n",
    "plt.show()\n"
   ]
  },
  {
   "cell_type": "code",
   "execution_count": null,
   "id": "611e0892-8c41-4482-abe9-b1d8499849ba",
   "metadata": {},
   "outputs": [],
   "source": []
  }
 ],
 "metadata": {
  "kernelspec": {
   "display_name": "Python 3 (ipykernel)",
   "language": "python",
   "name": "python3"
  },
  "language_info": {
   "codemirror_mode": {
    "name": "ipython",
    "version": 3
   },
   "file_extension": ".py",
   "mimetype": "text/x-python",
   "name": "python",
   "nbconvert_exporter": "python",
   "pygments_lexer": "ipython3",
   "version": "3.11.5"
  }
 },
 "nbformat": 4,
 "nbformat_minor": 5
}
