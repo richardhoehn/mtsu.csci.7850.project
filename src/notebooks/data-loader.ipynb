{
 "cells": [
  {
   "cell_type": "code",
   "execution_count": 270,
   "id": "8ba96bee-7b35-48a2-9660-be126f4fbda3",
   "metadata": {},
   "outputs": [],
   "source": [
    "import numpy as np\n",
    "import torch\n",
    "import torch.nn as nn\n",
    "import lightning.pytorch as pl\n",
    "import torchmetrics\n",
    "import torchvision\n",
    "from torchinfo import summary\n",
    "from torchview import draw_graph\n",
    "from IPython.display import display\n",
    "import sympy as sp\n",
    "sp.init_printing(use_latex=True)\n",
    "\n",
    "import pandas as pd\n",
    "import matplotlib.pyplot as plt\n",
    "import plotly.offline as py\n",
    "import plotly.graph_objs as go\n",
    "\n",
    "from sklearn.preprocessing import MinMaxScaler\n"
   ]
  },
  {
   "cell_type": "code",
   "execution_count": 271,
   "id": "3c452bfb-6c16-4b09-802a-b8e777c60c97",
   "metadata": {},
   "outputs": [],
   "source": [
    "# Config & Setup Details\n",
    "cfg_batch_size  = 20\n",
    "cfg_max_epochs  = 10\n",
    "cfg_num_workers = 2\n",
    "\n",
    "# Data Config\n",
    "cfg_data_separator = \",\"\n",
    "cfg_data_date_fmt  = \"%Y-%m-%d\"\n",
    "cfg_data_url_train = \"https://s3.amazonaws.com/mtsu.csci.7850.project/train.csv\"\n",
    "cfg_data_url_test  = \"https://s3.amazonaws.com/mtsu.csci.7850.project/test.csv\"\n",
    "\n",
    "# Logger Config\n",
    "cfg_logger_dir     = \"logs\"\n",
    "cfg_logger_name    = \"Project\"\n",
    "cfg_logger_version = \"data-loader\"\n"
   ]
  },
  {
   "cell_type": "code",
   "execution_count": 272,
   "id": "3d9c2e45-4217-4d40-8f11-0b0d8d57b906",
   "metadata": {},
   "outputs": [
    {
     "name": "stdout",
     "output_type": "stream",
     "text": [
      "Only CPU is available...\n"
     ]
    }
   ],
   "source": [
    "# Setup CPU or GPU Device Settings for CUDA\n",
    "if torch.cuda.is_available():\n",
    "    print(torch.cuda.get_device_name())\n",
    "    print(torch.cuda.get_device_properties(\"cuda\"))\n",
    "    print(\"Number of devices:\",torch.cuda.device_count())\n",
    "    device = (\"cuda\")\n",
    "else:\n",
    "    print(\"Only CPU is available...\")\n",
    "    device = (\"cpu\")"
   ]
  },
  {
   "cell_type": "code",
   "execution_count": 273,
   "id": "7434bc9f-b965-4032-8c7a-f069c91761f9",
   "metadata": {},
   "outputs": [
    {
     "name": "stdout",
     "output_type": "stream",
     "text": [
      "Train Shape: (913000, 4)\n",
      "        date  store  item  sales\n",
      "0 2013-01-01      1     1     13\n",
      "1 2013-01-02      1     1     11\n",
      "2 2013-01-03      1     1     14\n",
      "3 2013-01-04      1     1     13\n",
      "4 2013-01-05      1     1     10\n",
      "           date  sales\n",
      "0    2013-01-01  13696\n",
      "1    2013-01-02  13678\n",
      "2    2013-01-03  14488\n",
      "3    2013-01-04  15677\n",
      "4    2013-01-05  16237\n",
      "...         ...    ...\n",
      "1821 2017-12-27  20378\n",
      "1822 2017-12-28  21885\n",
      "1823 2017-12-29  23535\n",
      "1824 2017-12-30  24988\n",
      "1825 2017-12-31  26420\n",
      "\n",
      "[1826 rows x 2 columns]\n",
      "            date  store  sales\n",
      "0     2013-01-01      1   1316\n",
      "1     2013-01-01      2   1742\n",
      "2     2013-01-01      3   1588\n",
      "3     2013-01-01      4   1423\n",
      "4     2013-01-01      5   1032\n",
      "...          ...    ...    ...\n",
      "18255 2017-12-31      6   2009\n",
      "18256 2017-12-31      7   1831\n",
      "18257 2017-12-31      8   3205\n",
      "18258 2017-12-31      9   2774\n",
      "18259 2017-12-31     10   2939\n",
      "\n",
      "[18260 rows x 3 columns]\n",
      "store       date     1     2     3     4     5     6     7     8     9    10\n",
      "0     2013-01-01  1316  1742  1588  1423  1032  1099   964  1628  1383  1521\n",
      "1     2013-01-02  1264  1808  1538  1432   997  1023   944  1687  1455  1530\n",
      "2     2013-01-03  1305  1887  1635  1534  1130  1149   966  1736  1492  1654\n",
      "3     2013-01-04  1452  1983  1741  1685  1258  1201  1040  1966  1612  1739\n",
      "4     2013-01-05  1499  2087  1887  1649  1154  1286  1131  2005  1698  1841\n",
      "...          ...   ...   ...   ...   ...   ...   ...   ...   ...   ...   ...\n",
      "1821  2017-12-27  1837  2624  2365  2176  1552  1560  1471  2468  2104  2221\n",
      "1822  2017-12-28  1951  2839  2479  2306  1696  1707  1509  2660  2309  2429\n",
      "1823  2017-12-29  2116  3025  2646  2460  1774  1737  1689  2923  2478  2687\n",
      "1824  2017-12-30  2304  3151  2885  2637  1922  1877  1721  3109  2640  2742\n",
      "1825  2017-12-31  2388  3370  3086  2844  1974  2009  1831  3205  2774  2939\n",
      "\n",
      "[1826 rows x 11 columns]\n",
      "Index(['date', 1, 2, 3, 4, 5, 6, 7, 8, 9, 10], dtype='object', name='store')\n"
     ]
    }
   ],
   "source": [
    "# Load Data - Parse the Date Column\n",
    "df_raw = pd.read_csv(cfg_data_url_train, parse_dates=[\"date\"])\n",
    "\n",
    "print(f\"Train Shape: {df_raw.shape}\")\n",
    "\n",
    "print(df_raw.head())\n",
    "\n",
    "# Format Date Column to DateTime\n",
    "df_raw['date'] = pd.to_datetime(df_raw['date'], format=cfg_data_date_fmt)\n",
    "\n",
    "df_grouped_date_store = df_raw.groupby(['date', 'store'])['sales'].sum().reset_index()\n",
    "df_grouped_date = df_raw.groupby(['date'])['sales'].sum().reset_index()\n",
    "\n",
    "print(df_grouped_date)\n",
    "print(df_grouped_date_store)\n",
    "\n",
    "# Pivot the DataFrame\n",
    "df_train = df_grouped_date_store.pivot(index='date', columns='store', values='sales')\n",
    "\n",
    "# Resetting the index\n",
    "df_train = df_train.reset_index()\n",
    "\n",
    "# Show the New Table\n",
    "print(df_train)\n",
    "print(df_train.columns)\n",
    "\n"
   ]
  },
  {
   "cell_type": "code",
   "execution_count": 274,
   "id": "19d512fb-f092-446b-ba5e-b343ea5d8acd",
   "metadata": {},
   "outputs": [
    {
     "name": "stdout",
     "output_type": "stream",
     "text": [
      "(1826, 10)\n"
     ]
    }
   ],
   "source": [
    "df_train.columns\n",
    "\n",
    "df = df_train\n",
    "\n",
    "df.set_index('date', inplace=True)\n",
    "print(df.shape)"
   ]
  },
  {
   "cell_type": "code",
   "execution_count": 275,
   "id": "f41c9b8c-cc1b-4cea-988c-735c38133505",
   "metadata": {},
   "outputs": [],
   "source": [
    "# Normalize the data\n",
    "scaler = MinMaxScaler()\n",
    "df_scaled = scaler.fit_transform(df)\n",
    "\n",
    "# Function to create sequences\n",
    "def create_sequences(data, seq_length):\n",
    "    xs = []\n",
    "    ys = []\n",
    "\n",
    "    for i in range(len(data)-seq_length-1):\n",
    "        x = data[i:(i+seq_length)]\n",
    "        y = data[i+seq_length]\n",
    "        xs.append(x)\n",
    "        ys.append(y)\n",
    "\n",
    "    return np.array(xs), np.array(ys)\n",
    "\n",
    "# Create sequences\n",
    "seq_length = 30\n",
    "x, y = create_sequences(df_scaled, seq_length)\n",
    "\n",
    "# Convert to PyTorch tensors\n",
    "x_tensor = torch.tensor(x, dtype=torch.float32)\n",
    "y_tensor = torch.tensor(y, dtype=torch.float32)\n",
    "\n",
    "# Split the data into training and testing sets\n",
    "train_size = int(0.8 * len(X_tensor))\n",
    "x_train = x_tensor[:train_size]\n",
    "y_train = y_tensor[:train_size]\n",
    "x_val = x_tensor[train_size:]\n",
    "y_val = y_tensor[train_size:]"
   ]
  },
  {
   "cell_type": "code",
   "execution_count": 276,
   "id": "1b55acd0-8662-4466-a1cc-1a85b125524d",
   "metadata": {},
   "outputs": [
    {
     "data": {
      "text/plain": [
       "torch.Size([1436, 30, 10])"
      ]
     },
     "execution_count": 276,
     "metadata": {},
     "output_type": "execute_result"
    }
   ],
   "source": [
    "x_train.shape"
   ]
  },
  {
   "cell_type": "code",
   "execution_count": 277,
   "id": "6466407a-73a5-480c-8123-fc1631a06e93",
   "metadata": {},
   "outputs": [],
   "source": [
    "class LSTMModel(pl.LightningModule):\n",
    "    def __init__(self, \n",
    "                 input_size, \n",
    "                 hidden_size, \n",
    "                 output_size, \n",
    "                 num_layers,\n",
    "                 **kwargs):\n",
    "        super().__init__(**kwargs)\n",
    "        \n",
    "        # LSTM layer\n",
    "        self.lstm = nn.LSTM(input_size, hidden_size, num_layers, batch_first=True)\n",
    "\n",
    "        # Fully connected layer\n",
    "        self.linear = nn.Linear(hidden_size, output_size)\n",
    "        self.loss = nn.MSELoss()\n",
    "\n",
    "    def configure_optimizers(self):\n",
    "        optimizer = torch.optim.Adam(self.parameters(), lr=0.001)\n",
    "        return optimizer\n",
    "\n",
    "    # No complications with regression...\n",
    "    def predict(self, x):\n",
    "        return self(x)\n",
    "    \n",
    "    def forward(self, x):\n",
    "        y = x\n",
    "        \n",
    "        # Initialize hidden state and cell state\n",
    "        h0 = torch.zeros(num_layers, y.size(0), hidden_size).to(y.device)\n",
    "        c0 = torch.zeros(num_layers, y.size(0), hidden_size).to(y.device)\n",
    "\n",
    "        # Forward propagate LSTM\n",
    "        y, _ = self.lstm(y, (h0, c0))\n",
    "        y = y[:, -1, :] # Extract only the last time ste\n",
    "        y = self.linear(y)\n",
    "        return y\n",
    "\n",
    "    def training_step(self, train_batch, batch_idx):\n",
    "        # training_step defines the train loop. It is independent of forward\n",
    "        x, y_true = train_batch\n",
    "        y_pred = self(x)\n",
    "        loss = self.loss(y_pred, y_true)\n",
    "        self.log('train_loss', loss, on_step=False, on_epoch=True)\n",
    "        return loss\n",
    "\n",
    "    def validation_step(self, val_batch, batch_idx):\n",
    "        x, y_true = val_batch\n",
    "        y_pred = self(x)\n",
    "        loss = self.loss(y_pred, y_true)\n",
    "        self.log('val_loss', loss, on_step=False, on_epoch=True)\n",
    "        return loss\n",
    "\n",
    "\n",
    "# Model parameters\n",
    "input_size = 10  # Number of features (sales data from 10 stores)\n",
    "hidden_size = 50  # Number of features in hidden state\n",
    "output_size = 10  # Number of output values (e.g., future sales prediction)\n",
    "num_layers = 4  # Number of stacked LSTM layers\n",
    "\n",
    "# Create the LSTM model\n",
    "model = LSTMModel(input_size, hidden_size, output_size, num_layers)"
   ]
  },
  {
   "cell_type": "code",
   "execution_count": 278,
   "id": "13f87241-11f5-4cf1-aa57-e4bc952171ce",
   "metadata": {},
   "outputs": [
    {
     "data": {
      "text/plain": [
       "==========================================================================================\n",
       "Layer (type:depth-idx)                   Output Shape              Param #\n",
       "==========================================================================================\n",
       "LSTMModel                                [5, 10]                   --\n",
       "├─LSTM: 1-1                              [5, 30, 50]               73,600\n",
       "├─Linear: 1-2                            [5, 10]                   510\n",
       "==========================================================================================\n",
       "Total params: 74,110\n",
       "Trainable params: 74,110\n",
       "Non-trainable params: 0\n",
       "Total mult-adds (Units.MEGABYTES): 11.04\n",
       "==========================================================================================\n",
       "Input size (MB): 2.15\n",
       "Forward/backward pass size (MB): 0.06\n",
       "Params size (MB): 0.30\n",
       "Estimated Total Size (MB): 2.51\n",
       "=========================================================================================="
      ]
     },
     "execution_count": 278,
     "metadata": {},
     "output_type": "execute_result"
    }
   ],
   "source": [
    "summary(model, input_data=torch.Tensor(x_train[0:5]).float())"
   ]
  },
  {
   "cell_type": "code",
   "execution_count": 279,
   "id": "e2da7029-b357-4293-971b-c5496b7257f3",
   "metadata": {},
   "outputs": [
    {
     "data": {
      "image/svg+xml": [
       "<?xml version=\"1.0\" encoding=\"UTF-8\" standalone=\"no\"?>\n",
       "<!DOCTYPE svg PUBLIC \"-//W3C//DTD SVG 1.1//EN\"\n",
       " \"http://www.w3.org/Graphics/SVG/1.1/DTD/svg11.dtd\">\n",
       "<!-- Generated by graphviz version 8.1.0 (20230707.2238)\n",
       " -->\n",
       "<!-- Title: model Pages: 1 -->\n",
       "<svg width=\"471pt\" height=\"364pt\"\n",
       " viewBox=\"0.00 0.00 470.88 363.50\" xmlns=\"http://www.w3.org/2000/svg\" xmlns:xlink=\"http://www.w3.org/1999/xlink\">\n",
       "<g id=\"graph0\" class=\"graph\" transform=\"scale(1 1) rotate(0) translate(4 359.5)\">\n",
       "<title>model</title>\n",
       "<polygon fill=\"white\" stroke=\"none\" points=\"-4,4 -4,-359.5 466.88,-359.5 466.88,4 -4,4\"/>\n",
       "<!-- 0 -->\n",
       "<g id=\"node1\" class=\"node\">\n",
       "<title>0</title>\n",
       "<polygon fill=\"lightyellow\" stroke=\"none\" points=\"128.75,-351.25 0,-351.25 0,-315.75 128.75,-315.75 128.75,-351.25\"/>\n",
       "<polygon fill=\"none\" stroke=\"black\" points=\"0,-315.75 0,-351.25 69.25,-351.25 69.25,-315.75 0,-315.75\"/>\n",
       "<text text-anchor=\"start\" x=\"5\" y=\"-336.75\" font-family=\"Linux libertine\" font-size=\"10.00\">input&#45;tensor</text>\n",
       "<text text-anchor=\"start\" x=\"16.25\" y=\"-324\" font-family=\"Linux libertine\" font-size=\"10.00\">depth:0</text>\n",
       "<polygon fill=\"none\" stroke=\"black\" points=\"69.25,-315.75 69.25,-351.25 128.75,-351.25 128.75,-315.75 69.25,-315.75\"/>\n",
       "<text text-anchor=\"start\" x=\"74.25\" y=\"-330.38\" font-family=\"Linux libertine\" font-size=\"10.00\">(5, 30, 10)</text>\n",
       "</g>\n",
       "<!-- 3 -->\n",
       "<g id=\"node4\" class=\"node\">\n",
       "<title>3</title>\n",
       "<polygon fill=\"#c1ffc1\" stroke=\"none\" points=\"332.88,-275.5 109.88,-275.5 109.88,-231.5 332.88,-231.5 332.88,-275.5\"/>\n",
       "<polygon fill=\"none\" stroke=\"black\" points=\"109.88,-231.5 109.88,-275.5 155.88,-275.5 155.88,-231.5 109.88,-231.5\"/>\n",
       "<text text-anchor=\"start\" x=\"119.75\" y=\"-256.75\" font-family=\"Linux libertine\" font-size=\"10.00\">LSTM</text>\n",
       "<text text-anchor=\"start\" x=\"114.5\" y=\"-244\" font-family=\"Linux libertine\" font-size=\"10.00\">depth:1</text>\n",
       "<polygon fill=\"none\" stroke=\"black\" points=\"155.88,-253.5 155.88,-275.5 202.88,-275.5 202.88,-253.5 155.88,-253.5\"/>\n",
       "<text text-anchor=\"start\" x=\"165.5\" y=\"-261\" font-family=\"Linux libertine\" font-size=\"10.00\">input:</text>\n",
       "<polygon fill=\"none\" stroke=\"black\" points=\"202.88,-253.5 202.88,-275.5 332.88,-275.5 332.88,-253.5 202.88,-253.5\"/>\n",
       "<text text-anchor=\"start\" x=\"207.88\" y=\"-261\" font-family=\"Linux libertine\" font-size=\"10.00\">(5, 30, 10), 2 x (4, 5, 50) </text>\n",
       "<polygon fill=\"none\" stroke=\"black\" points=\"155.88,-231.5 155.88,-253.5 202.88,-253.5 202.88,-231.5 155.88,-231.5\"/>\n",
       "<text text-anchor=\"start\" x=\"160.62\" y=\"-239\" font-family=\"Linux libertine\" font-size=\"10.00\">output: </text>\n",
       "<polygon fill=\"none\" stroke=\"black\" points=\"202.88,-231.5 202.88,-253.5 332.88,-253.5 332.88,-231.5 202.88,-231.5\"/>\n",
       "<text text-anchor=\"start\" x=\"207.88\" y=\"-239\" font-family=\"Linux libertine\" font-size=\"10.00\">(5, 30, 50), 2 x (4, 5, 50) </text>\n",
       "</g>\n",
       "<!-- 0&#45;&gt;3 -->\n",
       "<g id=\"edge1\" class=\"edge\">\n",
       "<title>0&#45;&gt;3</title>\n",
       "<path fill=\"none\" stroke=\"black\" d=\"M98.06,-315.77C118.87,-305.43 146,-291.95 169.52,-280.26\"/>\n",
       "<polygon fill=\"black\" stroke=\"black\" points=\"170.95,-282.96 178.35,-275.38 167.83,-276.7 170.95,-282.96\"/>\n",
       "</g>\n",
       "<!-- 1 -->\n",
       "<g id=\"node2\" class=\"node\">\n",
       "<title>1</title>\n",
       "<polygon fill=\"aliceblue\" stroke=\"none\" points=\"295.88,-355.5 146.88,-355.5 146.88,-311.5 295.88,-311.5 295.88,-355.5\"/>\n",
       "<polygon fill=\"none\" stroke=\"black\" points=\"146.88,-311.5 146.88,-355.5 192.88,-355.5 192.88,-311.5 146.88,-311.5\"/>\n",
       "<text text-anchor=\"start\" x=\"165\" y=\"-336.75\" font-family=\"Linux libertine\" font-size=\"10.00\">to</text>\n",
       "<text text-anchor=\"start\" x=\"151.5\" y=\"-324\" font-family=\"Linux libertine\" font-size=\"10.00\">depth:1</text>\n",
       "<polygon fill=\"none\" stroke=\"black\" points=\"192.88,-333.5 192.88,-355.5 239.88,-355.5 239.88,-333.5 192.88,-333.5\"/>\n",
       "<text text-anchor=\"start\" x=\"202.5\" y=\"-341\" font-family=\"Linux libertine\" font-size=\"10.00\">input:</text>\n",
       "<polygon fill=\"none\" stroke=\"black\" points=\"239.88,-333.5 239.88,-355.5 295.88,-355.5 295.88,-333.5 239.88,-333.5\"/>\n",
       "<text text-anchor=\"start\" x=\"244.62\" y=\"-341\" font-family=\"Linux libertine\" font-size=\"10.00\">(4, 5, 50) </text>\n",
       "<polygon fill=\"none\" stroke=\"black\" points=\"192.88,-311.5 192.88,-333.5 239.88,-333.5 239.88,-311.5 192.88,-311.5\"/>\n",
       "<text text-anchor=\"start\" x=\"197.62\" y=\"-319\" font-family=\"Linux libertine\" font-size=\"10.00\">output: </text>\n",
       "<polygon fill=\"none\" stroke=\"black\" points=\"239.88,-311.5 239.88,-333.5 295.88,-333.5 295.88,-311.5 239.88,-311.5\"/>\n",
       "<text text-anchor=\"start\" x=\"244.62\" y=\"-319\" font-family=\"Linux libertine\" font-size=\"10.00\">(4, 5, 50) </text>\n",
       "</g>\n",
       "<!-- 1&#45;&gt;3 -->\n",
       "<g id=\"edge2\" class=\"edge\">\n",
       "<title>1&#45;&gt;3</title>\n",
       "<path fill=\"none\" stroke=\"black\" d=\"M221.38,-311.6C221.38,-303.82 221.38,-294.8 221.38,-286.26\"/>\n",
       "<polygon fill=\"black\" stroke=\"black\" points=\"224.88,-286.46 221.38,-276.46 217.88,-286.46 224.88,-286.46\"/>\n",
       "</g>\n",
       "<!-- 2 -->\n",
       "<g id=\"node3\" class=\"node\">\n",
       "<title>2</title>\n",
       "<polygon fill=\"aliceblue\" stroke=\"none\" points=\"462.88,-355.5 313.88,-355.5 313.88,-311.5 462.88,-311.5 462.88,-355.5\"/>\n",
       "<polygon fill=\"none\" stroke=\"black\" points=\"313.88,-311.5 313.88,-355.5 359.88,-355.5 359.88,-311.5 313.88,-311.5\"/>\n",
       "<text text-anchor=\"start\" x=\"332\" y=\"-336.75\" font-family=\"Linux libertine\" font-size=\"10.00\">to</text>\n",
       "<text text-anchor=\"start\" x=\"318.5\" y=\"-324\" font-family=\"Linux libertine\" font-size=\"10.00\">depth:1</text>\n",
       "<polygon fill=\"none\" stroke=\"black\" points=\"359.88,-333.5 359.88,-355.5 406.88,-355.5 406.88,-333.5 359.88,-333.5\"/>\n",
       "<text text-anchor=\"start\" x=\"369.5\" y=\"-341\" font-family=\"Linux libertine\" font-size=\"10.00\">input:</text>\n",
       "<polygon fill=\"none\" stroke=\"black\" points=\"406.88,-333.5 406.88,-355.5 462.88,-355.5 462.88,-333.5 406.88,-333.5\"/>\n",
       "<text text-anchor=\"start\" x=\"411.62\" y=\"-341\" font-family=\"Linux libertine\" font-size=\"10.00\">(4, 5, 50) </text>\n",
       "<polygon fill=\"none\" stroke=\"black\" points=\"359.88,-311.5 359.88,-333.5 406.88,-333.5 406.88,-311.5 359.88,-311.5\"/>\n",
       "<text text-anchor=\"start\" x=\"364.62\" y=\"-319\" font-family=\"Linux libertine\" font-size=\"10.00\">output: </text>\n",
       "<polygon fill=\"none\" stroke=\"black\" points=\"406.88,-311.5 406.88,-333.5 462.88,-333.5 462.88,-311.5 406.88,-311.5\"/>\n",
       "<text text-anchor=\"start\" x=\"411.62\" y=\"-319\" font-family=\"Linux libertine\" font-size=\"10.00\">(4, 5, 50) </text>\n",
       "</g>\n",
       "<!-- 2&#45;&gt;3 -->\n",
       "<g id=\"edge3\" class=\"edge\">\n",
       "<title>2&#45;&gt;3</title>\n",
       "<path fill=\"none\" stroke=\"black\" d=\"M343.62,-311.6C322.84,-301.89 297.95,-290.27 276.07,-280.05\"/>\n",
       "<polygon fill=\"black\" stroke=\"black\" points=\"277.79,-276.52 267.25,-275.46 274.83,-282.86 277.79,-276.52\"/>\n",
       "</g>\n",
       "<!-- 4 -->\n",
       "<g id=\"node5\" class=\"node\">\n",
       "<title>4</title>\n",
       "<polygon fill=\"aliceblue\" stroke=\"none\" points=\"310.38,-195.5 132.38,-195.5 132.38,-151.5 310.38,-151.5 310.38,-195.5\"/>\n",
       "<polygon fill=\"none\" stroke=\"black\" points=\"132.38,-151.5 132.38,-195.5 201.38,-195.5 201.38,-151.5 132.38,-151.5\"/>\n",
       "<text text-anchor=\"start\" x=\"137.25\" y=\"-176.75\" font-family=\"Linux libertine\" font-size=\"10.00\">__getitem__</text>\n",
       "<text text-anchor=\"start\" x=\"148.5\" y=\"-164\" font-family=\"Linux libertine\" font-size=\"10.00\">depth:1</text>\n",
       "<polygon fill=\"none\" stroke=\"black\" points=\"201.38,-173.5 201.38,-195.5 248.38,-195.5 248.38,-173.5 201.38,-173.5\"/>\n",
       "<text text-anchor=\"start\" x=\"211\" y=\"-181\" font-family=\"Linux libertine\" font-size=\"10.00\">input:</text>\n",
       "<polygon fill=\"none\" stroke=\"black\" points=\"248.38,-173.5 248.38,-195.5 310.38,-195.5 310.38,-173.5 248.38,-173.5\"/>\n",
       "<text text-anchor=\"start\" x=\"253.12\" y=\"-181\" font-family=\"Linux libertine\" font-size=\"10.00\">(5, 30, 50) </text>\n",
       "<polygon fill=\"none\" stroke=\"black\" points=\"201.38,-151.5 201.38,-173.5 248.38,-173.5 248.38,-151.5 201.38,-151.5\"/>\n",
       "<text text-anchor=\"start\" x=\"206.12\" y=\"-159\" font-family=\"Linux libertine\" font-size=\"10.00\">output: </text>\n",
       "<polygon fill=\"none\" stroke=\"black\" points=\"248.38,-151.5 248.38,-173.5 310.38,-173.5 310.38,-151.5 248.38,-151.5\"/>\n",
       "<text text-anchor=\"start\" x=\"262.12\" y=\"-159\" font-family=\"Linux libertine\" font-size=\"10.00\">(5, 50) </text>\n",
       "</g>\n",
       "<!-- 3&#45;&gt;4 -->\n",
       "<g id=\"edge4\" class=\"edge\">\n",
       "<title>3&#45;&gt;4</title>\n",
       "<path fill=\"none\" stroke=\"black\" d=\"M221.38,-231.6C221.38,-223.82 221.38,-214.8 221.38,-206.26\"/>\n",
       "<polygon fill=\"black\" stroke=\"black\" points=\"224.88,-206.46 221.38,-196.46 217.88,-206.46 224.88,-206.46\"/>\n",
       "</g>\n",
       "<!-- 5 -->\n",
       "<g id=\"node6\" class=\"node\">\n",
       "<title>5</title>\n",
       "<polygon fill=\"#c1ffc1\" stroke=\"none\" points=\"289.88,-115.5 152.88,-115.5 152.88,-71.5 289.88,-71.5 289.88,-115.5\"/>\n",
       "<polygon fill=\"none\" stroke=\"black\" points=\"152.88,-71.5 152.88,-115.5 198.88,-115.5 198.88,-71.5 152.88,-71.5\"/>\n",
       "<text text-anchor=\"start\" x=\"160.88\" y=\"-96.75\" font-family=\"Linux libertine\" font-size=\"10.00\">Linear</text>\n",
       "<text text-anchor=\"start\" x=\"157.5\" y=\"-84\" font-family=\"Linux libertine\" font-size=\"10.00\">depth:1</text>\n",
       "<polygon fill=\"none\" stroke=\"black\" points=\"198.88,-93.5 198.88,-115.5 245.88,-115.5 245.88,-93.5 198.88,-93.5\"/>\n",
       "<text text-anchor=\"start\" x=\"208.5\" y=\"-101\" font-family=\"Linux libertine\" font-size=\"10.00\">input:</text>\n",
       "<polygon fill=\"none\" stroke=\"black\" points=\"245.88,-93.5 245.88,-115.5 289.88,-115.5 289.88,-93.5 245.88,-93.5\"/>\n",
       "<text text-anchor=\"start\" x=\"250.62\" y=\"-101\" font-family=\"Linux libertine\" font-size=\"10.00\">(5, 50) </text>\n",
       "<polygon fill=\"none\" stroke=\"black\" points=\"198.88,-71.5 198.88,-93.5 245.88,-93.5 245.88,-71.5 198.88,-71.5\"/>\n",
       "<text text-anchor=\"start\" x=\"203.62\" y=\"-79\" font-family=\"Linux libertine\" font-size=\"10.00\">output: </text>\n",
       "<polygon fill=\"none\" stroke=\"black\" points=\"245.88,-71.5 245.88,-93.5 289.88,-93.5 289.88,-71.5 245.88,-71.5\"/>\n",
       "<text text-anchor=\"start\" x=\"250.62\" y=\"-79\" font-family=\"Linux libertine\" font-size=\"10.00\">(5, 10) </text>\n",
       "</g>\n",
       "<!-- 4&#45;&gt;5 -->\n",
       "<g id=\"edge5\" class=\"edge\">\n",
       "<title>4&#45;&gt;5</title>\n",
       "<path fill=\"none\" stroke=\"black\" d=\"M221.38,-151.6C221.38,-143.82 221.38,-134.8 221.38,-126.26\"/>\n",
       "<polygon fill=\"black\" stroke=\"black\" points=\"224.88,-126.46 221.38,-116.46 217.88,-126.46 224.88,-126.46\"/>\n",
       "</g>\n",
       "<!-- 6 -->\n",
       "<g id=\"node7\" class=\"node\">\n",
       "<title>6</title>\n",
       "<polygon fill=\"lightyellow\" stroke=\"none\" points=\"280.12,-35.5 162.62,-35.5 162.62,0 280.12,0 280.12,-35.5\"/>\n",
       "<polygon fill=\"none\" stroke=\"black\" points=\"162.62,0 162.62,-35.5 238.62,-35.5 238.62,0 162.62,0\"/>\n",
       "<text text-anchor=\"start\" x=\"167.62\" y=\"-21\" font-family=\"Linux libertine\" font-size=\"10.00\">output&#45;tensor</text>\n",
       "<text text-anchor=\"start\" x=\"182.25\" y=\"-8.25\" font-family=\"Linux libertine\" font-size=\"10.00\">depth:0</text>\n",
       "<polygon fill=\"none\" stroke=\"black\" points=\"238.62,0 238.62,-35.5 280.12,-35.5 280.12,0 238.62,0\"/>\n",
       "<text text-anchor=\"start\" x=\"243.62\" y=\"-14.62\" font-family=\"Linux libertine\" font-size=\"10.00\">(5, 10)</text>\n",
       "</g>\n",
       "<!-- 5&#45;&gt;6 -->\n",
       "<g id=\"edge6\" class=\"edge\">\n",
       "<title>5&#45;&gt;6</title>\n",
       "<path fill=\"none\" stroke=\"black\" d=\"M221.38,-71.56C221.38,-63.6 221.38,-54.41 221.38,-45.95\"/>\n",
       "<polygon fill=\"black\" stroke=\"black\" points=\"224.88,-46.05 221.38,-36.05 217.88,-46.05 224.88,-46.05\"/>\n",
       "</g>\n",
       "</g>\n",
       "</svg>\n"
      ],
      "text/plain": [
       "<graphviz.graphs.Digraph at 0x7fadb9776810>"
      ]
     },
     "execution_count": 279,
     "metadata": {},
     "output_type": "execute_result"
    }
   ],
   "source": [
    "model_graph = draw_graph(model,\n",
    "                         input_data=torch.Tensor(x_train[0:5]).float(),\n",
    "                         device=device,\n",
    "                         hide_inner_tensors=True,\n",
    "                         hide_module_functions=True,\n",
    "                         expand_nested=False,\n",
    "                         depth=3,\n",
    "                         dtypes=[torch.long])\n",
    "\n",
    "model_graph.visual_graph"
   ]
  },
  {
   "cell_type": "code",
   "execution_count": 280,
   "id": "643df836-e85a-4d03-8226-fc56cf8b3cf6",
   "metadata": {},
   "outputs": [],
   "source": [
    "xy_train = torch.utils.data.DataLoader(list(zip(torch.Tensor(x_train).float(),\n",
    "                                                torch.Tensor(y_train).float())), \n",
    "                                       shuffle=True, \n",
    "                                       batch_size=cfg_batch_size, \n",
    "                                       num_workers=cfg_num_workers)\n",
    "\n",
    "xy_val = torch.utils.data.DataLoader(list(zip(torch.Tensor(x_val).float(), \n",
    "                                              torch.Tensor(y_val).float())), \n",
    "                                     shuffle=False, \n",
    "                                     batch_size=batch_size, \n",
    "                                     num_workers=cfg_num_workers)"
   ]
  },
  {
   "cell_type": "code",
   "execution_count": 281,
   "id": "97c23877-fe6c-4154-8233-5aff37f0a28d",
   "metadata": {},
   "outputs": [],
   "source": [
    "logger = pl.loggers.CSVLogger(\"lightning_logs\", \n",
    "                              name=\"Project\",\n",
    "                              version=\"1.0.0\")"
   ]
  },
  {
   "cell_type": "code",
   "execution_count": 282,
   "id": "5f02ae27-a084-4d2b-bab9-af0a4b32c53c",
   "metadata": {},
   "outputs": [
    {
     "name": "stderr",
     "output_type": "stream",
     "text": [
      "GPU available: False, used: False\n",
      "TPU available: False, using: 0 TPU cores\n",
      "IPU available: False, using: 0 IPUs\n",
      "HPU available: False, using: 0 HPUs\n"
     ]
    }
   ],
   "source": [
    "trainer = pl.Trainer(logger=logger, max_epochs=cfg_max_epochs,\n",
    "                     enable_progress_bar=True,\n",
    "                     log_every_n_steps=0,\n",
    "                     enable_checkpointing=False, \n",
    "                     callbacks=[pl.callbacks.TQDMProgressBar(refresh_rate=50)])"
   ]
  },
  {
   "cell_type": "code",
   "execution_count": 283,
   "id": "434715be-7a7c-46cc-af84-f64d25ed572b",
   "metadata": {},
   "outputs": [
    {
     "name": "stderr",
     "output_type": "stream",
     "text": [
      "/opt/conda/lib/python3.11/site-packages/lightning/fabric/loggers/csv_logs.py:195: UserWarning:\n",
      "\n",
      "Experiment logs directory lightning_logs/Project/1.0.0 exists and is not empty. Previous log files in this directory will be deleted when the new ones are saved!\n",
      "\n",
      "/opt/conda/lib/python3.11/site-packages/lightning/pytorch/trainer/connectors/data_connector.py:442: PossibleUserWarning:\n",
      "\n",
      "The dataloader, val_dataloader, does not have many workers which may be a bottleneck. Consider increasing the value of the `num_workers` argument` (try 64 which is the number of cpus on this machine) in the `DataLoader` init to improve performance.\n",
      "\n"
     ]
    },
    {
     "data": {
      "application/vnd.jupyter.widget-view+json": {
       "model_id": "0b2e2e3c9d4c423e9249d3bc8d91b88c",
       "version_major": 2,
       "version_minor": 0
      },
      "text/plain": [
       "Validation: 0it [00:00, ?it/s]"
      ]
     },
     "metadata": {},
     "output_type": "display_data"
    },
    {
     "data": {
      "text/html": [
       "<pre style=\"white-space:pre;overflow-x:auto;line-height:normal;font-family:Menlo,'DejaVu Sans Mono',consolas,'Courier New',monospace\">┏━━━━━━━━━━━━━━━━━━━━━━━━━━━┳━━━━━━━━━━━━━━━━━━━━━━━━━━━┓\n",
       "┃<span style=\"font-weight: bold\">  Runningstage.validating  </span>┃<span style=\"font-weight: bold\">                           </span>┃\n",
       "┃<span style=\"font-weight: bold\">          metric           </span>┃<span style=\"font-weight: bold\">       DataLoader 0        </span>┃\n",
       "┡━━━━━━━━━━━━━━━━━━━━━━━━━━━╇━━━━━━━━━━━━━━━━━━━━━━━━━━━┩\n",
       "│<span style=\"color: #008080; text-decoration-color: #008080\">         val_loss          </span>│<span style=\"color: #800080; text-decoration-color: #800080\">    0.33108314871788025    </span>│\n",
       "└───────────────────────────┴───────────────────────────┘\n",
       "</pre>\n"
      ],
      "text/plain": [
       "┏━━━━━━━━━━━━━━━━━━━━━━━━━━━┳━━━━━━━━━━━━━━━━━━━━━━━━━━━┓\n",
       "┃\u001b[1m \u001b[0m\u001b[1m Runningstage.validating \u001b[0m\u001b[1m \u001b[0m┃\u001b[1m                           \u001b[0m┃\n",
       "┃\u001b[1m \u001b[0m\u001b[1m         metric          \u001b[0m\u001b[1m \u001b[0m┃\u001b[1m \u001b[0m\u001b[1m      DataLoader 0       \u001b[0m\u001b[1m \u001b[0m┃\n",
       "┡━━━━━━━━━━━━━━━━━━━━━━━━━━━╇━━━━━━━━━━━━━━━━━━━━━━━━━━━┩\n",
       "│\u001b[36m \u001b[0m\u001b[36m        val_loss         \u001b[0m\u001b[36m \u001b[0m│\u001b[35m \u001b[0m\u001b[35m   0.33108314871788025   \u001b[0m\u001b[35m \u001b[0m│\n",
       "└───────────────────────────┴───────────────────────────┘\n"
      ]
     },
     "metadata": {},
     "output_type": "display_data"
    },
    {
     "data": {
      "text/plain": [
       "[{'val_loss': 0.33108314871788025}]"
      ]
     },
     "execution_count": 283,
     "metadata": {},
     "output_type": "execute_result"
    }
   ],
   "source": [
    "trainer.validate(model, xy_val)"
   ]
  },
  {
   "cell_type": "code",
   "execution_count": 284,
   "id": "2623d1a3-44a6-4d6a-921d-9c9756e2ff9a",
   "metadata": {},
   "outputs": [
    {
     "name": "stderr",
     "output_type": "stream",
     "text": [
      "\n",
      "  | Name   | Type    | Params\n",
      "-----------------------------------\n",
      "0 | lstm   | LSTM    | 73.6 K\n",
      "1 | linear | Linear  | 510   \n",
      "2 | loss   | MSELoss | 0     \n",
      "-----------------------------------\n",
      "74.1 K    Trainable params\n",
      "0         Non-trainable params\n",
      "74.1 K    Total params\n",
      "0.296     Total estimated model params size (MB)\n"
     ]
    },
    {
     "data": {
      "application/vnd.jupyter.widget-view+json": {
       "model_id": "",
       "version_major": 2,
       "version_minor": 0
      },
      "text/plain": [
       "Sanity Checking: 0it [00:00, ?it/s]"
      ]
     },
     "metadata": {},
     "output_type": "display_data"
    },
    {
     "name": "stderr",
     "output_type": "stream",
     "text": [
      "/opt/conda/lib/python3.11/site-packages/lightning/pytorch/trainer/connectors/data_connector.py:442: PossibleUserWarning:\n",
      "\n",
      "The dataloader, train_dataloader, does not have many workers which may be a bottleneck. Consider increasing the value of the `num_workers` argument` (try 64 which is the number of cpus on this machine) in the `DataLoader` init to improve performance.\n",
      "\n"
     ]
    },
    {
     "data": {
      "application/vnd.jupyter.widget-view+json": {
       "model_id": "7d174aadc4ac4b6cbadf646d68afff57",
       "version_major": 2,
       "version_minor": 0
      },
      "text/plain": [
       "Training: 0it [00:00, ?it/s]"
      ]
     },
     "metadata": {},
     "output_type": "display_data"
    },
    {
     "data": {
      "application/vnd.jupyter.widget-view+json": {
       "model_id": "",
       "version_major": 2,
       "version_minor": 0
      },
      "text/plain": [
       "Validation: 0it [00:00, ?it/s]"
      ]
     },
     "metadata": {},
     "output_type": "display_data"
    },
    {
     "data": {
      "application/vnd.jupyter.widget-view+json": {
       "model_id": "",
       "version_major": 2,
       "version_minor": 0
      },
      "text/plain": [
       "Validation: 0it [00:00, ?it/s]"
      ]
     },
     "metadata": {},
     "output_type": "display_data"
    },
    {
     "data": {
      "application/vnd.jupyter.widget-view+json": {
       "model_id": "",
       "version_major": 2,
       "version_minor": 0
      },
      "text/plain": [
       "Validation: 0it [00:00, ?it/s]"
      ]
     },
     "metadata": {},
     "output_type": "display_data"
    },
    {
     "data": {
      "application/vnd.jupyter.widget-view+json": {
       "model_id": "",
       "version_major": 2,
       "version_minor": 0
      },
      "text/plain": [
       "Validation: 0it [00:00, ?it/s]"
      ]
     },
     "metadata": {},
     "output_type": "display_data"
    },
    {
     "data": {
      "application/vnd.jupyter.widget-view+json": {
       "model_id": "",
       "version_major": 2,
       "version_minor": 0
      },
      "text/plain": [
       "Validation: 0it [00:00, ?it/s]"
      ]
     },
     "metadata": {},
     "output_type": "display_data"
    },
    {
     "data": {
      "application/vnd.jupyter.widget-view+json": {
       "model_id": "",
       "version_major": 2,
       "version_minor": 0
      },
      "text/plain": [
       "Validation: 0it [00:00, ?it/s]"
      ]
     },
     "metadata": {},
     "output_type": "display_data"
    },
    {
     "data": {
      "application/vnd.jupyter.widget-view+json": {
       "model_id": "",
       "version_major": 2,
       "version_minor": 0
      },
      "text/plain": [
       "Validation: 0it [00:00, ?it/s]"
      ]
     },
     "metadata": {},
     "output_type": "display_data"
    },
    {
     "data": {
      "application/vnd.jupyter.widget-view+json": {
       "model_id": "",
       "version_major": 2,
       "version_minor": 0
      },
      "text/plain": [
       "Validation: 0it [00:00, ?it/s]"
      ]
     },
     "metadata": {},
     "output_type": "display_data"
    },
    {
     "data": {
      "application/vnd.jupyter.widget-view+json": {
       "model_id": "",
       "version_major": 2,
       "version_minor": 0
      },
      "text/plain": [
       "Validation: 0it [00:00, ?it/s]"
      ]
     },
     "metadata": {},
     "output_type": "display_data"
    },
    {
     "data": {
      "application/vnd.jupyter.widget-view+json": {
       "model_id": "",
       "version_major": 2,
       "version_minor": 0
      },
      "text/plain": [
       "Validation: 0it [00:00, ?it/s]"
      ]
     },
     "metadata": {},
     "output_type": "display_data"
    },
    {
     "name": "stderr",
     "output_type": "stream",
     "text": [
      "`Trainer.fit` stopped: `max_epochs=10` reached.\n"
     ]
    }
   ],
   "source": [
    "trainer.fit(model, xy_train, xy_val) "
   ]
  },
  {
   "cell_type": "code",
   "execution_count": 285,
   "id": "6d8f4eda-2701-4e45-a1b4-a182912431fa",
   "metadata": {},
   "outputs": [
    {
     "data": {
      "text/html": [
       "<div>\n",
       "<style scoped>\n",
       "    .dataframe tbody tr th:only-of-type {\n",
       "        vertical-align: middle;\n",
       "    }\n",
       "\n",
       "    .dataframe tbody tr th {\n",
       "        vertical-align: top;\n",
       "    }\n",
       "\n",
       "    .dataframe thead th {\n",
       "        text-align: right;\n",
       "    }\n",
       "</style>\n",
       "<table border=\"1\" class=\"dataframe\">\n",
       "  <thead>\n",
       "    <tr style=\"text-align: right;\">\n",
       "      <th></th>\n",
       "      <th>val_loss</th>\n",
       "      <th>epoch</th>\n",
       "      <th>step</th>\n",
       "      <th>train_loss</th>\n",
       "    </tr>\n",
       "  </thead>\n",
       "  <tbody>\n",
       "    <tr>\n",
       "      <th>0</th>\n",
       "      <td>0.331083</td>\n",
       "      <td>0</td>\n",
       "      <td>0</td>\n",
       "      <td>NaN</td>\n",
       "    </tr>\n",
       "    <tr>\n",
       "      <th>1</th>\n",
       "      <td>0.021168</td>\n",
       "      <td>0</td>\n",
       "      <td>71</td>\n",
       "      <td>NaN</td>\n",
       "    </tr>\n",
       "    <tr>\n",
       "      <th>2</th>\n",
       "      <td>NaN</td>\n",
       "      <td>0</td>\n",
       "      <td>71</td>\n",
       "      <td>0.050022</td>\n",
       "    </tr>\n",
       "    <tr>\n",
       "      <th>3</th>\n",
       "      <td>0.016685</td>\n",
       "      <td>1</td>\n",
       "      <td>143</td>\n",
       "      <td>NaN</td>\n",
       "    </tr>\n",
       "    <tr>\n",
       "      <th>4</th>\n",
       "      <td>NaN</td>\n",
       "      <td>1</td>\n",
       "      <td>143</td>\n",
       "      <td>0.013550</td>\n",
       "    </tr>\n",
       "    <tr>\n",
       "      <th>5</th>\n",
       "      <td>0.015621</td>\n",
       "      <td>2</td>\n",
       "      <td>215</td>\n",
       "      <td>NaN</td>\n",
       "    </tr>\n",
       "    <tr>\n",
       "      <th>6</th>\n",
       "      <td>NaN</td>\n",
       "      <td>2</td>\n",
       "      <td>215</td>\n",
       "      <td>0.012400</td>\n",
       "    </tr>\n",
       "    <tr>\n",
       "      <th>7</th>\n",
       "      <td>0.016980</td>\n",
       "      <td>3</td>\n",
       "      <td>287</td>\n",
       "      <td>NaN</td>\n",
       "    </tr>\n",
       "    <tr>\n",
       "      <th>8</th>\n",
       "      <td>NaN</td>\n",
       "      <td>3</td>\n",
       "      <td>287</td>\n",
       "      <td>0.012146</td>\n",
       "    </tr>\n",
       "    <tr>\n",
       "      <th>9</th>\n",
       "      <td>0.014875</td>\n",
       "      <td>4</td>\n",
       "      <td>359</td>\n",
       "      <td>NaN</td>\n",
       "    </tr>\n",
       "    <tr>\n",
       "      <th>10</th>\n",
       "      <td>NaN</td>\n",
       "      <td>4</td>\n",
       "      <td>359</td>\n",
       "      <td>0.012186</td>\n",
       "    </tr>\n",
       "    <tr>\n",
       "      <th>11</th>\n",
       "      <td>0.015778</td>\n",
       "      <td>5</td>\n",
       "      <td>431</td>\n",
       "      <td>NaN</td>\n",
       "    </tr>\n",
       "    <tr>\n",
       "      <th>12</th>\n",
       "      <td>NaN</td>\n",
       "      <td>5</td>\n",
       "      <td>431</td>\n",
       "      <td>0.013574</td>\n",
       "    </tr>\n",
       "    <tr>\n",
       "      <th>13</th>\n",
       "      <td>0.014991</td>\n",
       "      <td>6</td>\n",
       "      <td>503</td>\n",
       "      <td>NaN</td>\n",
       "    </tr>\n",
       "    <tr>\n",
       "      <th>14</th>\n",
       "      <td>NaN</td>\n",
       "      <td>6</td>\n",
       "      <td>503</td>\n",
       "      <td>0.011508</td>\n",
       "    </tr>\n",
       "    <tr>\n",
       "      <th>15</th>\n",
       "      <td>0.014414</td>\n",
       "      <td>7</td>\n",
       "      <td>575</td>\n",
       "      <td>NaN</td>\n",
       "    </tr>\n",
       "    <tr>\n",
       "      <th>16</th>\n",
       "      <td>NaN</td>\n",
       "      <td>7</td>\n",
       "      <td>575</td>\n",
       "      <td>0.011463</td>\n",
       "    </tr>\n",
       "    <tr>\n",
       "      <th>17</th>\n",
       "      <td>0.013433</td>\n",
       "      <td>8</td>\n",
       "      <td>647</td>\n",
       "      <td>NaN</td>\n",
       "    </tr>\n",
       "    <tr>\n",
       "      <th>18</th>\n",
       "      <td>NaN</td>\n",
       "      <td>8</td>\n",
       "      <td>647</td>\n",
       "      <td>0.011292</td>\n",
       "    </tr>\n",
       "    <tr>\n",
       "      <th>19</th>\n",
       "      <td>0.009655</td>\n",
       "      <td>9</td>\n",
       "      <td>719</td>\n",
       "      <td>NaN</td>\n",
       "    </tr>\n",
       "    <tr>\n",
       "      <th>20</th>\n",
       "      <td>NaN</td>\n",
       "      <td>9</td>\n",
       "      <td>719</td>\n",
       "      <td>0.008210</td>\n",
       "    </tr>\n",
       "  </tbody>\n",
       "</table>\n",
       "</div>"
      ],
      "text/plain": [
       "    val_loss  epoch  step  train_loss\n",
       "0   0.331083      0     0         NaN\n",
       "1   0.021168      0    71         NaN\n",
       "2        NaN      0    71    0.050022\n",
       "3   0.016685      1   143         NaN\n",
       "4        NaN      1   143    0.013550\n",
       "5   0.015621      2   215         NaN\n",
       "6        NaN      2   215    0.012400\n",
       "7   0.016980      3   287         NaN\n",
       "8        NaN      3   287    0.012146\n",
       "9   0.014875      4   359         NaN\n",
       "10       NaN      4   359    0.012186\n",
       "11  0.015778      5   431         NaN\n",
       "12       NaN      5   431    0.013574\n",
       "13  0.014991      6   503         NaN\n",
       "14       NaN      6   503    0.011508\n",
       "15  0.014414      7   575         NaN\n",
       "16       NaN      7   575    0.011463\n",
       "17  0.013433      8   647         NaN\n",
       "18       NaN      8   647    0.011292\n",
       "19  0.009655      9   719         NaN\n",
       "20       NaN      9   719    0.008210"
      ]
     },
     "execution_count": 285,
     "metadata": {},
     "output_type": "execute_result"
    }
   ],
   "source": [
    "results = pd.read_csv(logger.log_dir+\"/metrics.csv\")\n",
    "results"
   ]
  },
  {
   "cell_type": "code",
   "execution_count": 286,
   "id": "d9156268-0afc-4513-ae82-b468ec25d875",
   "metadata": {},
   "outputs": [
    {
     "data": {
      "image/png": "[encoded data removed]",
      "text/plain": [
       "<Figure size 640x480 with 1 Axes>"
      ]
     },
     "metadata": {},
     "output_type": "display_data"
    }
   ],
   "source": [
    "plt.plot(results[\"epoch\"][np.logical_not(np.isnan(results[\"train_loss\"]))],\n",
    "         results[\"train_loss\"][np.logical_not(np.isnan(results[\"train_loss\"]))],\n",
    "         label=\"Training\")\n",
    "\n",
    "plt.plot(results[\"epoch\"][np.logical_not(np.isnan(results[\"val_loss\"]))], \n",
    "         results[\"val_loss\"][np.logical_not(np.isnan(results[\"val_loss\"]))], \n",
    "         label=\"Validation\")\n",
    "\n",
    "plt.legend() \n",
    "plt.ylabel(\"CCE Loss\") \n",
    "plt.xlabel(\"Epoch\") \n",
    "plt.show()"
   ]
  },
  {
   "cell_type": "code",
   "execution_count": null,
   "id": "18902a84-c60c-498f-981a-db4a2be6a149",
   "metadata": {},
   "outputs": [],
   "source": []
  }
 ],
 "metadata": {
  "kernelspec": {
   "display_name": "Python 3 (ipykernel)",
   "language": "python",
   "name": "python3"
  },
  "language_info": {
   "codemirror_mode": {
    "name": "ipython",
    "version": 3
   },
   "file_extension": ".py",
   "mimetype": "text/x-python",
   "name": "python",
   "nbconvert_exporter": "python",
   "pygments_lexer": "ipython3",
   "version": "3.11.5"
  }
 },
 "nbformat": 4,
 "nbformat_minor": 5
}
