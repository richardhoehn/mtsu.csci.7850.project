{
 "cells": [
  {
   "cell_type": "code",
   "execution_count": 2,
   "id": "8ba96bee-7b35-48a2-9660-be126f4fbda3",
   "metadata": {},
   "outputs": [],
   "source": [
    "import numpy as np\n",
    "import torch\n",
    "import torch.nn as nn\n",
    "import lightning.pytorch as pl\n",
    "import torchmetrics\n",
    "import torchvision\n",
    "from torchinfo import summary\n",
    "from torchview import draw_graph\n",
    "from IPython.display import display\n",
    "\n",
    "import pandas as pd\n",
    "import matplotlib.pyplot as plt\n",
    "import matplotlib.dates as mdates\n",
    "import plotly.offline as py\n",
    "import plotly.graph_objs as go\n",
    "\n",
    "from sklearn.preprocessing import MinMaxScaler\n"
   ]
  },
  {
   "cell_type": "code",
   "execution_count": 5,
   "id": "3c452bfb-6c16-4b09-802a-b8e777c60c97",
   "metadata": {},
   "outputs": [],
   "source": [
    "# Config & Setup Details\n",
    "cfg_batch_size  = 50\n",
    "cfg_max_epochs  = 10\n",
    "cfg_num_workers = 2\n",
    "\n",
    "# Learning Config\n",
    "cfg_split   = 0.8\n",
    "cfg_seq_len = 600\n",
    "\n",
    "# Data Config\n",
    "cfg_data_separator = \",\"\n",
    "cfg_data_date_fmt  = \"%Y-%m-%d\"\n",
    "cfg_data_url_train = \"https://s3.amazonaws.com/mtsu.csci.7850.project/train.csv\"\n",
    "\n",
    "# Logger Config\n",
    "cfg_logger_dir     = \"logs\"\n",
    "cfg_logger_name    = \"Project\"\n",
    "cfg_logger_version = \"data-loader\"\n"
   ]
  },
  {
   "cell_type": "code",
   "execution_count": 6,
   "id": "3d9c2e45-4217-4d40-8f11-0b0d8d57b906",
   "metadata": {},
   "outputs": [
    {
     "name": "stdout",
     "output_type": "stream",
     "text": [
      "Only CPU is available...\n"
     ]
    }
   ],
   "source": [
    "# Setup CPU or GPU Device Settings for CUDA\n",
    "if torch.cuda.is_available():\n",
    "    print(torch.cuda.get_device_name())\n",
    "    print(torch.cuda.get_device_properties(\"cuda\"))\n",
    "    print(\"Number of devices:\",torch.cuda.device_count())\n",
    "    device = (\"cuda\")\n",
    "else:\n",
    "    print(\"Only CPU is available...\")\n",
    "    device = (\"cpu\")"
   ]
  },
  {
   "cell_type": "code",
   "execution_count": 7,
   "id": "7434bc9f-b965-4032-8c7a-f069c91761f9",
   "metadata": {},
   "outputs": [
    {
     "name": "stdout",
     "output_type": "stream",
     "text": [
      "Raw Shape: (913000, 4)\n",
      "        date  store  item  sales\n",
      "0 2013-01-01      1     1     13\n",
      "1 2013-01-02      1     1     11\n",
      "2 2013-01-03      1     1     14\n",
      "3 2013-01-04      1     1     13\n",
      "4 2013-01-05      1     1     10\n",
      "\n",
      "********\n",
      "\n",
      "Grouped by Date Shape: (1826, 2)\n",
      "           date  sales\n",
      "0    2013-01-01  13696\n",
      "1    2013-01-02  13678\n",
      "2    2013-01-03  14488\n",
      "3    2013-01-04  15677\n",
      "4    2013-01-05  16237\n",
      "...         ...    ...\n",
      "1821 2017-12-27  20378\n",
      "1822 2017-12-28  21885\n",
      "1823 2017-12-29  23535\n",
      "1824 2017-12-30  24988\n",
      "1825 2017-12-31  26420\n",
      "\n",
      "[1826 rows x 2 columns]\n",
      "\n",
      "********\n",
      "\n",
      "Training Shape: (1826, 3)\n",
      "      index       date  sales\n",
      "0         0 2013-01-01  13696\n",
      "1         1 2013-01-02  13678\n",
      "2         2 2013-01-03  14488\n",
      "3         3 2013-01-04  15677\n",
      "4         4 2013-01-05  16237\n",
      "...     ...        ...    ...\n",
      "1821   1821 2017-12-27  20378\n",
      "1822   1822 2017-12-28  21885\n",
      "1823   1823 2017-12-29  23535\n",
      "1824   1824 2017-12-30  24988\n",
      "1825   1825 2017-12-31  26420\n",
      "\n",
      "[1826 rows x 3 columns]\n",
      "Training Cols: Index(['index', 'date', 'sales'], dtype='object')\n",
      "\n",
      "********\n",
      "\n"
     ]
    }
   ],
   "source": [
    "# Load Data - Parse the Date Column\n",
    "df_raw = pd.read_csv(cfg_data_url_train, parse_dates=[\"date\"])\n",
    "\n",
    "print(f\"Raw Shape: {df_raw.shape}\")\n",
    "print(df_raw.head())\n",
    "print(\"\\n********\\n\")\n",
    "\n",
    "# Format Date Column to DateTime\n",
    "df_raw['date'] = pd.to_datetime(df_raw['date'], format=cfg_data_date_fmt)\n",
    "\n",
    "# Get Sales (Sum across all Stores) Grouped by Date\n",
    "df_grouped_date = df_raw.groupby(['date'])['sales'].sum().reset_index()\n",
    "print(f\"Grouped by Date Shape: {df_grouped_date.shape}\")\n",
    "print(df_grouped_date)\n",
    "print(\"\\n********\\n\")\n",
    "\n",
    "# Resetting the index\n",
    "df_train = df_grouped_date.reset_index()\n",
    "\n",
    "# Show the New Table\n",
    "print(f\"Training Shape: {df_train.shape}\")\n",
    "print(df_train)\n",
    "print(f\"Training Cols: {df_train.columns}\")\n",
    "print(\"\\n********\\n\")\n",
    "\n"
   ]
  },
  {
   "cell_type": "code",
   "execution_count": 8,
   "id": "4df77e4c-8929-4521-92f0-ac792f67c08d",
   "metadata": {},
   "outputs": [
    {
     "data": {
      "text/html": [
       "<div>\n",
       "<style scoped>\n",
       "    .dataframe tbody tr th:only-of-type {\n",
       "        vertical-align: middle;\n",
       "    }\n",
       "\n",
       "    .dataframe tbody tr th {\n",
       "        vertical-align: top;\n",
       "    }\n",
       "\n",
       "    .dataframe thead th {\n",
       "        text-align: right;\n",
       "    }\n",
       "</style>\n",
       "<table border=\"1\" class=\"dataframe\">\n",
       "  <thead>\n",
       "    <tr style=\"text-align: right;\">\n",
       "      <th></th>\n",
       "      <th>index</th>\n",
       "      <th>date</th>\n",
       "      <th>sales</th>\n",
       "    </tr>\n",
       "  </thead>\n",
       "  <tbody>\n",
       "    <tr>\n",
       "      <th>0</th>\n",
       "      <td>0</td>\n",
       "      <td>2013-01-01</td>\n",
       "      <td>0.059801</td>\n",
       "    </tr>\n",
       "    <tr>\n",
       "      <th>1</th>\n",
       "      <td>1</td>\n",
       "      <td>2013-01-02</td>\n",
       "      <td>0.059530</td>\n",
       "    </tr>\n",
       "    <tr>\n",
       "      <th>2</th>\n",
       "      <td>2</td>\n",
       "      <td>2013-01-03</td>\n",
       "      <td>0.067566</td>\n",
       "    </tr>\n",
       "    <tr>\n",
       "      <th>3</th>\n",
       "      <td>3</td>\n",
       "      <td>2013-01-04</td>\n",
       "      <td>0.080529</td>\n",
       "    </tr>\n",
       "    <tr>\n",
       "      <th>4</th>\n",
       "      <td>4</td>\n",
       "      <td>2013-01-05</td>\n",
       "      <td>0.091678</td>\n",
       "    </tr>\n",
       "    <tr>\n",
       "      <th>5</th>\n",
       "      <td>5</td>\n",
       "      <td>2013-01-06</td>\n",
       "      <td>0.104398</td>\n",
       "    </tr>\n",
       "    <tr>\n",
       "      <th>6</th>\n",
       "      <td>6</td>\n",
       "      <td>2013-01-07</td>\n",
       "      <td>0.089742</td>\n",
       "    </tr>\n",
       "    <tr>\n",
       "      <th>7</th>\n",
       "      <td>7</td>\n",
       "      <td>2013-01-08</td>\n",
       "      <td>0.089157</td>\n",
       "    </tr>\n",
       "    <tr>\n",
       "      <th>8</th>\n",
       "      <td>8</td>\n",
       "      <td>2013-01-09</td>\n",
       "      <td>0.090017</td>\n",
       "    </tr>\n",
       "    <tr>\n",
       "      <th>9</th>\n",
       "      <td>9</td>\n",
       "      <td>2013-01-10</td>\n",
       "      <td>0.090679</td>\n",
       "    </tr>\n",
       "  </tbody>\n",
       "</table>\n",
       "</div>"
      ],
      "text/plain": [
       "   index       date     sales\n",
       "0      0 2013-01-01  0.059801\n",
       "1      1 2013-01-02  0.059530\n",
       "2      2 2013-01-03  0.067566\n",
       "3      3 2013-01-04  0.080529\n",
       "4      4 2013-01-05  0.091678\n",
       "5      5 2013-01-06  0.104398\n",
       "6      6 2013-01-07  0.089742\n",
       "7      7 2013-01-08  0.089157\n",
       "8      8 2013-01-09  0.090017\n",
       "9      9 2013-01-10  0.090679"
      ]
     },
     "execution_count": 8,
     "metadata": {},
     "output_type": "execute_result"
    }
   ],
   "source": [
    "# Scaling\n",
    "scaler = MinMaxScaler(feature_range=(0, 1))\n",
    "sales_data = df_train['sales'].values.reshape(-1, 1)\n",
    "scaled_sales_data = scaler.fit_transform(sales_data)\n",
    "df_train['sales'] = scaled_sales_data\n",
    "\n",
    "\n",
    "df_avg = df_train\n",
    "\n",
    "# Set the Roling Average of the last 7 days\n",
    "df_avg['sales'] = df_avg['sales'].rolling(window=7, min_periods=1).mean()\n",
    "\n",
    "# Displaying the updated DataFrame with moving averages\n",
    "df_avg.head(10) "
   ]
  },
  {
   "cell_type": "code",
   "execution_count": 9,
   "id": "19d512fb-f092-446b-ba5e-b343ea5d8acd",
   "metadata": {},
   "outputs": [
    {
     "name": "stdout",
     "output_type": "stream",
     "text": [
      "DF Shape: (1826, 2)\n"
     ]
    },
    {
     "data": {
      "text/html": [
       "<div>\n",
       "<style scoped>\n",
       "    .dataframe tbody tr th:only-of-type {\n",
       "        vertical-align: middle;\n",
       "    }\n",
       "\n",
       "    .dataframe tbody tr th {\n",
       "        vertical-align: top;\n",
       "    }\n",
       "\n",
       "    .dataframe thead th {\n",
       "        text-align: right;\n",
       "    }\n",
       "</style>\n",
       "<table border=\"1\" class=\"dataframe\">\n",
       "  <thead>\n",
       "    <tr style=\"text-align: right;\">\n",
       "      <th></th>\n",
       "      <th>index</th>\n",
       "      <th>sales</th>\n",
       "    </tr>\n",
       "    <tr>\n",
       "      <th>date</th>\n",
       "      <th></th>\n",
       "      <th></th>\n",
       "    </tr>\n",
       "  </thead>\n",
       "  <tbody>\n",
       "    <tr>\n",
       "      <th>2013-01-01</th>\n",
       "      <td>0</td>\n",
       "      <td>0.059801</td>\n",
       "    </tr>\n",
       "    <tr>\n",
       "      <th>2013-01-02</th>\n",
       "      <td>1</td>\n",
       "      <td>0.059530</td>\n",
       "    </tr>\n",
       "    <tr>\n",
       "      <th>2013-01-03</th>\n",
       "      <td>2</td>\n",
       "      <td>0.067566</td>\n",
       "    </tr>\n",
       "    <tr>\n",
       "      <th>2013-01-04</th>\n",
       "      <td>3</td>\n",
       "      <td>0.080529</td>\n",
       "    </tr>\n",
       "    <tr>\n",
       "      <th>2013-01-05</th>\n",
       "      <td>4</td>\n",
       "      <td>0.091678</td>\n",
       "    </tr>\n",
       "    <tr>\n",
       "      <th>2013-01-06</th>\n",
       "      <td>5</td>\n",
       "      <td>0.104398</td>\n",
       "    </tr>\n",
       "    <tr>\n",
       "      <th>2013-01-07</th>\n",
       "      <td>6</td>\n",
       "      <td>0.089742</td>\n",
       "    </tr>\n",
       "    <tr>\n",
       "      <th>2013-01-08</th>\n",
       "      <td>7</td>\n",
       "      <td>0.089157</td>\n",
       "    </tr>\n",
       "    <tr>\n",
       "      <th>2013-01-09</th>\n",
       "      <td>8</td>\n",
       "      <td>0.090017</td>\n",
       "    </tr>\n",
       "    <tr>\n",
       "      <th>2013-01-10</th>\n",
       "      <td>9</td>\n",
       "      <td>0.090679</td>\n",
       "    </tr>\n",
       "  </tbody>\n",
       "</table>\n",
       "</div>"
      ],
      "text/plain": [
       "            index     sales\n",
       "date                       \n",
       "2013-01-01      0  0.059801\n",
       "2013-01-02      1  0.059530\n",
       "2013-01-03      2  0.067566\n",
       "2013-01-04      3  0.080529\n",
       "2013-01-05      4  0.091678\n",
       "2013-01-06      5  0.104398\n",
       "2013-01-07      6  0.089742\n",
       "2013-01-08      7  0.089157\n",
       "2013-01-09      8  0.090017\n",
       "2013-01-10      9  0.090679"
      ]
     },
     "execution_count": 9,
     "metadata": {},
     "output_type": "execute_result"
    }
   ],
   "source": [
    "# Setup the Dataframe being used\n",
    "df = df_avg # Simple Copy\n",
    "df.set_index('date', inplace=True)\n",
    "print(f\"DF Shape: {df.shape}\")\n",
    "\n",
    "df.head(10) "
   ]
  },
  {
   "cell_type": "code",
   "execution_count": null,
   "id": "27cf09c1-ad4c-4b6b-89af-074eca3596fa",
   "metadata": {},
   "outputs": [],
   "source": [
    "def getPositionEncoding(seq_len, d, n=10000):\n",
    "    P = np.zeros((seq_len, d))\n",
    "    for k in range(seq_len):\n",
    "        for i in np.arange(int(d/2)):\n",
    "            denominator = np.power(n, 2*i/d)\n",
    "            P[k, 2*i] = np.sin(k/denominator)\n",
    "            P[k, 2*i+1] = np.cos(k/denominator)\n",
    "    return P\n",
    " \n",
    "P = getPositionEncoding(seq_len=4, d=4, n=100)\n",
    "print(P)"
   ]
  },
  {
   "cell_type": "code",
   "execution_count": 10,
   "id": "eaf64eff-41cc-4a5b-9911-c82608369188",
   "metadata": {},
   "outputs": [],
   "source": [
    "class SinePositionEmbedding(torch.nn.Module):\n",
    "    def __init__(self,\n",
    "                 max_wavelength=10000.0,\n",
    "                 **kwargs):\n",
    "        super().__init__(**kwargs)\n",
    "        self.max_wavelength = torch.Tensor([max_wavelength])\n",
    "\n",
    "    def forward(self, x):\n",
    "        input_shape = x.shape\n",
    "        input_type = x.dtype\n",
    "        seq_length = x.shape[-2]\n",
    "        hidden_size = x.shape[-1]\n",
    "        position = torch.arange(seq_length).to(input_type)\n",
    "        min_freq = (1 / self.max_wavelength).to(input_type)\n",
    "        timescales = torch.pow(\n",
    "            min_freq,\n",
    "            (2 * (torch.arange(hidden_size) // 2)).to(input_type)\n",
    "            / torch.Tensor([hidden_size]).to(input_type)\n",
    "        )\n",
    "        angles = torch.unsqueeze(position, 1) * torch.unsqueeze(timescales, 0)\n",
    "        cos_mask = (torch.arange(hidden_size) % 2).to(input_type)\n",
    "        sin_mask = 1 - cos_mask\n",
    "        positional_encodings = (\n",
    "            torch.sin(angles) * sin_mask + torch.cos(angles) * cos_mask\n",
    "        )\n",
    "        return torch.broadcast_to(positional_encodings, input_shape).to(device)"
   ]
  },
  {
   "cell_type": "code",
   "execution_count": 12,
   "id": "16246700-5ede-44c3-aa8d-d2d9cae62346",
   "metadata": {},
   "outputs": [
    {
     "data": {
      "text/plain": [
       "tensor([[ 0.0000e+00,  1.0000e+00,  0.0000e+00,  ...,  1.0000e+00,\n",
       "          0.0000e+00,  1.0000e+00],\n",
       "        [ 8.4147e-01,  5.4030e-01,  6.3795e-01,  ...,  1.0000e+00,\n",
       "          1.4454e-04,  1.0000e+00],\n",
       "        [ 9.0930e-01, -4.1615e-01,  9.8254e-01,  ...,  1.0000e+00,\n",
       "          2.8909e-04,  1.0000e+00],\n",
       "        ...,\n",
       "        [ 7.6835e-01,  6.4003e-01, -9.9000e-01,  ...,  9.2834e-01,\n",
       "          2.6046e-01,  9.6548e-01],\n",
       "        [ 9.5371e-01, -3.0074e-01, -8.5235e-01,  ...,  9.2826e-01,\n",
       "          2.6060e-01,  9.6545e-01],\n",
       "        [ 2.6223e-01, -9.6501e-01, -3.2281e-01,  ...,  9.2818e-01,\n",
       "          2.6074e-01,  9.6541e-01]])"
      ]
     },
     "execution_count": 12,
     "metadata": {},
     "output_type": "execute_result"
    }
   ],
   "source": [
    "temp = SinePositionEmbedding()\n",
    "temp(torch.ones(size=(1,1826,50)))[0,:,:]"
   ]
  },
  {
   "cell_type": "code",
   "execution_count": 13,
   "id": "b9d3fd1e-2e2a-4d08-93be-673124f5bf12",
   "metadata": {},
   "outputs": [],
   "source": [
    "def create_sequences(data, seq_length):\n",
    "    xs = []\n",
    "    ys = []\n",
    "\n",
    "    for i in range(len(data) - seq_length):\n",
    "        x = data.iloc[i:(i + seq_length)]['sales'].values\n",
    "        y = data.iloc[i + seq_length]['sales']\n",
    "        xs.append(x)\n",
    "        ys.append(y)\n",
    "    \n",
    "    return np.array(xs), np.array(ys)"
   ]
  },
  {
   "cell_type": "code",
   "execution_count": 14,
   "id": "4de4fe51-6058-4624-b984-e5d302af0384",
   "metadata": {},
   "outputs": [],
   "source": [
    "x, y = create_sequences(df, cfg_seq_len)\n",
    "\n",
    "# Convert to PyTorch tensors\n",
    "x_tensor = torch.tensor(x, dtype=torch.float32)\n",
    "y_tensor = torch.tensor(y, dtype=torch.float32)\n",
    "\n",
    "# Split the data into training and testing sets\n",
    "train_size = int(cfg_split * len(x_tensor))\n",
    "\n",
    "x_train = x_tensor[:train_size]\n",
    "#x_train = x_train.unsqueeze(-1)\n",
    "\n",
    "y_train = y_tensor[:train_size]\n",
    "\n",
    "x_val = x_tensor[train_size:]\n",
    "y_val = y_tensor[train_size:]"
   ]
  },
  {
   "cell_type": "code",
   "execution_count": 15,
   "id": "f5d8017d-ef71-4785-9e9d-2db2f2dae877",
   "metadata": {},
   "outputs": [
    {
     "name": "stdout",
     "output_type": "stream",
     "text": [
      "x Shape: (1226, 600)\n",
      "y Shape: (1226,)\n",
      "\n",
      "x_train Shape: torch.Size([980, 600])\n",
      "y_train Shape: torch.Size([980])\n",
      "\n",
      "x_val Shape: torch.Size([246, 600])\n",
      "y_val Shape: torch.Size([246])\n"
     ]
    }
   ],
   "source": [
    "print(f\"x Shape: {x.shape}\")\n",
    "print(f\"y Shape: {y.shape}\")\n",
    "print(\"\")\n",
    "print(f\"x_train Shape: {x_train.shape}\")\n",
    "print(f\"y_train Shape: {y_train.shape}\")\n",
    "print(\"\")\n",
    "print(f\"x_val Shape: {x_val.shape}\")\n",
    "print(f\"y_val Shape: {y_val.shape}\")"
   ]
  },
  {
   "cell_type": "code",
   "execution_count": 16,
   "id": "6466407a-73a5-480c-8123-fc1631a06e93",
   "metadata": {},
   "outputs": [],
   "source": [
    "class LSTMModel(pl.LightningModule):\n",
    "    def __init__(self, \n",
    "                 input_size, \n",
    "                 hidden_size, \n",
    "                 output_size, \n",
    "                 num_layers,\n",
    "                 scaler = 10000,\n",
    "                 **kwargs):\n",
    "        super().__init__(**kwargs)\n",
    "\n",
    "        self.lstm = nn.LSTM(input_size, hidden_size, num_layers, batch_first=True, dropout=0.1)\n",
    "        self.dropout = torch.nn.Dropout1d(0.1) # Whole token dropped\n",
    "        self.linear = nn.Linear(hidden_size, output_size)\n",
    "        self.loss = nn.MSELoss()\n",
    "        self.scaler = scaler\n",
    "\n",
    "    def configure_optimizers(self):\n",
    "        optimizer = torch.optim.Adam(self.parameters(), lr=0.001)\n",
    "        return optimizer\n",
    "\n",
    "    # No complications with regression...\n",
    "    def predict(self, x):\n",
    "        return self(x)\n",
    "    \n",
    "    def forward(self, x):\n",
    "        x = x.unsqueeze(-1)\n",
    "        y = x\n",
    "        y, _ = self.lstm(y)\n",
    "        y = y[:, -1, :] # Extract only the last time step\n",
    "        y = self.linear(y) # Using linear to bring back to output_size\n",
    "        y = y.squeeze()\n",
    "        return y\n",
    "\n",
    "    def training_step(self, train_batch, batch_idx):\n",
    "        # training_step defines the train loop. It is independent of forward\n",
    "        x, y_true = train_batch\n",
    "        y_pred = self(x)\n",
    "        loss = self.loss(y_pred, y_true)\n",
    "        self.log('train_loss', loss, on_step=False, on_epoch=True)\n",
    "\n",
    "        return loss\n",
    "\n",
    "    def validation_step(self, val_batch, batch_idx):\n",
    "        x, y_true = val_batch\n",
    "        y_pred = self(x)\n",
    "        loss = self.loss(y_pred, y_true)\n",
    "        self.log('val_loss', loss, on_step=False, on_epoch=True)\n",
    "\n",
    "        return loss\n",
    "\n",
    "\n",
    "# Model parameters\n",
    "input_size  = 1  # Number of features (sales data from 10 stores)\n",
    "hidden_size = 50 # Number of features in hidden state\n",
    "output_size = 1  # Number of output values (future sales prediction)\n",
    "num_layers  = 4  # Number of stacked LSTM layers\n",
    "\n",
    "# Create the LSTM model\n",
    "model = LSTMModel(input_size, hidden_size, output_size, num_layers)"
   ]
  },
  {
   "cell_type": "code",
   "execution_count": 17,
   "id": "13f87241-11f5-4cf1-aa57-e4bc952171ce",
   "metadata": {},
   "outputs": [
    {
     "data": {
      "text/plain": [
       "==========================================================================================\n",
       "Layer (type:depth-idx)                   Output Shape              Param #\n",
       "==========================================================================================\n",
       "LSTMModel                                [5]                       --\n",
       "├─LSTM: 1-1                              [5, 600, 50]              71,800\n",
       "├─Linear: 1-2                            [5, 1]                    51\n",
       "==========================================================================================\n",
       "Total params: 71,851\n",
       "Trainable params: 71,851\n",
       "Non-trainable params: 0\n",
       "Total mult-adds (Units.MEGABYTES): 215.40\n",
       "==========================================================================================\n",
       "Input size (MB): 2.94\n",
       "Forward/backward pass size (MB): 1.20\n",
       "Params size (MB): 0.29\n",
       "Estimated Total Size (MB): 4.43\n",
       "=========================================================================================="
      ]
     },
     "execution_count": 17,
     "metadata": {},
     "output_type": "execute_result"
    }
   ],
   "source": [
    "summary(model, input_data=torch.Tensor(x_train[0:5]).float())"
   ]
  },
  {
   "cell_type": "code",
   "execution_count": 18,
   "id": "e2da7029-b357-4293-971b-c5496b7257f3",
   "metadata": {},
   "outputs": [
    {
     "data": {
      "image/svg+xml": [
       "<?xml version=\"1.0\" encoding=\"UTF-8\" standalone=\"no\"?>\n",
       "<!DOCTYPE svg PUBLIC \"-//W3C//DTD SVG 1.1//EN\"\n",
       " \"http://www.w3.org/Graphics/SVG/1.1/DTD/svg11.dtd\">\n",
       "<!-- Generated by graphviz version 8.1.0 (20230707.2238)\n",
       " -->\n",
       "<!-- Title: model Pages: 1 -->\n",
       "<svg width=\"237pt\" height=\"515pt\"\n",
       " viewBox=\"0.00 0.00 237.00 515.00\" xmlns=\"http://www.w3.org/2000/svg\" xmlns:xlink=\"http://www.w3.org/1999/xlink\">\n",
       "<g id=\"graph0\" class=\"graph\" transform=\"scale(1 1) rotate(0) translate(4 511)\">\n",
       "<title>model</title>\n",
       "<polygon fill=\"white\" stroke=\"none\" points=\"-4,4 -4,-511 233,-511 233,4 -4,4\"/>\n",
       "<!-- 0 -->\n",
       "<g id=\"node1\" class=\"node\">\n",
       "<title>0</title>\n",
       "<polygon fill=\"lightyellow\" stroke=\"none\" points=\"172.88,-507 56.12,-507 56.12,-471.5 172.88,-471.5 172.88,-507\"/>\n",
       "<polygon fill=\"none\" stroke=\"black\" points=\"56.12,-471.5 56.12,-507 125.38,-507 125.38,-471.5 56.12,-471.5\"/>\n",
       "<text text-anchor=\"start\" x=\"61.12\" y=\"-492.5\" font-family=\"Linux libertine\" font-size=\"10.00\">input&#45;tensor</text>\n",
       "<text text-anchor=\"start\" x=\"72.38\" y=\"-479.75\" font-family=\"Linux libertine\" font-size=\"10.00\">depth:0</text>\n",
       "<polygon fill=\"none\" stroke=\"black\" points=\"125.38,-471.5 125.38,-507 172.88,-507 172.88,-471.5 125.38,-471.5\"/>\n",
       "<text text-anchor=\"start\" x=\"130.38\" y=\"-486.12\" font-family=\"Linux libertine\" font-size=\"10.00\">(5, 600)</text>\n",
       "</g>\n",
       "<!-- 1 -->\n",
       "<g id=\"node2\" class=\"node\">\n",
       "<title>1</title>\n",
       "<polygon fill=\"aliceblue\" stroke=\"none\" points=\"200,-435.5 29,-435.5 29,-391.5 200,-391.5 200,-435.5\"/>\n",
       "<polygon fill=\"none\" stroke=\"black\" points=\"29,-391.5 29,-435.5 91,-435.5 91,-391.5 29,-391.5\"/>\n",
       "<text text-anchor=\"start\" x=\"33.75\" y=\"-416.75\" font-family=\"Linux libertine\" font-size=\"10.00\">unsqueeze</text>\n",
       "<text text-anchor=\"start\" x=\"41.62\" y=\"-404\" font-family=\"Linux libertine\" font-size=\"10.00\">depth:1</text>\n",
       "<polygon fill=\"none\" stroke=\"black\" points=\"91,-413.5 91,-435.5 138,-435.5 138,-413.5 91,-413.5\"/>\n",
       "<text text-anchor=\"start\" x=\"100.62\" y=\"-421\" font-family=\"Linux libertine\" font-size=\"10.00\">input:</text>\n",
       "<polygon fill=\"none\" stroke=\"black\" points=\"138,-413.5 138,-435.5 200,-435.5 200,-413.5 138,-413.5\"/>\n",
       "<text text-anchor=\"start\" x=\"148.75\" y=\"-421\" font-family=\"Linux libertine\" font-size=\"10.00\">(5, 600) </text>\n",
       "<polygon fill=\"none\" stroke=\"black\" points=\"91,-391.5 91,-413.5 138,-413.5 138,-391.5 91,-391.5\"/>\n",
       "<text text-anchor=\"start\" x=\"95.75\" y=\"-399\" font-family=\"Linux libertine\" font-size=\"10.00\">output: </text>\n",
       "<polygon fill=\"none\" stroke=\"black\" points=\"138,-391.5 138,-413.5 200,-413.5 200,-391.5 138,-391.5\"/>\n",
       "<text text-anchor=\"start\" x=\"142.75\" y=\"-399\" font-family=\"Linux libertine\" font-size=\"10.00\">(5, 600, 1) </text>\n",
       "</g>\n",
       "<!-- 0&#45;&gt;1 -->\n",
       "<g id=\"edge1\" class=\"edge\">\n",
       "<title>0&#45;&gt;1</title>\n",
       "<path fill=\"none\" stroke=\"black\" d=\"M114.5,-471.51C114.5,-464.07 114.5,-455.04 114.5,-446.39\"/>\n",
       "<polygon fill=\"black\" stroke=\"black\" points=\"118,-446.39 114.5,-436.39 111,-446.39 118,-446.39\"/>\n",
       "</g>\n",
       "<!-- 2 -->\n",
       "<g id=\"node3\" class=\"node\">\n",
       "<title>2</title>\n",
       "<polygon fill=\"#c1ffc1\" stroke=\"none\" points=\"229,-355.5 0,-355.5 0,-311.5 229,-311.5 229,-355.5\"/>\n",
       "<polygon fill=\"none\" stroke=\"black\" points=\"0,-311.5 0,-355.5 46,-355.5 46,-311.5 0,-311.5\"/>\n",
       "<text text-anchor=\"start\" x=\"9.88\" y=\"-336.75\" font-family=\"Linux libertine\" font-size=\"10.00\">LSTM</text>\n",
       "<text text-anchor=\"start\" x=\"4.62\" y=\"-324\" font-family=\"Linux libertine\" font-size=\"10.00\">depth:1</text>\n",
       "<polygon fill=\"none\" stroke=\"black\" points=\"46,-333.5 46,-355.5 93,-355.5 93,-333.5 46,-333.5\"/>\n",
       "<text text-anchor=\"start\" x=\"55.62\" y=\"-341\" font-family=\"Linux libertine\" font-size=\"10.00\">input:</text>\n",
       "<polygon fill=\"none\" stroke=\"black\" points=\"93,-333.5 93,-355.5 229,-355.5 229,-333.5 93,-333.5\"/>\n",
       "<text text-anchor=\"start\" x=\"134.75\" y=\"-341\" font-family=\"Linux libertine\" font-size=\"10.00\">(5, 600, 1) </text>\n",
       "<polygon fill=\"none\" stroke=\"black\" points=\"46,-311.5 46,-333.5 93,-333.5 93,-311.5 46,-311.5\"/>\n",
       "<text text-anchor=\"start\" x=\"50.75\" y=\"-319\" font-family=\"Linux libertine\" font-size=\"10.00\">output: </text>\n",
       "<polygon fill=\"none\" stroke=\"black\" points=\"93,-311.5 93,-333.5 229,-333.5 229,-311.5 93,-311.5\"/>\n",
       "<text text-anchor=\"start\" x=\"98\" y=\"-319\" font-family=\"Linux libertine\" font-size=\"10.00\">(5, 600, 50), 2 x (4, 5, 50) </text>\n",
       "</g>\n",
       "<!-- 1&#45;&gt;2 -->\n",
       "<g id=\"edge2\" class=\"edge\">\n",
       "<title>1&#45;&gt;2</title>\n",
       "<path fill=\"none\" stroke=\"black\" d=\"M114.5,-391.6C114.5,-383.82 114.5,-374.8 114.5,-366.26\"/>\n",
       "<polygon fill=\"black\" stroke=\"black\" points=\"118,-366.46 114.5,-356.46 111,-366.46 118,-366.46\"/>\n",
       "</g>\n",
       "<!-- 3 -->\n",
       "<g id=\"node4\" class=\"node\">\n",
       "<title>3</title>\n",
       "<polygon fill=\"aliceblue\" stroke=\"none\" points=\"206.5,-275.5 22.5,-275.5 22.5,-231.5 206.5,-231.5 206.5,-275.5\"/>\n",
       "<polygon fill=\"none\" stroke=\"black\" points=\"22.5,-231.5 22.5,-275.5 91.5,-275.5 91.5,-231.5 22.5,-231.5\"/>\n",
       "<text text-anchor=\"start\" x=\"27.38\" y=\"-256.75\" font-family=\"Linux libertine\" font-size=\"10.00\">__getitem__</text>\n",
       "<text text-anchor=\"start\" x=\"38.62\" y=\"-244\" font-family=\"Linux libertine\" font-size=\"10.00\">depth:1</text>\n",
       "<polygon fill=\"none\" stroke=\"black\" points=\"91.5,-253.5 91.5,-275.5 138.5,-275.5 138.5,-253.5 91.5,-253.5\"/>\n",
       "<text text-anchor=\"start\" x=\"101.12\" y=\"-261\" font-family=\"Linux libertine\" font-size=\"10.00\">input:</text>\n",
       "<polygon fill=\"none\" stroke=\"black\" points=\"138.5,-253.5 138.5,-275.5 206.5,-275.5 206.5,-253.5 138.5,-253.5\"/>\n",
       "<text text-anchor=\"start\" x=\"143.25\" y=\"-261\" font-family=\"Linux libertine\" font-size=\"10.00\">(5, 600, 50) </text>\n",
       "<polygon fill=\"none\" stroke=\"black\" points=\"91.5,-231.5 91.5,-253.5 138.5,-253.5 138.5,-231.5 91.5,-231.5\"/>\n",
       "<text text-anchor=\"start\" x=\"96.25\" y=\"-239\" font-family=\"Linux libertine\" font-size=\"10.00\">output: </text>\n",
       "<polygon fill=\"none\" stroke=\"black\" points=\"138.5,-231.5 138.5,-253.5 206.5,-253.5 206.5,-231.5 138.5,-231.5\"/>\n",
       "<text text-anchor=\"start\" x=\"155.25\" y=\"-239\" font-family=\"Linux libertine\" font-size=\"10.00\">(5, 50) </text>\n",
       "</g>\n",
       "<!-- 2&#45;&gt;3 -->\n",
       "<g id=\"edge3\" class=\"edge\">\n",
       "<title>2&#45;&gt;3</title>\n",
       "<path fill=\"none\" stroke=\"black\" d=\"M114.5,-311.6C114.5,-303.82 114.5,-294.8 114.5,-286.26\"/>\n",
       "<polygon fill=\"black\" stroke=\"black\" points=\"118,-286.46 114.5,-276.46 111,-286.46 118,-286.46\"/>\n",
       "</g>\n",
       "<!-- 4 -->\n",
       "<g id=\"node5\" class=\"node\">\n",
       "<title>4</title>\n",
       "<polygon fill=\"#c1ffc1\" stroke=\"none\" points=\"183,-195.5 46,-195.5 46,-151.5 183,-151.5 183,-195.5\"/>\n",
       "<polygon fill=\"none\" stroke=\"black\" points=\"46,-151.5 46,-195.5 92,-195.5 92,-151.5 46,-151.5\"/>\n",
       "<text text-anchor=\"start\" x=\"54\" y=\"-176.75\" font-family=\"Linux libertine\" font-size=\"10.00\">Linear</text>\n",
       "<text text-anchor=\"start\" x=\"50.62\" y=\"-164\" font-family=\"Linux libertine\" font-size=\"10.00\">depth:1</text>\n",
       "<polygon fill=\"none\" stroke=\"black\" points=\"92,-173.5 92,-195.5 139,-195.5 139,-173.5 92,-173.5\"/>\n",
       "<text text-anchor=\"start\" x=\"101.62\" y=\"-181\" font-family=\"Linux libertine\" font-size=\"10.00\">input:</text>\n",
       "<polygon fill=\"none\" stroke=\"black\" points=\"139,-173.5 139,-195.5 183,-195.5 183,-173.5 139,-173.5\"/>\n",
       "<text text-anchor=\"start\" x=\"143.75\" y=\"-181\" font-family=\"Linux libertine\" font-size=\"10.00\">(5, 50) </text>\n",
       "<polygon fill=\"none\" stroke=\"black\" points=\"92,-151.5 92,-173.5 139,-173.5 139,-151.5 92,-151.5\"/>\n",
       "<text text-anchor=\"start\" x=\"96.75\" y=\"-159\" font-family=\"Linux libertine\" font-size=\"10.00\">output: </text>\n",
       "<polygon fill=\"none\" stroke=\"black\" points=\"139,-151.5 139,-173.5 183,-173.5 183,-151.5 139,-151.5\"/>\n",
       "<text text-anchor=\"start\" x=\"146.75\" y=\"-159\" font-family=\"Linux libertine\" font-size=\"10.00\">(5, 1) </text>\n",
       "</g>\n",
       "<!-- 3&#45;&gt;4 -->\n",
       "<g id=\"edge4\" class=\"edge\">\n",
       "<title>3&#45;&gt;4</title>\n",
       "<path fill=\"none\" stroke=\"black\" d=\"M114.5,-231.6C114.5,-223.82 114.5,-214.8 114.5,-206.26\"/>\n",
       "<polygon fill=\"black\" stroke=\"black\" points=\"118,-206.46 114.5,-196.46 111,-206.46 118,-206.46\"/>\n",
       "</g>\n",
       "<!-- 5 -->\n",
       "<g id=\"node6\" class=\"node\">\n",
       "<title>5</title>\n",
       "<polygon fill=\"aliceblue\" stroke=\"none\" points=\"182,-115.5 47,-115.5 47,-71.5 182,-71.5 182,-115.5\"/>\n",
       "<polygon fill=\"none\" stroke=\"black\" points=\"47,-71.5 47,-115.5 97,-115.5 97,-71.5 47,-71.5\"/>\n",
       "<text text-anchor=\"start\" x=\"51.75\" y=\"-96.75\" font-family=\"Linux libertine\" font-size=\"10.00\">squeeze</text>\n",
       "<text text-anchor=\"start\" x=\"53.62\" y=\"-84\" font-family=\"Linux libertine\" font-size=\"10.00\">depth:1</text>\n",
       "<polygon fill=\"none\" stroke=\"black\" points=\"97,-93.5 97,-115.5 144,-115.5 144,-93.5 97,-93.5\"/>\n",
       "<text text-anchor=\"start\" x=\"106.62\" y=\"-101\" font-family=\"Linux libertine\" font-size=\"10.00\">input:</text>\n",
       "<polygon fill=\"none\" stroke=\"black\" points=\"144,-93.5 144,-115.5 182,-115.5 182,-93.5 144,-93.5\"/>\n",
       "<text text-anchor=\"start\" x=\"148.75\" y=\"-101\" font-family=\"Linux libertine\" font-size=\"10.00\">(5, 1) </text>\n",
       "<polygon fill=\"none\" stroke=\"black\" points=\"97,-71.5 97,-93.5 144,-93.5 144,-71.5 97,-71.5\"/>\n",
       "<text text-anchor=\"start\" x=\"101.75\" y=\"-79\" font-family=\"Linux libertine\" font-size=\"10.00\">output: </text>\n",
       "<polygon fill=\"none\" stroke=\"black\" points=\"144,-71.5 144,-93.5 182,-93.5 182,-71.5 144,-71.5\"/>\n",
       "<text text-anchor=\"start\" x=\"153.25\" y=\"-79\" font-family=\"Linux libertine\" font-size=\"10.00\">(5,) </text>\n",
       "</g>\n",
       "<!-- 4&#45;&gt;5 -->\n",
       "<g id=\"edge5\" class=\"edge\">\n",
       "<title>4&#45;&gt;5</title>\n",
       "<path fill=\"none\" stroke=\"black\" d=\"M114.5,-151.6C114.5,-143.82 114.5,-134.8 114.5,-126.26\"/>\n",
       "<polygon fill=\"black\" stroke=\"black\" points=\"118,-126.46 114.5,-116.46 111,-126.46 118,-126.46\"/>\n",
       "</g>\n",
       "<!-- 6 -->\n",
       "<g id=\"node7\" class=\"node\">\n",
       "<title>6</title>\n",
       "<polygon fill=\"lightyellow\" stroke=\"none\" points=\"165.75,-35.5 63.25,-35.5 63.25,0 165.75,0 165.75,-35.5\"/>\n",
       "<polygon fill=\"none\" stroke=\"black\" points=\"63.25,0 63.25,-35.5 139.25,-35.5 139.25,0 63.25,0\"/>\n",
       "<text text-anchor=\"start\" x=\"68.25\" y=\"-21\" font-family=\"Linux libertine\" font-size=\"10.00\">output&#45;tensor</text>\n",
       "<text text-anchor=\"start\" x=\"82.88\" y=\"-8.25\" font-family=\"Linux libertine\" font-size=\"10.00\">depth:0</text>\n",
       "<polygon fill=\"none\" stroke=\"black\" points=\"139.25,0 139.25,-35.5 165.75,-35.5 165.75,0 139.25,0\"/>\n",
       "<text text-anchor=\"start\" x=\"144.25\" y=\"-14.62\" font-family=\"Linux libertine\" font-size=\"10.00\">(5,)</text>\n",
       "</g>\n",
       "<!-- 5&#45;&gt;6 -->\n",
       "<g id=\"edge6\" class=\"edge\">\n",
       "<title>5&#45;&gt;6</title>\n",
       "<path fill=\"none\" stroke=\"black\" d=\"M114.5,-71.56C114.5,-63.6 114.5,-54.41 114.5,-45.95\"/>\n",
       "<polygon fill=\"black\" stroke=\"black\" points=\"118,-46.05 114.5,-36.05 111,-46.05 118,-46.05\"/>\n",
       "</g>\n",
       "</g>\n",
       "</svg>\n"
      ],
      "text/plain": [
       "<graphviz.graphs.Digraph at 0x7f24ed27a450>"
      ]
     },
     "execution_count": 18,
     "metadata": {},
     "output_type": "execute_result"
    }
   ],
   "source": [
    "model_graph = draw_graph(model,\n",
    "                         input_data=torch.Tensor(x_train[0:5]).float(),\n",
    "                         device=device,\n",
    "                         hide_inner_tensors=True,\n",
    "                         hide_module_functions=True,\n",
    "                         expand_nested=False,\n",
    "                         depth=3,\n",
    "                         dtypes=[torch.long])\n",
    "\n",
    "model_graph.visual_graph"
   ]
  },
  {
   "cell_type": "code",
   "execution_count": 19,
   "id": "643df836-e85a-4d03-8226-fc56cf8b3cf6",
   "metadata": {},
   "outputs": [],
   "source": [
    "xy_train = torch.utils.data.DataLoader(list(zip(torch.Tensor(x_train).float(),\n",
    "                                                torch.Tensor(y_train).float())), \n",
    "                                       shuffle=True, \n",
    "                                       batch_size=cfg_batch_size, \n",
    "                                       num_workers=cfg_num_workers)\n",
    "\n",
    "xy_val = torch.utils.data.DataLoader(list(zip(torch.Tensor(x_val).float(), \n",
    "                                              torch.Tensor(y_val).float())), \n",
    "                                     shuffle=False, \n",
    "                                     batch_size=cfg_batch_size, \n",
    "                                     num_workers=cfg_num_workers)"
   ]
  },
  {
   "cell_type": "code",
   "execution_count": 20,
   "id": "97c23877-fe6c-4154-8233-5aff37f0a28d",
   "metadata": {},
   "outputs": [],
   "source": [
    "logger = pl.loggers.CSVLogger(\"lightning_logs\", \n",
    "                              name=\"Project\",\n",
    "                              version=\"1.0.0\")"
   ]
  },
  {
   "cell_type": "code",
   "execution_count": 21,
   "id": "5f02ae27-a084-4d2b-bab9-af0a4b32c53c",
   "metadata": {},
   "outputs": [
    {
     "name": "stderr",
     "output_type": "stream",
     "text": [
      "GPU available: False, used: False\n",
      "TPU available: False, using: 0 TPU cores\n",
      "IPU available: False, using: 0 IPUs\n",
      "HPU available: False, using: 0 HPUs\n"
     ]
    }
   ],
   "source": [
    "trainer = pl.Trainer(logger=logger, max_epochs=cfg_max_epochs,\n",
    "                     enable_progress_bar=True,\n",
    "                     log_every_n_steps=0,\n",
    "                     enable_checkpointing=False, \n",
    "                     callbacks=[pl.callbacks.TQDMProgressBar(refresh_rate=50)])"
   ]
  },
  {
   "cell_type": "code",
   "execution_count": 22,
   "id": "434715be-7a7c-46cc-af84-f64d25ed572b",
   "metadata": {},
   "outputs": [
    {
     "name": "stderr",
     "output_type": "stream",
     "text": [
      "/opt/conda/lib/python3.11/site-packages/lightning/fabric/loggers/csv_logs.py:195: UserWarning:\n",
      "\n",
      "Experiment logs directory lightning_logs/Project/1.0.0 exists and is not empty. Previous log files in this directory will be deleted when the new ones are saved!\n",
      "\n",
      "/opt/conda/lib/python3.11/site-packages/lightning/pytorch/trainer/connectors/data_connector.py:442: PossibleUserWarning:\n",
      "\n",
      "The dataloader, val_dataloader, does not have many workers which may be a bottleneck. Consider increasing the value of the `num_workers` argument` (try 64 which is the number of cpus on this machine) in the `DataLoader` init to improve performance.\n",
      "\n"
     ]
    },
    {
     "data": {
      "application/vnd.jupyter.widget-view+json": {
       "model_id": "7d68c5517dd842ef9bade15505fe1b5e",
       "version_major": 2,
       "version_minor": 0
      },
      "text/plain": [
       "Validation: 0it [00:00, ?it/s]"
      ]
     },
     "metadata": {},
     "output_type": "display_data"
    },
    {
     "data": {
      "text/html": [
       "<pre style=\"white-space:pre;overflow-x:auto;line-height:normal;font-family:Menlo,'DejaVu Sans Mono',consolas,'Courier New',monospace\">┏━━━━━━━━━━━━━━━━━━━━━━━━━━━┳━━━━━━━━━━━━━━━━━━━━━━━━━━━┓\n",
       "┃<span style=\"font-weight: bold\">  Runningstage.validating  </span>┃<span style=\"font-weight: bold\">                           </span>┃\n",
       "┃<span style=\"font-weight: bold\">          metric           </span>┃<span style=\"font-weight: bold\">       DataLoader 0        </span>┃\n",
       "┡━━━━━━━━━━━━━━━━━━━━━━━━━━━╇━━━━━━━━━━━━━━━━━━━━━━━━━━━┩\n",
       "│<span style=\"color: #008080; text-decoration-color: #008080\">         val_loss          </span>│<span style=\"color: #800080; text-decoration-color: #800080\">    0.34971895813941956    </span>│\n",
       "│<span style=\"color: #008080; text-decoration-color: #008080\">        val_offset         </span>│<span style=\"color: #800080; text-decoration-color: #800080\">    28.584373474121094     </span>│\n",
       "└───────────────────────────┴───────────────────────────┘\n",
       "</pre>\n"
      ],
      "text/plain": [
       "┏━━━━━━━━━━━━━━━━━━━━━━━━━━━┳━━━━━━━━━━━━━━━━━━━━━━━━━━━┓\n",
       "┃\u001b[1m \u001b[0m\u001b[1m Runningstage.validating \u001b[0m\u001b[1m \u001b[0m┃\u001b[1m                           \u001b[0m┃\n",
       "┃\u001b[1m \u001b[0m\u001b[1m         metric          \u001b[0m\u001b[1m \u001b[0m┃\u001b[1m \u001b[0m\u001b[1m      DataLoader 0       \u001b[0m\u001b[1m \u001b[0m┃\n",
       "┡━━━━━━━━━━━━━━━━━━━━━━━━━━━╇━━━━━━━━━━━━━━━━━━━━━━━━━━━┩\n",
       "│\u001b[36m \u001b[0m\u001b[36m        val_loss         \u001b[0m\u001b[36m \u001b[0m│\u001b[35m \u001b[0m\u001b[35m   0.34971895813941956   \u001b[0m\u001b[35m \u001b[0m│\n",
       "│\u001b[36m \u001b[0m\u001b[36m       val_offset        \u001b[0m\u001b[36m \u001b[0m│\u001b[35m \u001b[0m\u001b[35m   28.584373474121094    \u001b[0m\u001b[35m \u001b[0m│\n",
       "└───────────────────────────┴───────────────────────────┘\n"
      ]
     },
     "metadata": {},
     "output_type": "display_data"
    },
    {
     "data": {
      "text/plain": [
       "[{'val_loss': 0.34971895813941956, 'val_offset': 28.584373474121094}]"
      ]
     },
     "execution_count": 22,
     "metadata": {},
     "output_type": "execute_result"
    }
   ],
   "source": [
    "trainer.validate(model, xy_val)"
   ]
  },
  {
   "cell_type": "code",
   "execution_count": 23,
   "id": "2623d1a3-44a6-4d6a-921d-9c9756e2ff9a",
   "metadata": {},
   "outputs": [
    {
     "name": "stderr",
     "output_type": "stream",
     "text": [
      "\n",
      "  | Name    | Type      | Params\n",
      "--------------------------------------\n",
      "0 | lstm    | LSTM      | 71.8 K\n",
      "1 | dropout | Dropout1d | 0     \n",
      "2 | linear  | Linear    | 51    \n",
      "3 | loss    | MSELoss   | 0     \n",
      "--------------------------------------\n",
      "71.9 K    Trainable params\n",
      "0         Non-trainable params\n",
      "71.9 K    Total params\n",
      "0.287     Total estimated model params size (MB)\n"
     ]
    },
    {
     "data": {
      "application/vnd.jupyter.widget-view+json": {
       "model_id": "",
       "version_major": 2,
       "version_minor": 0
      },
      "text/plain": [
       "Sanity Checking: 0it [00:00, ?it/s]"
      ]
     },
     "metadata": {},
     "output_type": "display_data"
    },
    {
     "name": "stderr",
     "output_type": "stream",
     "text": [
      "/opt/conda/lib/python3.11/site-packages/lightning/pytorch/trainer/connectors/data_connector.py:442: PossibleUserWarning:\n",
      "\n",
      "The dataloader, train_dataloader, does not have many workers which may be a bottleneck. Consider increasing the value of the `num_workers` argument` (try 64 which is the number of cpus on this machine) in the `DataLoader` init to improve performance.\n",
      "\n"
     ]
    },
    {
     "data": {
      "application/vnd.jupyter.widget-view+json": {
       "model_id": "2247dd72153641448392ec196540c1cc",
       "version_major": 2,
       "version_minor": 0
      },
      "text/plain": [
       "Training: 0it [00:00, ?it/s]"
      ]
     },
     "metadata": {},
     "output_type": "display_data"
    },
    {
     "data": {
      "application/vnd.jupyter.widget-view+json": {
       "model_id": "",
       "version_major": 2,
       "version_minor": 0
      },
      "text/plain": [
       "Validation: 0it [00:00, ?it/s]"
      ]
     },
     "metadata": {},
     "output_type": "display_data"
    },
    {
     "data": {
      "application/vnd.jupyter.widget-view+json": {
       "model_id": "",
       "version_major": 2,
       "version_minor": 0
      },
      "text/plain": [
       "Validation: 0it [00:00, ?it/s]"
      ]
     },
     "metadata": {},
     "output_type": "display_data"
    },
    {
     "data": {
      "application/vnd.jupyter.widget-view+json": {
       "model_id": "",
       "version_major": 2,
       "version_minor": 0
      },
      "text/plain": [
       "Validation: 0it [00:00, ?it/s]"
      ]
     },
     "metadata": {},
     "output_type": "display_data"
    },
    {
     "data": {
      "application/vnd.jupyter.widget-view+json": {
       "model_id": "",
       "version_major": 2,
       "version_minor": 0
      },
      "text/plain": [
       "Validation: 0it [00:00, ?it/s]"
      ]
     },
     "metadata": {},
     "output_type": "display_data"
    },
    {
     "data": {
      "application/vnd.jupyter.widget-view+json": {
       "model_id": "",
       "version_major": 2,
       "version_minor": 0
      },
      "text/plain": [
       "Validation: 0it [00:00, ?it/s]"
      ]
     },
     "metadata": {},
     "output_type": "display_data"
    },
    {
     "data": {
      "application/vnd.jupyter.widget-view+json": {
       "model_id": "",
       "version_major": 2,
       "version_minor": 0
      },
      "text/plain": [
       "Validation: 0it [00:00, ?it/s]"
      ]
     },
     "metadata": {},
     "output_type": "display_data"
    },
    {
     "data": {
      "application/vnd.jupyter.widget-view+json": {
       "model_id": "",
       "version_major": 2,
       "version_minor": 0
      },
      "text/plain": [
       "Validation: 0it [00:00, ?it/s]"
      ]
     },
     "metadata": {},
     "output_type": "display_data"
    },
    {
     "data": {
      "application/vnd.jupyter.widget-view+json": {
       "model_id": "",
       "version_major": 2,
       "version_minor": 0
      },
      "text/plain": [
       "Validation: 0it [00:00, ?it/s]"
      ]
     },
     "metadata": {},
     "output_type": "display_data"
    },
    {
     "data": {
      "application/vnd.jupyter.widget-view+json": {
       "model_id": "",
       "version_major": 2,
       "version_minor": 0
      },
      "text/plain": [
       "Validation: 0it [00:00, ?it/s]"
      ]
     },
     "metadata": {},
     "output_type": "display_data"
    },
    {
     "data": {
      "application/vnd.jupyter.widget-view+json": {
       "model_id": "",
       "version_major": 2,
       "version_minor": 0
      },
      "text/plain": [
       "Validation: 0it [00:00, ?it/s]"
      ]
     },
     "metadata": {},
     "output_type": "display_data"
    },
    {
     "name": "stderr",
     "output_type": "stream",
     "text": [
      "`Trainer.fit` stopped: `max_epochs=10` reached.\n"
     ]
    }
   ],
   "source": [
    "trainer.fit(model, xy_train, xy_val) "
   ]
  },
  {
   "cell_type": "code",
   "execution_count": 24,
   "id": "6d8f4eda-2701-4e45-a1b4-a182912431fa",
   "metadata": {},
   "outputs": [
    {
     "data": {
      "text/html": [
       "<div>\n",
       "<style scoped>\n",
       "    .dataframe tbody tr th:only-of-type {\n",
       "        vertical-align: middle;\n",
       "    }\n",
       "\n",
       "    .dataframe tbody tr th {\n",
       "        vertical-align: top;\n",
       "    }\n",
       "\n",
       "    .dataframe thead th {\n",
       "        text-align: right;\n",
       "    }\n",
       "</style>\n",
       "<table border=\"1\" class=\"dataframe\">\n",
       "  <thead>\n",
       "    <tr style=\"text-align: right;\">\n",
       "      <th></th>\n",
       "      <th>val_loss</th>\n",
       "      <th>val_offset</th>\n",
       "      <th>epoch</th>\n",
       "      <th>step</th>\n",
       "      <th>train_loss</th>\n",
       "      <th>train_offset</th>\n",
       "    </tr>\n",
       "  </thead>\n",
       "  <tbody>\n",
       "    <tr>\n",
       "      <th>0</th>\n",
       "      <td>0.349719</td>\n",
       "      <td>28.584373</td>\n",
       "      <td>0</td>\n",
       "      <td>0</td>\n",
       "      <td>NaN</td>\n",
       "      <td>NaN</td>\n",
       "    </tr>\n",
       "    <tr>\n",
       "      <th>1</th>\n",
       "      <td>0.039082</td>\n",
       "      <td>7.611374</td>\n",
       "      <td>0</td>\n",
       "      <td>19</td>\n",
       "      <td>NaN</td>\n",
       "      <td>NaN</td>\n",
       "    </tr>\n",
       "    <tr>\n",
       "      <th>2</th>\n",
       "      <td>NaN</td>\n",
       "      <td>NaN</td>\n",
       "      <td>0</td>\n",
       "      <td>19</td>\n",
       "      <td>0.074523</td>\n",
       "      <td>6.309222</td>\n",
       "    </tr>\n",
       "    <tr>\n",
       "      <th>3</th>\n",
       "      <td>0.030986</td>\n",
       "      <td>6.183806</td>\n",
       "      <td>1</td>\n",
       "      <td>39</td>\n",
       "      <td>NaN</td>\n",
       "      <td>NaN</td>\n",
       "    </tr>\n",
       "    <tr>\n",
       "      <th>4</th>\n",
       "      <td>NaN</td>\n",
       "      <td>NaN</td>\n",
       "      <td>1</td>\n",
       "      <td>39</td>\n",
       "      <td>0.022671</td>\n",
       "      <td>1.181558</td>\n",
       "    </tr>\n",
       "    <tr>\n",
       "      <th>5</th>\n",
       "      <td>0.038971</td>\n",
       "      <td>7.651179</td>\n",
       "      <td>2</td>\n",
       "      <td>59</td>\n",
       "      <td>NaN</td>\n",
       "      <td>NaN</td>\n",
       "    </tr>\n",
       "    <tr>\n",
       "      <th>6</th>\n",
       "      <td>NaN</td>\n",
       "      <td>NaN</td>\n",
       "      <td>2</td>\n",
       "      <td>59</td>\n",
       "      <td>0.022057</td>\n",
       "      <td>-0.097155</td>\n",
       "    </tr>\n",
       "    <tr>\n",
       "      <th>7</th>\n",
       "      <td>0.035917</td>\n",
       "      <td>7.358379</td>\n",
       "      <td>3</td>\n",
       "      <td>79</td>\n",
       "      <td>NaN</td>\n",
       "      <td>NaN</td>\n",
       "    </tr>\n",
       "    <tr>\n",
       "      <th>8</th>\n",
       "      <td>NaN</td>\n",
       "      <td>NaN</td>\n",
       "      <td>3</td>\n",
       "      <td>79</td>\n",
       "      <td>0.020392</td>\n",
       "      <td>-0.368066</td>\n",
       "    </tr>\n",
       "    <tr>\n",
       "      <th>9</th>\n",
       "      <td>0.009634</td>\n",
       "      <td>2.863413</td>\n",
       "      <td>4</td>\n",
       "      <td>99</td>\n",
       "      <td>NaN</td>\n",
       "      <td>NaN</td>\n",
       "    </tr>\n",
       "    <tr>\n",
       "      <th>10</th>\n",
       "      <td>NaN</td>\n",
       "      <td>NaN</td>\n",
       "      <td>4</td>\n",
       "      <td>99</td>\n",
       "      <td>0.013682</td>\n",
       "      <td>-0.468041</td>\n",
       "    </tr>\n",
       "    <tr>\n",
       "      <th>11</th>\n",
       "      <td>0.005758</td>\n",
       "      <td>-2.010862</td>\n",
       "      <td>5</td>\n",
       "      <td>119</td>\n",
       "      <td>NaN</td>\n",
       "      <td>NaN</td>\n",
       "    </tr>\n",
       "    <tr>\n",
       "      <th>12</th>\n",
       "      <td>NaN</td>\n",
       "      <td>NaN</td>\n",
       "      <td>5</td>\n",
       "      <td>119</td>\n",
       "      <td>0.005125</td>\n",
       "      <td>-0.092124</td>\n",
       "    </tr>\n",
       "    <tr>\n",
       "      <th>13</th>\n",
       "      <td>0.003512</td>\n",
       "      <td>0.252534</td>\n",
       "      <td>6</td>\n",
       "      <td>139</td>\n",
       "      <td>NaN</td>\n",
       "      <td>NaN</td>\n",
       "    </tr>\n",
       "    <tr>\n",
       "      <th>14</th>\n",
       "      <td>NaN</td>\n",
       "      <td>NaN</td>\n",
       "      <td>6</td>\n",
       "      <td>139</td>\n",
       "      <td>0.003593</td>\n",
       "      <td>-0.132847</td>\n",
       "    </tr>\n",
       "    <tr>\n",
       "      <th>15</th>\n",
       "      <td>0.003472</td>\n",
       "      <td>1.310789</td>\n",
       "      <td>7</td>\n",
       "      <td>159</td>\n",
       "      <td>NaN</td>\n",
       "      <td>NaN</td>\n",
       "    </tr>\n",
       "    <tr>\n",
       "      <th>16</th>\n",
       "      <td>NaN</td>\n",
       "      <td>NaN</td>\n",
       "      <td>7</td>\n",
       "      <td>159</td>\n",
       "      <td>0.002877</td>\n",
       "      <td>-0.050073</td>\n",
       "    </tr>\n",
       "    <tr>\n",
       "      <th>17</th>\n",
       "      <td>0.002655</td>\n",
       "      <td>0.460933</td>\n",
       "      <td>8</td>\n",
       "      <td>179</td>\n",
       "      <td>NaN</td>\n",
       "      <td>NaN</td>\n",
       "    </tr>\n",
       "    <tr>\n",
       "      <th>18</th>\n",
       "      <td>NaN</td>\n",
       "      <td>NaN</td>\n",
       "      <td>8</td>\n",
       "      <td>179</td>\n",
       "      <td>0.002496</td>\n",
       "      <td>0.002942</td>\n",
       "    </tr>\n",
       "    <tr>\n",
       "      <th>19</th>\n",
       "      <td>0.002683</td>\n",
       "      <td>1.096703</td>\n",
       "      <td>9</td>\n",
       "      <td>199</td>\n",
       "      <td>NaN</td>\n",
       "      <td>NaN</td>\n",
       "    </tr>\n",
       "    <tr>\n",
       "      <th>20</th>\n",
       "      <td>NaN</td>\n",
       "      <td>NaN</td>\n",
       "      <td>9</td>\n",
       "      <td>199</td>\n",
       "      <td>0.002209</td>\n",
       "      <td>0.015567</td>\n",
       "    </tr>\n",
       "  </tbody>\n",
       "</table>\n",
       "</div>"
      ],
      "text/plain": [
       "    val_loss  val_offset  epoch  step  train_loss  train_offset\n",
       "0   0.349719   28.584373      0     0         NaN           NaN\n",
       "1   0.039082    7.611374      0    19         NaN           NaN\n",
       "2        NaN         NaN      0    19    0.074523      6.309222\n",
       "3   0.030986    6.183806      1    39         NaN           NaN\n",
       "4        NaN         NaN      1    39    0.022671      1.181558\n",
       "5   0.038971    7.651179      2    59         NaN           NaN\n",
       "6        NaN         NaN      2    59    0.022057     -0.097155\n",
       "7   0.035917    7.358379      3    79         NaN           NaN\n",
       "8        NaN         NaN      3    79    0.020392     -0.368066\n",
       "9   0.009634    2.863413      4    99         NaN           NaN\n",
       "10       NaN         NaN      4    99    0.013682     -0.468041\n",
       "11  0.005758   -2.010862      5   119         NaN           NaN\n",
       "12       NaN         NaN      5   119    0.005125     -0.092124\n",
       "13  0.003512    0.252534      6   139         NaN           NaN\n",
       "14       NaN         NaN      6   139    0.003593     -0.132847\n",
       "15  0.003472    1.310789      7   159         NaN           NaN\n",
       "16       NaN         NaN      7   159    0.002877     -0.050073\n",
       "17  0.002655    0.460933      8   179         NaN           NaN\n",
       "18       NaN         NaN      8   179    0.002496      0.002942\n",
       "19  0.002683    1.096703      9   199         NaN           NaN\n",
       "20       NaN         NaN      9   199    0.002209      0.015567"
      ]
     },
     "execution_count": 24,
     "metadata": {},
     "output_type": "execute_result"
    }
   ],
   "source": [
    "results = pd.read_csv(logger.log_dir+\"/metrics.csv\")\n",
    "results"
   ]
  },
  {
   "cell_type": "code",
   "execution_count": 25,
   "id": "d9156268-0afc-4513-ae82-b468ec25d875",
   "metadata": {},
   "outputs": [
    {
     "data": {
      "image/png": "[encoded data removed]",
      "text/plain": [
       "<Figure size 640x480 with 1 Axes>"
      ]
     },
     "metadata": {},
     "output_type": "display_data"
    }
   ],
   "source": [
    "plt.plot(results[\"epoch\"][np.logical_not(np.isnan(results[\"train_loss\"]))],\n",
    "         results[\"train_loss\"][np.logical_not(np.isnan(results[\"train_loss\"]))],\n",
    "         label=\"Training\")\n",
    "\n",
    "plt.plot(results[\"epoch\"][np.logical_not(np.isnan(results[\"val_loss\"]))], \n",
    "         results[\"val_loss\"][np.logical_not(np.isnan(results[\"val_loss\"]))], \n",
    "         label=\"Validation\")\n",
    "\n",
    "plt.legend() \n",
    "plt.ylabel(\"MSE Loss\") \n",
    "plt.xlabel(\"Epoch\") \n",
    "plt.show()"
   ]
  },
  {
   "cell_type": "code",
   "execution_count": 26,
   "id": "d9159a32-0dc0-4ad7-ba6f-e0e2a35b839a",
   "metadata": {},
   "outputs": [
    {
     "data": {
      "image/png": "[encoded data removed]",
      "text/plain": [
       "<Figure size 1000x600 with 1 Axes>"
      ]
     },
     "metadata": {},
     "output_type": "display_data"
    }
   ],
   "source": [
    "plt.figure(figsize=(10, 6))  # Set the figure size\n",
    "plt.plot(df['sales'], label='7-Day Rolling Average of Sales')  # Plot the sales data\n",
    "plt.xlabel('Date')  # Label for the x-axis\n",
    "plt.ylabel('Sales')  # Label for the y-axis\n",
    "plt.title('7-Day Rolling Average of Sales Over Time')  # Title of the plot\n",
    "plt.legend()  # Add a legend\n",
    "plt.show() "
   ]
  },
  {
   "cell_type": "code",
   "execution_count": 47,
   "id": "5fda7ba8-0c46-441d-892d-13360f64c1ef",
   "metadata": {},
   "outputs": [
    {
     "name": "stdout",
     "output_type": "stream",
     "text": [
      "(1, 300)\n",
      "torch.Size([1, 300])\n",
      "tensor([[0.4456, 0.4470, 0.4456, 0.4456, 0.4470, 0.4475, 0.4482, 0.4500, 0.4476,\n",
      "         0.4487, 0.4482, 0.4484, 0.4470, 0.4458, 0.4452, 0.4469, 0.4463, 0.4463,\n",
      "         0.4467, 0.4478, 0.4483, 0.4483, 0.4471, 0.4483, 0.4479, 0.4684, 0.4900,\n",
      "         0.5059, 0.5221, 0.5387, 0.5570, 0.5786, 0.5804, 0.5796, 0.5793, 0.5798,\n",
      "         0.5811, 0.5803, 0.5786, 0.5770, 0.5765, 0.5767, 0.5765, 0.5770, 0.5786,\n",
      "         0.5800, 0.5802, 0.5828, 0.5819, 0.5825, 0.5820, 0.5813, 0.5826, 0.5819,\n",
      "         0.5806, 0.5883, 0.5986, 0.6078, 0.6176, 0.6277, 0.6398, 0.6514, 0.6517,\n",
      "         0.6511, 0.6516, 0.6527, 0.6511, 0.6505, 0.6503, 0.6495, 0.6496, 0.6480,\n",
      "         0.6468, 0.6486, 0.6500, 0.6520, 0.6527, 0.6513, 0.6523, 0.6530, 0.6530,\n",
      "         0.6515, 0.6496, 0.6489, 0.6476, 0.6481, 0.6558, 0.6635, 0.6747, 0.6861,\n",
      "         0.6929, 0.7043, 0.7137, 0.7158, 0.7160, 0.7156, 0.7155, 0.7156, 0.7152,\n",
      "         0.7151, 0.7136, 0.7134, 0.7144, 0.7143, 0.7158, 0.7157, 0.7152, 0.7144,\n",
      "         0.7151, 0.7126, 0.7127, 0.7127, 0.7129, 0.7120, 0.7139, 0.7129, 0.7262,\n",
      "         0.7387, 0.7455, 0.7536, 0.7621, 0.7702, 0.7823, 0.7782, 0.7768, 0.7766,\n",
      "         0.7775, 0.7781, 0.7773, 0.7779, 0.7801, 0.7812, 0.7822, 0.7807, 0.7815,\n",
      "         0.7825, 0.7812, 0.7827, 0.7826, 0.7829, 0.7842, 0.7842, 0.7841, 0.7819,\n",
      "         0.7801, 0.7801, 0.7807, 0.7627, 0.7447, 0.7256, 0.7077, 0.6868, 0.6630,\n",
      "         0.6478, 0.6482, 0.6479, 0.6492, 0.6490, 0.6497, 0.6505, 0.6484, 0.6470,\n",
      "         0.6470, 0.6467, 0.6474, 0.6481, 0.6503, 0.6505, 0.6523, 0.6519, 0.6514,\n",
      "         0.6499, 0.6507, 0.6496, 0.6512, 0.6506, 0.6505, 0.6505, 0.6404, 0.6277,\n",
      "         0.6138, 0.6055, 0.5948, 0.5861, 0.5762, 0.5789, 0.5784, 0.5812, 0.5812,\n",
      "         0.5823, 0.5835, 0.5843, 0.5819, 0.5829, 0.5815, 0.5812, 0.5814, 0.5820,\n",
      "         0.5814, 0.5819, 0.5807, 0.5797, 0.5807, 0.5805, 0.5808, 0.5802, 0.5801,\n",
      "         0.5800, 0.5681, 0.5600, 0.5527, 0.5426, 0.5332, 0.5226, 0.5121, 0.5136,\n",
      "         0.5139, 0.5123, 0.5131, 0.5139, 0.5145, 0.5163, 0.5160, 0.5159, 0.5170,\n",
      "         0.5163, 0.5174, 0.5181, 0.5185, 0.5196, 0.5197, 0.5186, 0.5189, 0.5173,\n",
      "         0.5170, 0.5158, 0.5155, 0.5143, 0.5145, 0.5218, 0.5330, 0.5432, 0.5547,\n",
      "         0.5658, 0.5747, 0.5849, 0.5860, 0.5852, 0.5852, 0.5827, 0.5828, 0.5822,\n",
      "         0.5815, 0.5810, 0.5804, 0.5801, 0.5824, 0.5806, 0.5807, 0.5810, 0.5797,\n",
      "         0.5806, 0.5799, 0.5796, 0.5816, 0.5807, 0.5805, 0.5823, 0.5818, 0.5424,\n",
      "         0.4977, 0.4528, 0.4225, 0.3855, 0.3495, 0.3108, 0.3108, 0.3120, 0.3114,\n",
      "         0.3125, 0.3127, 0.3143, 0.3152, 0.3157, 0.3163, 0.3153, 0.3158, 0.3170,\n",
      "         0.3164, 0.3171, 0.3171, 0.3162, 0.3161, 0.3151, 0.3161, 0.3153, 0.3139,\n",
      "         0.3138, 0.3148, 0.3160]])\n",
      "tensor(0.3203, grad_fn=<SqueezeBackward0>)\n"
     ]
    },
    {
     "ename": "AttributeError",
     "evalue": "'numpy.ndarray' object has no attribute 'append'",
     "output_type": "error",
     "traceback": [
      "\u001b[0;31m---------------------------------------------------------------------------\u001b[0m",
      "\u001b[0;31mAttributeError\u001b[0m                            Traceback (most recent call last)",
      "Cell \u001b[0;32mIn[47], line 15\u001b[0m\n\u001b[1;32m     13\u001b[0m     pred \u001b[38;5;241m=\u001b[39m model\u001b[38;5;241m.\u001b[39mpredict(tensor_input)\n\u001b[1;32m     14\u001b[0m     \u001b[38;5;28mprint\u001b[39m(pred)\n\u001b[0;32m---> 15\u001b[0m     \u001b[43msales_array_reshaped\u001b[49m\u001b[38;5;241;43m.\u001b[39;49m\u001b[43mappend\u001b[49m([pred])\n\u001b[1;32m     16\u001b[0m     \u001b[38;5;66;03m#tensor_input = torch.cat(tensor_input, torch.tensor(pred, dtype=torch.float32))\u001b[39;00m\n\u001b[1;32m     18\u001b[0m \u001b[38;5;28mprint\u001b[39m(tensor_input\u001b[38;5;241m.\u001b[39mshape)\n",
      "\u001b[0;31mAttributeError\u001b[0m: 'numpy.ndarray' object has no attribute 'append'"
     ]
    }
   ],
   "source": [
    "\n",
    "last_50_sales = df_avg['sales'][-300:]\n",
    "sales_array = last_50_sales.values\n",
    "sales_array_reshaped = sales_array.reshape(1, -1)\n",
    "print(sales_array_reshaped.shape)\n",
    "\n",
    "\n",
    "tensor_input = torch.tensor(sales_array_reshaped, dtype=torch.float32)\n",
    "\n",
    "print(tensor_input.shape)\n",
    "print(tensor_input)\n",
    "\n",
    "for i in range(90):\n",
    "    pred = model.predict(tensor_input)\n",
    "    print(pred)\n",
    "    sales_array_reshaped.append([pred])\n",
    "    #tensor_input = torch.cat(tensor_input, torch.tensor(pred, dtype=torch.float32))\n",
    "\n",
    "print(tensor_input.shape)\n",
    "print(tensor_input)\n"
   ]
  },
  {
   "cell_type": "code",
   "execution_count": 23,
   "id": "533a6bd5-4898-46f8-a071-68554a629d69",
   "metadata": {},
   "outputs": [
    {
     "data": {
      "image/png": "[encoded data removed]",
      "text/plain": [
       "<Figure size 640x480 with 1 Axes>"
      ]
     },
     "metadata": {},
     "output_type": "display_data"
    }
   ],
   "source": [
    "# if tensor_input.is_cuda:\n",
    "#     tensor_input = tensor_input.cpu()\n",
    "\n",
    "# Convert to NumPy array\n",
    "numpy_array = tensor_input.squeeze().detach().numpy()\n",
    "\n",
    "plt.plot(numpy_array)\n",
    "plt.xlabel('Index')  # Adjust as per your data's context\n",
    "plt.ylabel('Value')  # Adjust this label to reflect what the values represent\n",
    "plt.title('Tensor Values')  # Provide a suitable title\n",
    "plt.show()\n"
   ]
  },
  {
   "cell_type": "code",
   "execution_count": null,
   "id": "611e0892-8c41-4482-abe9-b1d8499849ba",
   "metadata": {},
   "outputs": [],
   "source": []
  }
 ],
 "metadata": {
  "kernelspec": {
   "display_name": "Python 3 (ipykernel)",
   "language": "python",
   "name": "python3"
  },
  "language_info": {
   "codemirror_mode": {
    "name": "ipython",
    "version": 3
   },
   "file_extension": ".py",
   "mimetype": "text/x-python",
   "name": "python",
   "nbconvert_exporter": "python",
   "pygments_lexer": "ipython3",
   "version": "3.11.5"
  }
 },
 "nbformat": 4,
 "nbformat_minor": 5
}
