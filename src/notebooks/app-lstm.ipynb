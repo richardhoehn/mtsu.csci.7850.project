{
 "cells": [
  {
   "cell_type": "code",
   "execution_count": 378,
   "id": "8ba96bee-7b35-48a2-9660-be126f4fbda3",
   "metadata": {},
   "outputs": [],
   "source": [
    "import numpy as np\n",
    "import torch\n",
    "import torch.nn as nn\n",
    "import lightning.pytorch as pl\n",
    "import torchmetrics\n",
    "import torchvision\n",
    "from torchinfo import summary\n",
    "from torchview import draw_graph\n",
    "from IPython.display import display\n",
    "\n",
    "import pandas as pd\n",
    "import matplotlib.pyplot as plt\n",
    "import matplotlib.dates as mdates\n",
    "import plotly.offline as py\n",
    "import plotly.graph_objs as go\n",
    "\n",
    "from sklearn.preprocessing import MinMaxScaler\n"
   ]
  },
  {
   "cell_type": "markdown",
   "id": "8659d8f5-efe4-48fc-9afc-929b44d6953a",
   "metadata": {},
   "source": [
    "# Questions for Professor:\n",
    "* Batch Size... I have 1826 rows in total... It is set to 20?\n",
    "* There is no \"accuracy\" because of the regression and that the results are integers sales?\n",
    "* The Loss is extremly low... WHy would this be the case?\n",
    "* I'm not sure I understand the concept of the sequence length\n",
    "* On the `forward` method of the model I use:\n",
    "  ```\n",
    "    h0 = torch.zeros(num_layers, y.size(0), hidden_size).to(y.device)\n",
    "    c0 = torch.zeros(num_layers, y.size(0), hidden_size).to(y.device)\n",
    "  ```\n",
    "* I somehow had a hard time creating the LSTM network and then adding it to the model.. Will need to work on that some but is it ok?\n",
    "* ~How would I try to \"un-scale\" the values to plot the prediction vs. the validation values?~\n",
    "* Is dropout a good idea?\n",
    "* I used \"4\" for the stacked LSTM layers... is that overkill and should I just stay with \"1\"?\n",
    "* Overall... is the the right approach for this project? It seems a bit general and I havent really contributed to anything meaninful..."
   ]
  },
  {
   "cell_type": "code",
   "execution_count": 379,
   "id": "3c452bfb-6c16-4b09-802a-b8e777c60c97",
   "metadata": {},
   "outputs": [],
   "source": [
    "# Config & Setup Details\n",
    "cfg_batch_size  = 150\n",
    "cfg_max_epochs  = 150\n",
    "cfg_num_workers = 2\n",
    "\n",
    "# Learning Config\n",
    "cfg_split        = 0.8\n",
    "cfg_sequence_len = 180\n",
    "\n",
    "# Data Config\n",
    "cfg_data_separator = \",\"\n",
    "cfg_data_date_fmt  = \"%Y-%m-%d\"\n",
    "cfg_data_url_train = \"https://s3.amazonaws.com/mtsu.csci.7850.project/train.csv\"\n",
    "\n",
    "# Logger Config\n",
    "cfg_logger_dir     = \"logs\"\n",
    "cfg_logger_name    = \"Project\"\n",
    "cfg_logger_version = \"data-loader\"\n"
   ]
  },
  {
   "cell_type": "code",
   "execution_count": 380,
   "id": "3d9c2e45-4217-4d40-8f11-0b0d8d57b906",
   "metadata": {},
   "outputs": [
    {
     "name": "stdout",
     "output_type": "stream",
     "text": [
      "NVIDIA GeForce RTX 2080 Ti\n",
      "_CudaDeviceProperties(name='NVIDIA GeForce RTX 2080 Ti', major=7, minor=5, total_memory=11011MB, multi_processor_count=68)\n",
      "Number of devices: 1\n"
     ]
    }
   ],
   "source": [
    "# Setup CPU or GPU Device Settings for CUDA\n",
    "if torch.cuda.is_available():\n",
    "    print(torch.cuda.get_device_name())\n",
    "    print(torch.cuda.get_device_properties(\"cuda\"))\n",
    "    print(\"Number of devices:\",torch.cuda.device_count())\n",
    "    device = (\"cuda\")\n",
    "else:\n",
    "    print(\"Only CPU is available...\")\n",
    "    device = (\"cpu\")"
   ]
  },
  {
   "cell_type": "code",
   "execution_count": 381,
   "id": "7434bc9f-b965-4032-8c7a-f069c91761f9",
   "metadata": {},
   "outputs": [
    {
     "name": "stdout",
     "output_type": "stream",
     "text": [
      "Raw Shape: (913000, 4)\n",
      "        date  store  item  sales\n",
      "0 2013-01-01      1     1     13\n",
      "1 2013-01-02      1     1     11\n",
      "2 2013-01-03      1     1     14\n",
      "3 2013-01-04      1     1     13\n",
      "4 2013-01-05      1     1     10\n",
      "********\n",
      "\n",
      "Grouped by Date Shape: (1826, 2)\n",
      "           date  sales\n",
      "0    2013-01-01  13696\n",
      "1    2013-01-02  13678\n",
      "2    2013-01-03  14488\n",
      "3    2013-01-04  15677\n",
      "4    2013-01-05  16237\n",
      "...         ...    ...\n",
      "1821 2017-12-27  20378\n",
      "1822 2017-12-28  21885\n",
      "1823 2017-12-29  23535\n",
      "1824 2017-12-30  24988\n",
      "1825 2017-12-31  26420\n",
      "\n",
      "[1826 rows x 2 columns]\n",
      "********\n",
      "\n",
      "Grouped by Date & Store Shape: (18260, 3)\n",
      "            date  store  sales\n",
      "0     2013-01-01      1   1316\n",
      "1     2013-01-01      2   1742\n",
      "2     2013-01-01      3   1588\n",
      "3     2013-01-01      4   1423\n",
      "4     2013-01-01      5   1032\n",
      "...          ...    ...    ...\n",
      "18255 2017-12-31      6   2009\n",
      "18256 2017-12-31      7   1831\n",
      "18257 2017-12-31      8   3205\n",
      "18258 2017-12-31      9   2774\n",
      "18259 2017-12-31     10   2939\n",
      "\n",
      "[18260 rows x 3 columns]\n",
      "********\n",
      "\n",
      "Training Shape: (1826, 11)\n",
      "store       date     1     2     3     4     5     6     7     8     9    10\n",
      "0     2013-01-01  1316  1742  1588  1423  1032  1099   964  1628  1383  1521\n",
      "1     2013-01-02  1264  1808  1538  1432   997  1023   944  1687  1455  1530\n",
      "2     2013-01-03  1305  1887  1635  1534  1130  1149   966  1736  1492  1654\n",
      "3     2013-01-04  1452  1983  1741  1685  1258  1201  1040  1966  1612  1739\n",
      "4     2013-01-05  1499  2087  1887  1649  1154  1286  1131  2005  1698  1841\n",
      "...          ...   ...   ...   ...   ...   ...   ...   ...   ...   ...   ...\n",
      "1821  2017-12-27  1837  2624  2365  2176  1552  1560  1471  2468  2104  2221\n",
      "1822  2017-12-28  1951  2839  2479  2306  1696  1707  1509  2660  2309  2429\n",
      "1823  2017-12-29  2116  3025  2646  2460  1774  1737  1689  2923  2478  2687\n",
      "1824  2017-12-30  2304  3151  2885  2637  1922  1877  1721  3109  2640  2742\n",
      "1825  2017-12-31  2388  3370  3086  2844  1974  2009  1831  3205  2774  2939\n",
      "\n",
      "[1826 rows x 11 columns]\n",
      "Training Cols: Index(['date', 1, 2, 3, 4, 5, 6, 7, 8, 9, 10], dtype='object', name='store')\n",
      "********\n",
      "\n"
     ]
    }
   ],
   "source": [
    "# Load Data - Parse the Date Column\n",
    "df_raw = pd.read_csv(cfg_data_url_train, parse_dates=[\"date\"])\n",
    "\n",
    "print(f\"Raw Shape: {df_raw.shape}\")\n",
    "print(df_raw.head())\n",
    "print(\"********\\n\")\n",
    "\n",
    "# Format Date Column to DateTime\n",
    "df_raw['date'] = pd.to_datetime(df_raw['date'], format=cfg_data_date_fmt)\n",
    "\n",
    "df_grouped_date_store = df_raw.groupby(['date', 'store'])['sales'].sum().reset_index()\n",
    "df_grouped_date = df_raw.groupby(['date'])['sales'].sum().reset_index()\n",
    "\n",
    "print(f\"Grouped by Date Shape: {df_grouped_date.shape}\")\n",
    "print(df_grouped_date)\n",
    "print(\"********\\n\")\n",
    "\n",
    "print(f\"Grouped by Date & Store Shape: {df_grouped_date_store.shape}\")\n",
    "print(df_grouped_date_store)\n",
    "print(\"********\\n\")\n",
    "\n",
    "# Pivot the DataFrame\n",
    "df_train = df_grouped_date_store.pivot(index='date', columns='store', values='sales')\n",
    "\n",
    "# Resetting the index\n",
    "df_train = df_train.reset_index()\n",
    "\n",
    "# Show the New Table\n",
    "print(f\"Training Shape: {df_train.shape}\")\n",
    "print(df_train)\n",
    "print(f\"Training Cols: {df_train.columns}\")\n",
    "print(\"********\\n\")\n",
    "\n"
   ]
  },
  {
   "cell_type": "code",
   "execution_count": 382,
   "id": "4df77e4c-8929-4521-92f0-ac792f67c08d",
   "metadata": {},
   "outputs": [
    {
     "data": {
      "text/html": [
       "<div>\n",
       "<style scoped>\n",
       "    .dataframe tbody tr th:only-of-type {\n",
       "        vertical-align: middle;\n",
       "    }\n",
       "\n",
       "    .dataframe tbody tr th {\n",
       "        vertical-align: top;\n",
       "    }\n",
       "\n",
       "    .dataframe thead th {\n",
       "        text-align: right;\n",
       "    }\n",
       "</style>\n",
       "<table border=\"1\" class=\"dataframe\">\n",
       "  <thead>\n",
       "    <tr style=\"text-align: right;\">\n",
       "      <th>store</th>\n",
       "      <th>date</th>\n",
       "      <th>1</th>\n",
       "      <th>2</th>\n",
       "      <th>3</th>\n",
       "      <th>4</th>\n",
       "      <th>5</th>\n",
       "      <th>6</th>\n",
       "      <th>7</th>\n",
       "      <th>8</th>\n",
       "      <th>9</th>\n",
       "      <th>10</th>\n",
       "    </tr>\n",
       "  </thead>\n",
       "  <tbody>\n",
       "    <tr>\n",
       "      <th>0</th>\n",
       "      <td>2013-01-01</td>\n",
       "      <td>1316.000000</td>\n",
       "      <td>1742.000000</td>\n",
       "      <td>1588.000000</td>\n",
       "      <td>1423.000000</td>\n",
       "      <td>1032.000000</td>\n",
       "      <td>1099.000000</td>\n",
       "      <td>964.000000</td>\n",
       "      <td>1628.000000</td>\n",
       "      <td>1383.000000</td>\n",
       "      <td>1521.000000</td>\n",
       "    </tr>\n",
       "    <tr>\n",
       "      <th>1</th>\n",
       "      <td>2013-01-02</td>\n",
       "      <td>1290.000000</td>\n",
       "      <td>1775.000000</td>\n",
       "      <td>1563.000000</td>\n",
       "      <td>1427.500000</td>\n",
       "      <td>1014.500000</td>\n",
       "      <td>1061.000000</td>\n",
       "      <td>954.000000</td>\n",
       "      <td>1657.500000</td>\n",
       "      <td>1419.000000</td>\n",
       "      <td>1525.500000</td>\n",
       "    </tr>\n",
       "    <tr>\n",
       "      <th>2</th>\n",
       "      <td>2013-01-03</td>\n",
       "      <td>1295.000000</td>\n",
       "      <td>1812.333333</td>\n",
       "      <td>1587.000000</td>\n",
       "      <td>1463.000000</td>\n",
       "      <td>1053.000000</td>\n",
       "      <td>1090.333333</td>\n",
       "      <td>958.000000</td>\n",
       "      <td>1683.666667</td>\n",
       "      <td>1443.333333</td>\n",
       "      <td>1568.333333</td>\n",
       "    </tr>\n",
       "    <tr>\n",
       "      <th>3</th>\n",
       "      <td>2013-01-04</td>\n",
       "      <td>1334.250000</td>\n",
       "      <td>1855.000000</td>\n",
       "      <td>1625.500000</td>\n",
       "      <td>1518.500000</td>\n",
       "      <td>1104.250000</td>\n",
       "      <td>1118.000000</td>\n",
       "      <td>978.500000</td>\n",
       "      <td>1754.250000</td>\n",
       "      <td>1485.500000</td>\n",
       "      <td>1611.000000</td>\n",
       "    </tr>\n",
       "    <tr>\n",
       "      <th>4</th>\n",
       "      <td>2013-01-05</td>\n",
       "      <td>1367.200000</td>\n",
       "      <td>1901.400000</td>\n",
       "      <td>1677.800000</td>\n",
       "      <td>1544.600000</td>\n",
       "      <td>1114.200000</td>\n",
       "      <td>1151.600000</td>\n",
       "      <td>1009.000000</td>\n",
       "      <td>1804.400000</td>\n",
       "      <td>1528.000000</td>\n",
       "      <td>1657.000000</td>\n",
       "    </tr>\n",
       "    <tr>\n",
       "      <th>5</th>\n",
       "      <td>2013-01-06</td>\n",
       "      <td>1408.166667</td>\n",
       "      <td>1952.166667</td>\n",
       "      <td>1724.166667</td>\n",
       "      <td>1608.333333</td>\n",
       "      <td>1139.333333</td>\n",
       "      <td>1186.166667</td>\n",
       "      <td>1039.666667</td>\n",
       "      <td>1851.166667</td>\n",
       "      <td>1570.166667</td>\n",
       "      <td>1698.500000</td>\n",
       "    </tr>\n",
       "    <tr>\n",
       "      <th>6</th>\n",
       "      <td>2013-01-07</td>\n",
       "      <td>1351.571429</td>\n",
       "      <td>1887.000000</td>\n",
       "      <td>1665.428571</td>\n",
       "      <td>1559.714286</td>\n",
       "      <td>1100.571429</td>\n",
       "      <td>1146.428571</td>\n",
       "      <td>1004.000000</td>\n",
       "      <td>1812.000000</td>\n",
       "      <td>1519.000000</td>\n",
       "      <td>1645.142857</td>\n",
       "    </tr>\n",
       "    <tr>\n",
       "      <th>7</th>\n",
       "      <td>2013-01-08</td>\n",
       "      <td>1339.000000</td>\n",
       "      <td>1895.285714</td>\n",
       "      <td>1658.285714</td>\n",
       "      <td>1560.857143</td>\n",
       "      <td>1094.857143</td>\n",
       "      <td>1132.571429</td>\n",
       "      <td>999.428571</td>\n",
       "      <td>1817.285714</td>\n",
       "      <td>1527.714286</td>\n",
       "      <td>1646.142857</td>\n",
       "    </tr>\n",
       "    <tr>\n",
       "      <th>8</th>\n",
       "      <td>2013-01-09</td>\n",
       "      <td>1336.000000</td>\n",
       "      <td>1892.142857</td>\n",
       "      <td>1671.857143</td>\n",
       "      <td>1566.428571</td>\n",
       "      <td>1101.714286</td>\n",
       "      <td>1132.857143</td>\n",
       "      <td>1004.428571</td>\n",
       "      <td>1817.571429</td>\n",
       "      <td>1520.000000</td>\n",
       "      <td>1657.000000</td>\n",
       "    </tr>\n",
       "    <tr>\n",
       "      <th>9</th>\n",
       "      <td>2013-01-10</td>\n",
       "      <td>1340.857143</td>\n",
       "      <td>1902.000000</td>\n",
       "      <td>1677.857143</td>\n",
       "      <td>1558.000000</td>\n",
       "      <td>1106.857143</td>\n",
       "      <td>1136.857143</td>\n",
       "      <td>1008.714286</td>\n",
       "      <td>1816.428571</td>\n",
       "      <td>1527.857143</td>\n",
       "      <td>1646.571429</td>\n",
       "    </tr>\n",
       "  </tbody>\n",
       "</table>\n",
       "</div>"
      ],
      "text/plain": [
       "store       date            1            2            3            4  \\\n",
       "0     2013-01-01  1316.000000  1742.000000  1588.000000  1423.000000   \n",
       "1     2013-01-02  1290.000000  1775.000000  1563.000000  1427.500000   \n",
       "2     2013-01-03  1295.000000  1812.333333  1587.000000  1463.000000   \n",
       "3     2013-01-04  1334.250000  1855.000000  1625.500000  1518.500000   \n",
       "4     2013-01-05  1367.200000  1901.400000  1677.800000  1544.600000   \n",
       "5     2013-01-06  1408.166667  1952.166667  1724.166667  1608.333333   \n",
       "6     2013-01-07  1351.571429  1887.000000  1665.428571  1559.714286   \n",
       "7     2013-01-08  1339.000000  1895.285714  1658.285714  1560.857143   \n",
       "8     2013-01-09  1336.000000  1892.142857  1671.857143  1566.428571   \n",
       "9     2013-01-10  1340.857143  1902.000000  1677.857143  1558.000000   \n",
       "\n",
       "store            5            6            7            8            9  \\\n",
       "0      1032.000000  1099.000000   964.000000  1628.000000  1383.000000   \n",
       "1      1014.500000  1061.000000   954.000000  1657.500000  1419.000000   \n",
       "2      1053.000000  1090.333333   958.000000  1683.666667  1443.333333   \n",
       "3      1104.250000  1118.000000   978.500000  1754.250000  1485.500000   \n",
       "4      1114.200000  1151.600000  1009.000000  1804.400000  1528.000000   \n",
       "5      1139.333333  1186.166667  1039.666667  1851.166667  1570.166667   \n",
       "6      1100.571429  1146.428571  1004.000000  1812.000000  1519.000000   \n",
       "7      1094.857143  1132.571429   999.428571  1817.285714  1527.714286   \n",
       "8      1101.714286  1132.857143  1004.428571  1817.571429  1520.000000   \n",
       "9      1106.857143  1136.857143  1008.714286  1816.428571  1527.857143   \n",
       "\n",
       "store           10  \n",
       "0      1521.000000  \n",
       "1      1525.500000  \n",
       "2      1568.333333  \n",
       "3      1611.000000  \n",
       "4      1657.000000  \n",
       "5      1698.500000  \n",
       "6      1645.142857  \n",
       "7      1646.142857  \n",
       "8      1657.000000  \n",
       "9      1646.571429  "
      ]
     },
     "execution_count": 382,
     "metadata": {},
     "output_type": "execute_result"
    }
   ],
   "source": [
    "df_avg = df_train\n",
    "\n",
    "# Recalculating moving average for each numerical column\n",
    "for col in range(1, 11):  # Assuming columns are named as 1, 2, ..., 10\n",
    "    df_avg[col] = df_avg[col].rolling(window=7, min_periods=1).mean()\n",
    "\n",
    "# Displaying the updated DataFrame with moving averages\n",
    "df_avg.head(10) "
   ]
  },
  {
   "cell_type": "code",
   "execution_count": 383,
   "id": "19d512fb-f092-446b-ba5e-b343ea5d8acd",
   "metadata": {},
   "outputs": [
    {
     "name": "stdout",
     "output_type": "stream",
     "text": [
      "DF Shape: (1826, 10)\n"
     ]
    }
   ],
   "source": [
    "# Setup the Dataframe being used\n",
    "df = df_avg # Simple Copy\n",
    "df.set_index('date', inplace=True)\n",
    "print(f\"DF Shape: {df.shape}\")"
   ]
  },
  {
   "cell_type": "code",
   "execution_count": 384,
   "id": "4de4fe51-6058-4624-b984-e5d302af0384",
   "metadata": {},
   "outputs": [],
   "source": [
    "# Function to create sequences\n",
    "def create_sequences(data, seq_length):\n",
    "    xs = []\n",
    "    ys = []\n",
    "\n",
    "    for i in range(len(data) - seq_length):\n",
    "        x = data[i:(i + seq_length)]\n",
    "        y = data[i + seq_length]\n",
    "        xs.append(x)\n",
    "        ys.append(y)\n",
    "\n",
    "    return np.array(xs), np.array(ys)\n",
    "\n",
    "# Create sequences\n",
    "x, y = create_sequences(df.values, cfg_sequence_len)\n",
    "\n",
    "# Convert to PyTorch tensors\n",
    "x_tensor = torch.tensor(x, dtype=torch.float32)\n",
    "y_tensor = torch.tensor(y, dtype=torch.float32)\n",
    "\n",
    "# Split the data into training and testing sets\n",
    "train_size = int(cfg_split * len(x_tensor))\n",
    "\n",
    "x_train = x_tensor[:train_size]\n",
    "y_train = y_tensor[:train_size]\n",
    "\n",
    "x_val = x_tensor[train_size:]\n",
    "y_val = y_tensor[train_size:]"
   ]
  },
  {
   "cell_type": "code",
   "execution_count": 385,
   "id": "f5d8017d-ef71-4785-9e9d-2db2f2dae877",
   "metadata": {},
   "outputs": [
    {
     "name": "stdout",
     "output_type": "stream",
     "text": [
      "x Shape: (1646, 180, 10)\n",
      "y Shape: (1646, 10)\n",
      "\n",
      "x_train Shape: torch.Size([1316, 180, 10])\n",
      "y_train Shape: torch.Size([1316, 10])\n",
      "\n",
      "x_val Shape: torch.Size([330, 180, 10])\n",
      "y_val Shape: torch.Size([330, 10])\n"
     ]
    }
   ],
   "source": [
    "print(f\"x Shape: {x.shape}\")\n",
    "print(f\"y Shape: {y.shape}\")\n",
    "print(\"\")\n",
    "print(f\"x_train Shape: {x_train.shape}\")\n",
    "print(f\"y_train Shape: {y_train.shape}\")\n",
    "print(\"\")\n",
    "print(f\"x_val Shape: {x_val.shape}\")\n",
    "print(f\"y_val Shape: {y_val.shape}\")"
   ]
  },
  {
   "cell_type": "code",
   "execution_count": 436,
   "id": "6466407a-73a5-480c-8123-fc1631a06e93",
   "metadata": {},
   "outputs": [],
   "source": [
    "class LSTMModel(pl.LightningModule):\n",
    "    def __init__(self, \n",
    "                 input_size, \n",
    "                 hidden_size, \n",
    "                 output_size, \n",
    "                 num_layers,\n",
    "                 scaler = 1500,\n",
    "                 **kwargs):\n",
    "        super().__init__(**kwargs)\n",
    "\n",
    "        self.lstm = nn.LSTM(input_size, hidden_size, num_layers, batch_first=True, dropout=0.1)\n",
    "        self.dropout = torch.nn.Dropout1d(0.1) # Whole token dropped\n",
    "        self.linear = nn.Linear(hidden_size, output_size)\n",
    "        self.loss = nn.MSELoss()\n",
    "        self.scaler = scaler\n",
    "\n",
    "    def configure_optimizers(self):\n",
    "        optimizer = torch.optim.Adam(self.parameters(), lr=0.002)\n",
    "        return optimizer\n",
    "\n",
    "    # No complications with regression...\n",
    "    def predict(self, x):\n",
    "        return self(x)\n",
    "    \n",
    "    def forward(self, x):\n",
    "        y = x / self.scaler\n",
    "        #y = torch.log(y)\n",
    "        y, _ = self.lstm(y)\n",
    "        y = y[:, -1, :] # Extract only the last time step\n",
    "        y = self.linear(y) # Using linear to bring back to output_size\n",
    "        #y = torch.exp(y)\n",
    "        \n",
    "        return y * self.scaler\n",
    "\n",
    "    def training_step(self, train_batch, batch_idx):\n",
    "        # training_step defines the train loop. It is independent of forward\n",
    "        x, y_true = train_batch\n",
    "        y_pred = self(x)\n",
    "        loss = self.loss(y_pred, y_true)\n",
    "        self.log('train_loss', loss, on_step=False, on_epoch=True)\n",
    "\n",
    "        offset = y_true.sum() - y_pred.sum()\n",
    "        self.log('train_offset', offset, on_step=False, on_epoch=True)\n",
    "        \n",
    "        return loss\n",
    "\n",
    "    def validation_step(self, val_batch, batch_idx):\n",
    "        x, y_true = val_batch\n",
    "        y_pred = self(x)\n",
    "        loss = self.loss(y_pred, y_true)\n",
    "        self.log('val_loss', loss, on_step=False, on_epoch=True)\n",
    "\n",
    "        offset = y_true.sum() - y_pred.sum()\n",
    "        self.log('val_offset', offset, on_step=False, on_epoch=True)\n",
    "        \n",
    "        return loss\n",
    "\n",
    "\n",
    "# Model parameters\n",
    "input_size  = 10 # Number of features (sales data from 10 stores)\n",
    "hidden_size = 50 # Number of features in hidden state\n",
    "output_size = 10 # Number of output values (future sales prediction)\n",
    "num_layers  = 4  # Number of stacked LSTM layers\n",
    "\n",
    "# Create the LSTM model\n",
    "model = LSTMModel(input_size, hidden_size, output_size, num_layers)"
   ]
  },
  {
   "cell_type": "code",
   "execution_count": 437,
   "id": "13f87241-11f5-4cf1-aa57-e4bc952171ce",
   "metadata": {},
   "outputs": [
    {
     "data": {
      "text/plain": [
       "==========================================================================================\n",
       "Layer (type:depth-idx)                   Output Shape              Param #\n",
       "==========================================================================================\n",
       "LSTMModel                                [5, 10]                   --\n",
       "├─LSTM: 1-1                              [5, 180, 50]              73,600\n",
       "├─Linear: 1-2                            [5, 10]                   510\n",
       "==========================================================================================\n",
       "Total params: 74,110\n",
       "Trainable params: 74,110\n",
       "Non-trainable params: 0\n",
       "Total mult-adds (Units.MEGABYTES): 66.24\n",
       "==========================================================================================\n",
       "Input size (MB): 11.85\n",
       "Forward/backward pass size (MB): 0.36\n",
       "Params size (MB): 0.30\n",
       "Estimated Total Size (MB): 12.51\n",
       "=========================================================================================="
      ]
     },
     "execution_count": 437,
     "metadata": {},
     "output_type": "execute_result"
    }
   ],
   "source": [
    "summary(model, input_data=torch.Tensor(x_train[0:5]).float())"
   ]
  },
  {
   "cell_type": "code",
   "execution_count": 438,
   "id": "e2da7029-b357-4293-971b-c5496b7257f3",
   "metadata": {},
   "outputs": [
    {
     "data": {
      "image/svg+xml": [
       "<?xml version=\"1.0\" encoding=\"UTF-8\" standalone=\"no\"?>\n",
       "<!DOCTYPE svg PUBLIC \"-//W3C//DTD SVG 1.1//EN\"\n",
       " \"http://www.w3.org/Graphics/SVG/1.1/DTD/svg11.dtd\">\n",
       "<!-- Generated by graphviz version 8.1.0 (20230707.2238)\n",
       " -->\n",
       "<!-- Title: model Pages: 1 -->\n",
       "<svg width=\"237pt\" height=\"515pt\"\n",
       " viewBox=\"0.00 0.00 237.00 515.00\" xmlns=\"http://www.w3.org/2000/svg\" xmlns:xlink=\"http://www.w3.org/1999/xlink\">\n",
       "<g id=\"graph0\" class=\"graph\" transform=\"scale(1 1) rotate(0) translate(4 511)\">\n",
       "<title>model</title>\n",
       "<polygon fill=\"white\" stroke=\"none\" points=\"-4,4 -4,-511 233,-511 233,4 -4,4\"/>\n",
       "<!-- 0 -->\n",
       "<g id=\"node1\" class=\"node\">\n",
       "<title>0</title>\n",
       "<polygon fill=\"lightyellow\" stroke=\"none\" points=\"181.88,-507 47.12,-507 47.12,-471.5 181.88,-471.5 181.88,-507\"/>\n",
       "<polygon fill=\"none\" stroke=\"black\" points=\"47.12,-471.5 47.12,-507 116.38,-507 116.38,-471.5 47.12,-471.5\"/>\n",
       "<text text-anchor=\"start\" x=\"52.12\" y=\"-492.5\" font-family=\"Linux libertine\" font-size=\"10.00\">input&#45;tensor</text>\n",
       "<text text-anchor=\"start\" x=\"63.38\" y=\"-479.75\" font-family=\"Linux libertine\" font-size=\"10.00\">depth:0</text>\n",
       "<polygon fill=\"none\" stroke=\"black\" points=\"116.38,-471.5 116.38,-507 181.88,-507 181.88,-471.5 116.38,-471.5\"/>\n",
       "<text text-anchor=\"start\" x=\"121.38\" y=\"-486.12\" font-family=\"Linux libertine\" font-size=\"10.00\">(5, 180, 10)</text>\n",
       "</g>\n",
       "<!-- 1 -->\n",
       "<g id=\"node2\" class=\"node\">\n",
       "<title>1</title>\n",
       "<polygon fill=\"aliceblue\" stroke=\"none\" points=\"195,-435.5 34,-435.5 34,-391.5 195,-391.5 195,-435.5\"/>\n",
       "<polygon fill=\"none\" stroke=\"black\" points=\"34,-391.5 34,-435.5 80,-435.5 80,-391.5 34,-391.5\"/>\n",
       "<text text-anchor=\"start\" x=\"49.5\" y=\"-416.75\" font-family=\"Linux libertine\" font-size=\"10.00\">div</text>\n",
       "<text text-anchor=\"start\" x=\"38.62\" y=\"-404\" font-family=\"Linux libertine\" font-size=\"10.00\">depth:1</text>\n",
       "<polygon fill=\"none\" stroke=\"black\" points=\"80,-413.5 80,-435.5 127,-435.5 127,-413.5 80,-413.5\"/>\n",
       "<text text-anchor=\"start\" x=\"89.62\" y=\"-421\" font-family=\"Linux libertine\" font-size=\"10.00\">input:</text>\n",
       "<polygon fill=\"none\" stroke=\"black\" points=\"127,-413.5 127,-435.5 195,-435.5 195,-413.5 127,-413.5\"/>\n",
       "<text text-anchor=\"start\" x=\"131.75\" y=\"-421\" font-family=\"Linux libertine\" font-size=\"10.00\">(5, 180, 10) </text>\n",
       "<polygon fill=\"none\" stroke=\"black\" points=\"80,-391.5 80,-413.5 127,-413.5 127,-391.5 80,-391.5\"/>\n",
       "<text text-anchor=\"start\" x=\"84.75\" y=\"-399\" font-family=\"Linux libertine\" font-size=\"10.00\">output: </text>\n",
       "<polygon fill=\"none\" stroke=\"black\" points=\"127,-391.5 127,-413.5 195,-413.5 195,-391.5 127,-391.5\"/>\n",
       "<text text-anchor=\"start\" x=\"131.75\" y=\"-399\" font-family=\"Linux libertine\" font-size=\"10.00\">(5, 180, 10) </text>\n",
       "</g>\n",
       "<!-- 0&#45;&gt;1 -->\n",
       "<g id=\"edge1\" class=\"edge\">\n",
       "<title>0&#45;&gt;1</title>\n",
       "<path fill=\"none\" stroke=\"black\" d=\"M114.5,-471.51C114.5,-464.07 114.5,-455.04 114.5,-446.39\"/>\n",
       "<polygon fill=\"black\" stroke=\"black\" points=\"118,-446.39 114.5,-436.39 111,-446.39 118,-446.39\"/>\n",
       "</g>\n",
       "<!-- 2 -->\n",
       "<g id=\"node3\" class=\"node\">\n",
       "<title>2</title>\n",
       "<polygon fill=\"#c1ffc1\" stroke=\"none\" points=\"229,-355.5 0,-355.5 0,-311.5 229,-311.5 229,-355.5\"/>\n",
       "<polygon fill=\"none\" stroke=\"black\" points=\"0,-311.5 0,-355.5 46,-355.5 46,-311.5 0,-311.5\"/>\n",
       "<text text-anchor=\"start\" x=\"9.88\" y=\"-336.75\" font-family=\"Linux libertine\" font-size=\"10.00\">LSTM</text>\n",
       "<text text-anchor=\"start\" x=\"4.62\" y=\"-324\" font-family=\"Linux libertine\" font-size=\"10.00\">depth:1</text>\n",
       "<polygon fill=\"none\" stroke=\"black\" points=\"46,-333.5 46,-355.5 93,-355.5 93,-333.5 46,-333.5\"/>\n",
       "<text text-anchor=\"start\" x=\"55.62\" y=\"-341\" font-family=\"Linux libertine\" font-size=\"10.00\">input:</text>\n",
       "<polygon fill=\"none\" stroke=\"black\" points=\"93,-333.5 93,-355.5 229,-355.5 229,-333.5 93,-333.5\"/>\n",
       "<text text-anchor=\"start\" x=\"131.75\" y=\"-341\" font-family=\"Linux libertine\" font-size=\"10.00\">(5, 180, 10) </text>\n",
       "<polygon fill=\"none\" stroke=\"black\" points=\"46,-311.5 46,-333.5 93,-333.5 93,-311.5 46,-311.5\"/>\n",
       "<text text-anchor=\"start\" x=\"50.75\" y=\"-319\" font-family=\"Linux libertine\" font-size=\"10.00\">output: </text>\n",
       "<polygon fill=\"none\" stroke=\"black\" points=\"93,-311.5 93,-333.5 229,-333.5 229,-311.5 93,-311.5\"/>\n",
       "<text text-anchor=\"start\" x=\"98\" y=\"-319\" font-family=\"Linux libertine\" font-size=\"10.00\">(5, 180, 50), 2 x (4, 5, 50) </text>\n",
       "</g>\n",
       "<!-- 1&#45;&gt;2 -->\n",
       "<g id=\"edge2\" class=\"edge\">\n",
       "<title>1&#45;&gt;2</title>\n",
       "<path fill=\"none\" stroke=\"black\" d=\"M114.5,-391.6C114.5,-383.82 114.5,-374.8 114.5,-366.26\"/>\n",
       "<polygon fill=\"black\" stroke=\"black\" points=\"118,-366.46 114.5,-356.46 111,-366.46 118,-366.46\"/>\n",
       "</g>\n",
       "<!-- 3 -->\n",
       "<g id=\"node4\" class=\"node\">\n",
       "<title>3</title>\n",
       "<polygon fill=\"aliceblue\" stroke=\"none\" points=\"206.5,-275.5 22.5,-275.5 22.5,-231.5 206.5,-231.5 206.5,-275.5\"/>\n",
       "<polygon fill=\"none\" stroke=\"black\" points=\"22.5,-231.5 22.5,-275.5 91.5,-275.5 91.5,-231.5 22.5,-231.5\"/>\n",
       "<text text-anchor=\"start\" x=\"27.38\" y=\"-256.75\" font-family=\"Linux libertine\" font-size=\"10.00\">__getitem__</text>\n",
       "<text text-anchor=\"start\" x=\"38.62\" y=\"-244\" font-family=\"Linux libertine\" font-size=\"10.00\">depth:1</text>\n",
       "<polygon fill=\"none\" stroke=\"black\" points=\"91.5,-253.5 91.5,-275.5 138.5,-275.5 138.5,-253.5 91.5,-253.5\"/>\n",
       "<text text-anchor=\"start\" x=\"101.12\" y=\"-261\" font-family=\"Linux libertine\" font-size=\"10.00\">input:</text>\n",
       "<polygon fill=\"none\" stroke=\"black\" points=\"138.5,-253.5 138.5,-275.5 206.5,-275.5 206.5,-253.5 138.5,-253.5\"/>\n",
       "<text text-anchor=\"start\" x=\"143.25\" y=\"-261\" font-family=\"Linux libertine\" font-size=\"10.00\">(5, 180, 50) </text>\n",
       "<polygon fill=\"none\" stroke=\"black\" points=\"91.5,-231.5 91.5,-253.5 138.5,-253.5 138.5,-231.5 91.5,-231.5\"/>\n",
       "<text text-anchor=\"start\" x=\"96.25\" y=\"-239\" font-family=\"Linux libertine\" font-size=\"10.00\">output: </text>\n",
       "<polygon fill=\"none\" stroke=\"black\" points=\"138.5,-231.5 138.5,-253.5 206.5,-253.5 206.5,-231.5 138.5,-231.5\"/>\n",
       "<text text-anchor=\"start\" x=\"155.25\" y=\"-239\" font-family=\"Linux libertine\" font-size=\"10.00\">(5, 50) </text>\n",
       "</g>\n",
       "<!-- 2&#45;&gt;3 -->\n",
       "<g id=\"edge3\" class=\"edge\">\n",
       "<title>2&#45;&gt;3</title>\n",
       "<path fill=\"none\" stroke=\"black\" d=\"M114.5,-311.6C114.5,-303.82 114.5,-294.8 114.5,-286.26\"/>\n",
       "<polygon fill=\"black\" stroke=\"black\" points=\"118,-286.46 114.5,-276.46 111,-286.46 118,-286.46\"/>\n",
       "</g>\n",
       "<!-- 4 -->\n",
       "<g id=\"node5\" class=\"node\">\n",
       "<title>4</title>\n",
       "<polygon fill=\"#c1ffc1\" stroke=\"none\" points=\"183,-195.5 46,-195.5 46,-151.5 183,-151.5 183,-195.5\"/>\n",
       "<polygon fill=\"none\" stroke=\"black\" points=\"46,-151.5 46,-195.5 92,-195.5 92,-151.5 46,-151.5\"/>\n",
       "<text text-anchor=\"start\" x=\"54\" y=\"-176.75\" font-family=\"Linux libertine\" font-size=\"10.00\">Linear</text>\n",
       "<text text-anchor=\"start\" x=\"50.62\" y=\"-164\" font-family=\"Linux libertine\" font-size=\"10.00\">depth:1</text>\n",
       "<polygon fill=\"none\" stroke=\"black\" points=\"92,-173.5 92,-195.5 139,-195.5 139,-173.5 92,-173.5\"/>\n",
       "<text text-anchor=\"start\" x=\"101.62\" y=\"-181\" font-family=\"Linux libertine\" font-size=\"10.00\">input:</text>\n",
       "<polygon fill=\"none\" stroke=\"black\" points=\"139,-173.5 139,-195.5 183,-195.5 183,-173.5 139,-173.5\"/>\n",
       "<text text-anchor=\"start\" x=\"143.75\" y=\"-181\" font-family=\"Linux libertine\" font-size=\"10.00\">(5, 50) </text>\n",
       "<polygon fill=\"none\" stroke=\"black\" points=\"92,-151.5 92,-173.5 139,-173.5 139,-151.5 92,-151.5\"/>\n",
       "<text text-anchor=\"start\" x=\"96.75\" y=\"-159\" font-family=\"Linux libertine\" font-size=\"10.00\">output: </text>\n",
       "<polygon fill=\"none\" stroke=\"black\" points=\"139,-151.5 139,-173.5 183,-173.5 183,-151.5 139,-151.5\"/>\n",
       "<text text-anchor=\"start\" x=\"143.75\" y=\"-159\" font-family=\"Linux libertine\" font-size=\"10.00\">(5, 10) </text>\n",
       "</g>\n",
       "<!-- 3&#45;&gt;4 -->\n",
       "<g id=\"edge4\" class=\"edge\">\n",
       "<title>3&#45;&gt;4</title>\n",
       "<path fill=\"none\" stroke=\"black\" d=\"M114.5,-231.6C114.5,-223.82 114.5,-214.8 114.5,-206.26\"/>\n",
       "<polygon fill=\"black\" stroke=\"black\" points=\"118,-206.46 114.5,-196.46 111,-206.46 118,-206.46\"/>\n",
       "</g>\n",
       "<!-- 5 -->\n",
       "<g id=\"node6\" class=\"node\">\n",
       "<title>5</title>\n",
       "<polygon fill=\"aliceblue\" stroke=\"none\" points=\"183,-115.5 46,-115.5 46,-71.5 183,-71.5 183,-115.5\"/>\n",
       "<polygon fill=\"none\" stroke=\"black\" points=\"46,-71.5 46,-115.5 92,-115.5 92,-71.5 46,-71.5\"/>\n",
       "<text text-anchor=\"start\" x=\"59.62\" y=\"-96.75\" font-family=\"Linux libertine\" font-size=\"10.00\">mul</text>\n",
       "<text text-anchor=\"start\" x=\"50.62\" y=\"-84\" font-family=\"Linux libertine\" font-size=\"10.00\">depth:1</text>\n",
       "<polygon fill=\"none\" stroke=\"black\" points=\"92,-93.5 92,-115.5 139,-115.5 139,-93.5 92,-93.5\"/>\n",
       "<text text-anchor=\"start\" x=\"101.62\" y=\"-101\" font-family=\"Linux libertine\" font-size=\"10.00\">input:</text>\n",
       "<polygon fill=\"none\" stroke=\"black\" points=\"139,-93.5 139,-115.5 183,-115.5 183,-93.5 139,-93.5\"/>\n",
       "<text text-anchor=\"start\" x=\"143.75\" y=\"-101\" font-family=\"Linux libertine\" font-size=\"10.00\">(5, 10) </text>\n",
       "<polygon fill=\"none\" stroke=\"black\" points=\"92,-71.5 92,-93.5 139,-93.5 139,-71.5 92,-71.5\"/>\n",
       "<text text-anchor=\"start\" x=\"96.75\" y=\"-79\" font-family=\"Linux libertine\" font-size=\"10.00\">output: </text>\n",
       "<polygon fill=\"none\" stroke=\"black\" points=\"139,-71.5 139,-93.5 183,-93.5 183,-71.5 139,-71.5\"/>\n",
       "<text text-anchor=\"start\" x=\"143.75\" y=\"-79\" font-family=\"Linux libertine\" font-size=\"10.00\">(5, 10) </text>\n",
       "</g>\n",
       "<!-- 4&#45;&gt;5 -->\n",
       "<g id=\"edge5\" class=\"edge\">\n",
       "<title>4&#45;&gt;5</title>\n",
       "<path fill=\"none\" stroke=\"black\" d=\"M114.5,-151.6C114.5,-143.82 114.5,-134.8 114.5,-126.26\"/>\n",
       "<polygon fill=\"black\" stroke=\"black\" points=\"118,-126.46 114.5,-116.46 111,-126.46 118,-126.46\"/>\n",
       "</g>\n",
       "<!-- 6 -->\n",
       "<g id=\"node7\" class=\"node\">\n",
       "<title>6</title>\n",
       "<polygon fill=\"lightyellow\" stroke=\"none\" points=\"173.25,-35.5 55.75,-35.5 55.75,0 173.25,0 173.25,-35.5\"/>\n",
       "<polygon fill=\"none\" stroke=\"black\" points=\"55.75,0 55.75,-35.5 131.75,-35.5 131.75,0 55.75,0\"/>\n",
       "<text text-anchor=\"start\" x=\"60.75\" y=\"-21\" font-family=\"Linux libertine\" font-size=\"10.00\">output&#45;tensor</text>\n",
       "<text text-anchor=\"start\" x=\"75.38\" y=\"-8.25\" font-family=\"Linux libertine\" font-size=\"10.00\">depth:0</text>\n",
       "<polygon fill=\"none\" stroke=\"black\" points=\"131.75,0 131.75,-35.5 173.25,-35.5 173.25,0 131.75,0\"/>\n",
       "<text text-anchor=\"start\" x=\"136.75\" y=\"-14.62\" font-family=\"Linux libertine\" font-size=\"10.00\">(5, 10)</text>\n",
       "</g>\n",
       "<!-- 5&#45;&gt;6 -->\n",
       "<g id=\"edge6\" class=\"edge\">\n",
       "<title>5&#45;&gt;6</title>\n",
       "<path fill=\"none\" stroke=\"black\" d=\"M114.5,-71.56C114.5,-63.6 114.5,-54.41 114.5,-45.95\"/>\n",
       "<polygon fill=\"black\" stroke=\"black\" points=\"118,-46.05 114.5,-36.05 111,-46.05 118,-46.05\"/>\n",
       "</g>\n",
       "</g>\n",
       "</svg>\n"
      ],
      "text/plain": [
       "<graphviz.graphs.Digraph at 0x7f2de9d74890>"
      ]
     },
     "execution_count": 438,
     "metadata": {},
     "output_type": "execute_result"
    }
   ],
   "source": [
    "model_graph = draw_graph(model,\n",
    "                         input_data=torch.Tensor(x_train[0:5]).float(),\n",
    "                         device=device,\n",
    "                         hide_inner_tensors=True,\n",
    "                         hide_module_functions=True,\n",
    "                         expand_nested=False,\n",
    "                         depth=3,\n",
    "                         dtypes=[torch.long])\n",
    "\n",
    "model_graph.visual_graph"
   ]
  },
  {
   "cell_type": "code",
   "execution_count": 439,
   "id": "643df836-e85a-4d03-8226-fc56cf8b3cf6",
   "metadata": {},
   "outputs": [],
   "source": [
    "xy_train = torch.utils.data.DataLoader(list(zip(torch.Tensor(x_train).float(),\n",
    "                                                torch.Tensor(y_train).float())), \n",
    "                                       shuffle=True, \n",
    "                                       batch_size=cfg_batch_size, \n",
    "                                       num_workers=cfg_num_workers)\n",
    "\n",
    "xy_val = torch.utils.data.DataLoader(list(zip(torch.Tensor(x_val).float(), \n",
    "                                              torch.Tensor(y_val).float())), \n",
    "                                     shuffle=False, \n",
    "                                     batch_size=cfg_batch_size, \n",
    "                                     num_workers=cfg_num_workers)"
   ]
  },
  {
   "cell_type": "code",
   "execution_count": 440,
   "id": "97c23877-fe6c-4154-8233-5aff37f0a28d",
   "metadata": {},
   "outputs": [],
   "source": [
    "logger = pl.loggers.CSVLogger(\"lightning_logs\", \n",
    "                              name=\"Project\",\n",
    "                              version=\"1.0.0\")"
   ]
  },
  {
   "cell_type": "code",
   "execution_count": 441,
   "id": "5f02ae27-a084-4d2b-bab9-af0a4b32c53c",
   "metadata": {},
   "outputs": [
    {
     "name": "stderr",
     "output_type": "stream",
     "text": [
      "GPU available: True (cuda), used: True\n",
      "TPU available: False, using: 0 TPU cores\n",
      "IPU available: False, using: 0 IPUs\n",
      "HPU available: False, using: 0 HPUs\n"
     ]
    }
   ],
   "source": [
    "trainer = pl.Trainer(logger=logger, max_epochs=cfg_max_epochs,\n",
    "                     enable_progress_bar=True,\n",
    "                     log_every_n_steps=0,\n",
    "                     enable_checkpointing=False, \n",
    "                     callbacks=[pl.callbacks.TQDMProgressBar(refresh_rate=50)])"
   ]
  },
  {
   "cell_type": "code",
   "execution_count": 442,
   "id": "434715be-7a7c-46cc-af84-f64d25ed572b",
   "metadata": {},
   "outputs": [
    {
     "name": "stderr",
     "output_type": "stream",
     "text": [
      "/opt/conda/lib/python3.11/site-packages/lightning/fabric/loggers/csv_logs.py:195: UserWarning:\n",
      "\n",
      "Experiment logs directory lightning_logs/Project/1.0.0 exists and is not empty. Previous log files in this directory will be deleted when the new ones are saved!\n",
      "\n",
      "LOCAL_RANK: 0 - CUDA_VISIBLE_DEVICES: [0]\n",
      "SLURM auto-requeueing enabled. Setting signal handlers.\n",
      "/opt/conda/lib/python3.11/site-packages/lightning/pytorch/trainer/connectors/data_connector.py:442: PossibleUserWarning:\n",
      "\n",
      "The dataloader, val_dataloader, does not have many workers which may be a bottleneck. Consider increasing the value of the `num_workers` argument` (try 20 which is the number of cpus on this machine) in the `DataLoader` init to improve performance.\n",
      "\n"
     ]
    },
    {
     "data": {
      "application/vnd.jupyter.widget-view+json": {
       "model_id": "889a2d5dd88f42f0942ef9d0e9f61250",
       "version_major": 2,
       "version_minor": 0
      },
      "text/plain": [
       "Validation: 0it [00:00, ?it/s]"
      ]
     },
     "metadata": {},
     "output_type": "display_data"
    },
    {
     "data": {
      "text/html": [
       "<pre style=\"white-space:pre;overflow-x:auto;line-height:normal;font-family:Menlo,'DejaVu Sans Mono',consolas,'Courier New',monospace\">┏━━━━━━━━━━━━━━━━━━━━━━━━━━━┳━━━━━━━━━━━━━━━━━━━━━━━━━━━┓\n",
       "┃<span style=\"font-weight: bold\">  Runningstage.validating  </span>┃<span style=\"font-weight: bold\">                           </span>┃\n",
       "┃<span style=\"font-weight: bold\">          metric           </span>┃<span style=\"font-weight: bold\">       DataLoader 0        </span>┃\n",
       "┡━━━━━━━━━━━━━━━━━━━━━━━━━━━╇━━━━━━━━━━━━━━━━━━━━━━━━━━━┩\n",
       "│<span style=\"color: #008080; text-decoration-color: #008080\">         val_loss          </span>│<span style=\"color: #800080; text-decoration-color: #800080\">         9598987.0         </span>│\n",
       "│<span style=\"color: #008080; text-decoration-color: #008080\">        val_offset         </span>│<span style=\"color: #800080; text-decoration-color: #800080\">         4241256.5         </span>│\n",
       "└───────────────────────────┴───────────────────────────┘\n",
       "</pre>\n"
      ],
      "text/plain": [
       "┏━━━━━━━━━━━━━━━━━━━━━━━━━━━┳━━━━━━━━━━━━━━━━━━━━━━━━━━━┓\n",
       "┃\u001b[1m \u001b[0m\u001b[1m Runningstage.validating \u001b[0m\u001b[1m \u001b[0m┃\u001b[1m                           \u001b[0m┃\n",
       "┃\u001b[1m \u001b[0m\u001b[1m         metric          \u001b[0m\u001b[1m \u001b[0m┃\u001b[1m \u001b[0m\u001b[1m      DataLoader 0       \u001b[0m\u001b[1m \u001b[0m┃\n",
       "┡━━━━━━━━━━━━━━━━━━━━━━━━━━━╇━━━━━━━━━━━━━━━━━━━━━━━━━━━┩\n",
       "│\u001b[36m \u001b[0m\u001b[36m        val_loss         \u001b[0m\u001b[36m \u001b[0m│\u001b[35m \u001b[0m\u001b[35m        9598987.0        \u001b[0m\u001b[35m \u001b[0m│\n",
       "│\u001b[36m \u001b[0m\u001b[36m       val_offset        \u001b[0m\u001b[36m \u001b[0m│\u001b[35m \u001b[0m\u001b[35m        4241256.5        \u001b[0m\u001b[35m \u001b[0m│\n",
       "└───────────────────────────┴───────────────────────────┘\n"
      ]
     },
     "metadata": {},
     "output_type": "display_data"
    },
    {
     "data": {
      "text/plain": [
       "[{'val_loss': 9598987.0, 'val_offset': 4241256.5}]"
      ]
     },
     "execution_count": 442,
     "metadata": {},
     "output_type": "execute_result"
    }
   ],
   "source": [
    "trainer.validate(model, xy_val)"
   ]
  },
  {
   "cell_type": "code",
   "execution_count": 443,
   "id": "2623d1a3-44a6-4d6a-921d-9c9756e2ff9a",
   "metadata": {},
   "outputs": [
    {
     "name": "stderr",
     "output_type": "stream",
     "text": [
      "LOCAL_RANK: 0 - CUDA_VISIBLE_DEVICES: [0]\n",
      "\n",
      "  | Name    | Type      | Params\n",
      "--------------------------------------\n",
      "0 | lstm    | LSTM      | 73.6 K\n",
      "1 | dropout | Dropout1d | 0     \n",
      "2 | linear  | Linear    | 510   \n",
      "3 | loss    | MSELoss   | 0     \n",
      "--------------------------------------\n",
      "74.1 K    Trainable params\n",
      "0         Non-trainable params\n",
      "74.1 K    Total params\n",
      "0.296     Total estimated model params size (MB)\n",
      "SLURM auto-requeueing enabled. Setting signal handlers.\n"
     ]
    },
    {
     "data": {
      "application/vnd.jupyter.widget-view+json": {
       "model_id": "",
       "version_major": 2,
       "version_minor": 0
      },
      "text/plain": [
       "Sanity Checking: 0it [00:00, ?it/s]"
      ]
     },
     "metadata": {},
     "output_type": "display_data"
    },
    {
     "name": "stderr",
     "output_type": "stream",
     "text": [
      "/opt/conda/lib/python3.11/site-packages/lightning/pytorch/trainer/connectors/data_connector.py:442: PossibleUserWarning:\n",
      "\n",
      "The dataloader, train_dataloader, does not have many workers which may be a bottleneck. Consider increasing the value of the `num_workers` argument` (try 20 which is the number of cpus on this machine) in the `DataLoader` init to improve performance.\n",
      "\n"
     ]
    },
    {
     "data": {
      "application/vnd.jupyter.widget-view+json": {
       "model_id": "bebd2d503be14fa1a7ed61fcaeaef55c",
       "version_major": 2,
       "version_minor": 0
      },
      "text/plain": [
       "Training: 0it [00:00, ?it/s]"
      ]
     },
     "metadata": {},
     "output_type": "display_data"
    },
    {
     "data": {
      "application/vnd.jupyter.widget-view+json": {
       "model_id": "",
       "version_major": 2,
       "version_minor": 0
      },
      "text/plain": [
       "Validation: 0it [00:00, ?it/s]"
      ]
     },
     "metadata": {},
     "output_type": "display_data"
    },
    {
     "data": {
      "application/vnd.jupyter.widget-view+json": {
       "model_id": "",
       "version_major": 2,
       "version_minor": 0
      },
      "text/plain": [
       "Validation: 0it [00:00, ?it/s]"
      ]
     },
     "metadata": {},
     "output_type": "display_data"
    },
    {
     "data": {
      "application/vnd.jupyter.widget-view+json": {
       "model_id": "",
       "version_major": 2,
       "version_minor": 0
      },
      "text/plain": [
       "Validation: 0it [00:00, ?it/s]"
      ]
     },
     "metadata": {},
     "output_type": "display_data"
    },
    {
     "data": {
      "application/vnd.jupyter.widget-view+json": {
       "model_id": "",
       "version_major": 2,
       "version_minor": 0
      },
      "text/plain": [
       "Validation: 0it [00:00, ?it/s]"
      ]
     },
     "metadata": {},
     "output_type": "display_data"
    },
    {
     "data": {
      "application/vnd.jupyter.widget-view+json": {
       "model_id": "",
       "version_major": 2,
       "version_minor": 0
      },
      "text/plain": [
       "Validation: 0it [00:00, ?it/s]"
      ]
     },
     "metadata": {},
     "output_type": "display_data"
    },
    {
     "data": {
      "application/vnd.jupyter.widget-view+json": {
       "model_id": "",
       "version_major": 2,
       "version_minor": 0
      },
      "text/plain": [
       "Validation: 0it [00:00, ?it/s]"
      ]
     },
     "metadata": {},
     "output_type": "display_data"
    },
    {
     "data": {
      "application/vnd.jupyter.widget-view+json": {
       "model_id": "",
       "version_major": 2,
       "version_minor": 0
      },
      "text/plain": [
       "Validation: 0it [00:00, ?it/s]"
      ]
     },
     "metadata": {},
     "output_type": "display_data"
    },
    {
     "data": {
      "application/vnd.jupyter.widget-view+json": {
       "model_id": "",
       "version_major": 2,
       "version_minor": 0
      },
      "text/plain": [
       "Validation: 0it [00:00, ?it/s]"
      ]
     },
     "metadata": {},
     "output_type": "display_data"
    },
    {
     "data": {
      "application/vnd.jupyter.widget-view+json": {
       "model_id": "",
       "version_major": 2,
       "version_minor": 0
      },
      "text/plain": [
       "Validation: 0it [00:00, ?it/s]"
      ]
     },
     "metadata": {},
     "output_type": "display_data"
    },
    {
     "data": {
      "application/vnd.jupyter.widget-view+json": {
       "model_id": "",
       "version_major": 2,
       "version_minor": 0
      },
      "text/plain": [
       "Validation: 0it [00:00, ?it/s]"
      ]
     },
     "metadata": {},
     "output_type": "display_data"
    },
    {
     "data": {
      "application/vnd.jupyter.widget-view+json": {
       "model_id": "",
       "version_major": 2,
       "version_minor": 0
      },
      "text/plain": [
       "Validation: 0it [00:00, ?it/s]"
      ]
     },
     "metadata": {},
     "output_type": "display_data"
    },
    {
     "data": {
      "application/vnd.jupyter.widget-view+json": {
       "model_id": "",
       "version_major": 2,
       "version_minor": 0
      },
      "text/plain": [
       "Validation: 0it [00:00, ?it/s]"
      ]
     },
     "metadata": {},
     "output_type": "display_data"
    },
    {
     "data": {
      "application/vnd.jupyter.widget-view+json": {
       "model_id": "",
       "version_major": 2,
       "version_minor": 0
      },
      "text/plain": [
       "Validation: 0it [00:00, ?it/s]"
      ]
     },
     "metadata": {},
     "output_type": "display_data"
    },
    {
     "data": {
      "application/vnd.jupyter.widget-view+json": {
       "model_id": "",
       "version_major": 2,
       "version_minor": 0
      },
      "text/plain": [
       "Validation: 0it [00:00, ?it/s]"
      ]
     },
     "metadata": {},
     "output_type": "display_data"
    },
    {
     "data": {
      "application/vnd.jupyter.widget-view+json": {
       "model_id": "",
       "version_major": 2,
       "version_minor": 0
      },
      "text/plain": [
       "Validation: 0it [00:00, ?it/s]"
      ]
     },
     "metadata": {},
     "output_type": "display_data"
    },
    {
     "data": {
      "application/vnd.jupyter.widget-view+json": {
       "model_id": "",
       "version_major": 2,
       "version_minor": 0
      },
      "text/plain": [
       "Validation: 0it [00:00, ?it/s]"
      ]
     },
     "metadata": {},
     "output_type": "display_data"
    },
    {
     "data": {
      "application/vnd.jupyter.widget-view+json": {
       "model_id": "",
       "version_major": 2,
       "version_minor": 0
      },
      "text/plain": [
       "Validation: 0it [00:00, ?it/s]"
      ]
     },
     "metadata": {},
     "output_type": "display_data"
    },
    {
     "data": {
      "application/vnd.jupyter.widget-view+json": {
       "model_id": "",
       "version_major": 2,
       "version_minor": 0
      },
      "text/plain": [
       "Validation: 0it [00:00, ?it/s]"
      ]
     },
     "metadata": {},
     "output_type": "display_data"
    },
    {
     "data": {
      "application/vnd.jupyter.widget-view+json": {
       "model_id": "",
       "version_major": 2,
       "version_minor": 0
      },
      "text/plain": [
       "Validation: 0it [00:00, ?it/s]"
      ]
     },
     "metadata": {},
     "output_type": "display_data"
    },
    {
     "data": {
      "application/vnd.jupyter.widget-view+json": {
       "model_id": "",
       "version_major": 2,
       "version_minor": 0
      },
      "text/plain": [
       "Validation: 0it [00:00, ?it/s]"
      ]
     },
     "metadata": {},
     "output_type": "display_data"
    },
    {
     "data": {
      "application/vnd.jupyter.widget-view+json": {
       "model_id": "",
       "version_major": 2,
       "version_minor": 0
      },
      "text/plain": [
       "Validation: 0it [00:00, ?it/s]"
      ]
     },
     "metadata": {},
     "output_type": "display_data"
    },
    {
     "data": {
      "application/vnd.jupyter.widget-view+json": {
       "model_id": "",
       "version_major": 2,
       "version_minor": 0
      },
      "text/plain": [
       "Validation: 0it [00:00, ?it/s]"
      ]
     },
     "metadata": {},
     "output_type": "display_data"
    },
    {
     "data": {
      "application/vnd.jupyter.widget-view+json": {
       "model_id": "",
       "version_major": 2,
       "version_minor": 0
      },
      "text/plain": [
       "Validation: 0it [00:00, ?it/s]"
      ]
     },
     "metadata": {},
     "output_type": "display_data"
    },
    {
     "data": {
      "application/vnd.jupyter.widget-view+json": {
       "model_id": "",
       "version_major": 2,
       "version_minor": 0
      },
      "text/plain": [
       "Validation: 0it [00:00, ?it/s]"
      ]
     },
     "metadata": {},
     "output_type": "display_data"
    },
    {
     "data": {
      "application/vnd.jupyter.widget-view+json": {
       "model_id": "",
       "version_major": 2,
       "version_minor": 0
      },
      "text/plain": [
       "Validation: 0it [00:00, ?it/s]"
      ]
     },
     "metadata": {},
     "output_type": "display_data"
    },
    {
     "data": {
      "application/vnd.jupyter.widget-view+json": {
       "model_id": "",
       "version_major": 2,
       "version_minor": 0
      },
      "text/plain": [
       "Validation: 0it [00:00, ?it/s]"
      ]
     },
     "metadata": {},
     "output_type": "display_data"
    },
    {
     "data": {
      "application/vnd.jupyter.widget-view+json": {
       "model_id": "",
       "version_major": 2,
       "version_minor": 0
      },
      "text/plain": [
       "Validation: 0it [00:00, ?it/s]"
      ]
     },
     "metadata": {},
     "output_type": "display_data"
    },
    {
     "data": {
      "application/vnd.jupyter.widget-view+json": {
       "model_id": "",
       "version_major": 2,
       "version_minor": 0
      },
      "text/plain": [
       "Validation: 0it [00:00, ?it/s]"
      ]
     },
     "metadata": {},
     "output_type": "display_data"
    },
    {
     "data": {
      "application/vnd.jupyter.widget-view+json": {
       "model_id": "",
       "version_major": 2,
       "version_minor": 0
      },
      "text/plain": [
       "Validation: 0it [00:00, ?it/s]"
      ]
     },
     "metadata": {},
     "output_type": "display_data"
    },
    {
     "data": {
      "application/vnd.jupyter.widget-view+json": {
       "model_id": "",
       "version_major": 2,
       "version_minor": 0
      },
      "text/plain": [
       "Validation: 0it [00:00, ?it/s]"
      ]
     },
     "metadata": {},
     "output_type": "display_data"
    },
    {
     "data": {
      "application/vnd.jupyter.widget-view+json": {
       "model_id": "",
       "version_major": 2,
       "version_minor": 0
      },
      "text/plain": [
       "Validation: 0it [00:00, ?it/s]"
      ]
     },
     "metadata": {},
     "output_type": "display_data"
    },
    {
     "data": {
      "application/vnd.jupyter.widget-view+json": {
       "model_id": "",
       "version_major": 2,
       "version_minor": 0
      },
      "text/plain": [
       "Validation: 0it [00:00, ?it/s]"
      ]
     },
     "metadata": {},
     "output_type": "display_data"
    },
    {
     "data": {
      "application/vnd.jupyter.widget-view+json": {
       "model_id": "",
       "version_major": 2,
       "version_minor": 0
      },
      "text/plain": [
       "Validation: 0it [00:00, ?it/s]"
      ]
     },
     "metadata": {},
     "output_type": "display_data"
    },
    {
     "data": {
      "application/vnd.jupyter.widget-view+json": {
       "model_id": "",
       "version_major": 2,
       "version_minor": 0
      },
      "text/plain": [
       "Validation: 0it [00:00, ?it/s]"
      ]
     },
     "metadata": {},
     "output_type": "display_data"
    },
    {
     "data": {
      "application/vnd.jupyter.widget-view+json": {
       "model_id": "",
       "version_major": 2,
       "version_minor": 0
      },
      "text/plain": [
       "Validation: 0it [00:00, ?it/s]"
      ]
     },
     "metadata": {},
     "output_type": "display_data"
    },
    {
     "data": {
      "application/vnd.jupyter.widget-view+json": {
       "model_id": "",
       "version_major": 2,
       "version_minor": 0
      },
      "text/plain": [
       "Validation: 0it [00:00, ?it/s]"
      ]
     },
     "metadata": {},
     "output_type": "display_data"
    },
    {
     "data": {
      "application/vnd.jupyter.widget-view+json": {
       "model_id": "",
       "version_major": 2,
       "version_minor": 0
      },
      "text/plain": [
       "Validation: 0it [00:00, ?it/s]"
      ]
     },
     "metadata": {},
     "output_type": "display_data"
    },
    {
     "data": {
      "application/vnd.jupyter.widget-view+json": {
       "model_id": "",
       "version_major": 2,
       "version_minor": 0
      },
      "text/plain": [
       "Validation: 0it [00:00, ?it/s]"
      ]
     },
     "metadata": {},
     "output_type": "display_data"
    },
    {
     "data": {
      "application/vnd.jupyter.widget-view+json": {
       "model_id": "",
       "version_major": 2,
       "version_minor": 0
      },
      "text/plain": [
       "Validation: 0it [00:00, ?it/s]"
      ]
     },
     "metadata": {},
     "output_type": "display_data"
    },
    {
     "data": {
      "application/vnd.jupyter.widget-view+json": {
       "model_id": "",
       "version_major": 2,
       "version_minor": 0
      },
      "text/plain": [
       "Validation: 0it [00:00, ?it/s]"
      ]
     },
     "metadata": {},
     "output_type": "display_data"
    },
    {
     "data": {
      "application/vnd.jupyter.widget-view+json": {
       "model_id": "",
       "version_major": 2,
       "version_minor": 0
      },
      "text/plain": [
       "Validation: 0it [00:00, ?it/s]"
      ]
     },
     "metadata": {},
     "output_type": "display_data"
    },
    {
     "data": {
      "application/vnd.jupyter.widget-view+json": {
       "model_id": "",
       "version_major": 2,
       "version_minor": 0
      },
      "text/plain": [
       "Validation: 0it [00:00, ?it/s]"
      ]
     },
     "metadata": {},
     "output_type": "display_data"
    },
    {
     "data": {
      "application/vnd.jupyter.widget-view+json": {
       "model_id": "",
       "version_major": 2,
       "version_minor": 0
      },
      "text/plain": [
       "Validation: 0it [00:00, ?it/s]"
      ]
     },
     "metadata": {},
     "output_type": "display_data"
    },
    {
     "data": {
      "application/vnd.jupyter.widget-view+json": {
       "model_id": "",
       "version_major": 2,
       "version_minor": 0
      },
      "text/plain": [
       "Validation: 0it [00:00, ?it/s]"
      ]
     },
     "metadata": {},
     "output_type": "display_data"
    },
    {
     "data": {
      "application/vnd.jupyter.widget-view+json": {
       "model_id": "",
       "version_major": 2,
       "version_minor": 0
      },
      "text/plain": [
       "Validation: 0it [00:00, ?it/s]"
      ]
     },
     "metadata": {},
     "output_type": "display_data"
    },
    {
     "data": {
      "application/vnd.jupyter.widget-view+json": {
       "model_id": "",
       "version_major": 2,
       "version_minor": 0
      },
      "text/plain": [
       "Validation: 0it [00:00, ?it/s]"
      ]
     },
     "metadata": {},
     "output_type": "display_data"
    },
    {
     "data": {
      "application/vnd.jupyter.widget-view+json": {
       "model_id": "1e0d27f115c54b34ae26c0365036242f",
       "version_major": 2,
       "version_minor": 0
      },
      "text/plain": [
       "Validation: 0it [00:00, ?it/s]"
      ]
     },
     "metadata": {},
     "output_type": "display_data"
    },
    {
     "data": {
      "application/vnd.jupyter.widget-view+json": {
       "model_id": "2343dfa817bb4bbaba824aa68cc46131",
       "version_major": 2,
       "version_minor": 0
      },
      "text/plain": [
       "Validation: 0it [00:00, ?it/s]"
      ]
     },
     "metadata": {},
     "output_type": "display_data"
    },
    {
     "data": {
      "application/vnd.jupyter.widget-view+json": {
       "model_id": "219a9c4c526d407a811ff163f9295d12",
       "version_major": 2,
       "version_minor": 0
      },
      "text/plain": [
       "Validation: 0it [00:00, ?it/s]"
      ]
     },
     "metadata": {},
     "output_type": "display_data"
    },
    {
     "data": {
      "application/vnd.jupyter.widget-view+json": {
       "model_id": "a1f0facb9ad443238e7877e6994d5223",
       "version_major": 2,
       "version_minor": 0
      },
      "text/plain": [
       "Validation: 0it [00:00, ?it/s]"
      ]
     },
     "metadata": {},
     "output_type": "display_data"
    },
    {
     "data": {
      "application/vnd.jupyter.widget-view+json": {
       "model_id": "c6cd9a69e3394c09823e63259b2ab93f",
       "version_major": 2,
       "version_minor": 0
      },
      "text/plain": [
       "Validation: 0it [00:00, ?it/s]"
      ]
     },
     "metadata": {},
     "output_type": "display_data"
    },
    {
     "data": {
      "application/vnd.jupyter.widget-view+json": {
       "model_id": "167384a07c7c4a3a90bffb08801879b2",
       "version_major": 2,
       "version_minor": 0
      },
      "text/plain": [
       "Validation: 0it [00:00, ?it/s]"
      ]
     },
     "metadata": {},
     "output_type": "display_data"
    },
    {
     "data": {
      "application/vnd.jupyter.widget-view+json": {
       "model_id": "6cce1525f7a7411999eb366d24a6a62f",
       "version_major": 2,
       "version_minor": 0
      },
      "text/plain": [
       "Validation: 0it [00:00, ?it/s]"
      ]
     },
     "metadata": {},
     "output_type": "display_data"
    },
    {
     "data": {
      "application/vnd.jupyter.widget-view+json": {
       "model_id": "477b729c14c34c6f8db7223359401f74",
       "version_major": 2,
       "version_minor": 0
      },
      "text/plain": [
       "Validation: 0it [00:00, ?it/s]"
      ]
     },
     "metadata": {},
     "output_type": "display_data"
    },
    {
     "data": {
      "application/vnd.jupyter.widget-view+json": {
       "model_id": "bffdea22c995409b8d2947eda5a809d8",
       "version_major": 2,
       "version_minor": 0
      },
      "text/plain": [
       "Validation: 0it [00:00, ?it/s]"
      ]
     },
     "metadata": {},
     "output_type": "display_data"
    },
    {
     "data": {
      "application/vnd.jupyter.widget-view+json": {
       "model_id": "972b1da2187349d0be5314bc41004cfe",
       "version_major": 2,
       "version_minor": 0
      },
      "text/plain": [
       "Validation: 0it [00:00, ?it/s]"
      ]
     },
     "metadata": {},
     "output_type": "display_data"
    },
    {
     "data": {
      "application/vnd.jupyter.widget-view+json": {
       "model_id": "18ad4400e3a941f79a511a7fec225d28",
       "version_major": 2,
       "version_minor": 0
      },
      "text/plain": [
       "Validation: 0it [00:00, ?it/s]"
      ]
     },
     "metadata": {},
     "output_type": "display_data"
    },
    {
     "data": {
      "application/vnd.jupyter.widget-view+json": {
       "model_id": "8c2829c322a14b2a81234ea1c238010c",
       "version_major": 2,
       "version_minor": 0
      },
      "text/plain": [
       "Validation: 0it [00:00, ?it/s]"
      ]
     },
     "metadata": {},
     "output_type": "display_data"
    },
    {
     "data": {
      "application/vnd.jupyter.widget-view+json": {
       "model_id": "fb0c3954f1b441359bb35e04ca996673",
       "version_major": 2,
       "version_minor": 0
      },
      "text/plain": [
       "Validation: 0it [00:00, ?it/s]"
      ]
     },
     "metadata": {},
     "output_type": "display_data"
    },
    {
     "data": {
      "application/vnd.jupyter.widget-view+json": {
       "model_id": "505b8c1c7f764ea19eb517f71cccf145",
       "version_major": 2,
       "version_minor": 0
      },
      "text/plain": [
       "Validation: 0it [00:00, ?it/s]"
      ]
     },
     "metadata": {},
     "output_type": "display_data"
    },
    {
     "data": {
      "application/vnd.jupyter.widget-view+json": {
       "model_id": "19d5f531c86340c6861cfff01898dddc",
       "version_major": 2,
       "version_minor": 0
      },
      "text/plain": [
       "Validation: 0it [00:00, ?it/s]"
      ]
     },
     "metadata": {},
     "output_type": "display_data"
    },
    {
     "data": {
      "application/vnd.jupyter.widget-view+json": {
       "model_id": "9f66ba6aaf0a44709a4022baf1c8015d",
       "version_major": 2,
       "version_minor": 0
      },
      "text/plain": [
       "Validation: 0it [00:00, ?it/s]"
      ]
     },
     "metadata": {},
     "output_type": "display_data"
    },
    {
     "data": {
      "application/vnd.jupyter.widget-view+json": {
       "model_id": "1e82aab8d96a4314aabc88eb76d3cf59",
       "version_major": 2,
       "version_minor": 0
      },
      "text/plain": [
       "Validation: 0it [00:00, ?it/s]"
      ]
     },
     "metadata": {},
     "output_type": "display_data"
    },
    {
     "data": {
      "application/vnd.jupyter.widget-view+json": {
       "model_id": "d4497fa516644a4ba1fb3b8994b3a496",
       "version_major": 2,
       "version_minor": 0
      },
      "text/plain": [
       "Validation: 0it [00:00, ?it/s]"
      ]
     },
     "metadata": {},
     "output_type": "display_data"
    },
    {
     "data": {
      "application/vnd.jupyter.widget-view+json": {
       "model_id": "08f210e22850473d96da09ef634c4b70",
       "version_major": 2,
       "version_minor": 0
      },
      "text/plain": [
       "Validation: 0it [00:00, ?it/s]"
      ]
     },
     "metadata": {},
     "output_type": "display_data"
    },
    {
     "data": {
      "application/vnd.jupyter.widget-view+json": {
       "model_id": "cb78080e5df04efb948aa6a3386f29a2",
       "version_major": 2,
       "version_minor": 0
      },
      "text/plain": [
       "Validation: 0it [00:00, ?it/s]"
      ]
     },
     "metadata": {},
     "output_type": "display_data"
    },
    {
     "data": {
      "application/vnd.jupyter.widget-view+json": {
       "model_id": "e9d07c37f0654a6486b8b1f427e9b121",
       "version_major": 2,
       "version_minor": 0
      },
      "text/plain": [
       "Validation: 0it [00:00, ?it/s]"
      ]
     },
     "metadata": {},
     "output_type": "display_data"
    },
    {
     "data": {
      "application/vnd.jupyter.widget-view+json": {
       "model_id": "c39e01dc62624730b680d7d4a859703b",
       "version_major": 2,
       "version_minor": 0
      },
      "text/plain": [
       "Validation: 0it [00:00, ?it/s]"
      ]
     },
     "metadata": {},
     "output_type": "display_data"
    },
    {
     "data": {
      "application/vnd.jupyter.widget-view+json": {
       "model_id": "677d0e896feb43479b6e6767d00bcbfe",
       "version_major": 2,
       "version_minor": 0
      },
      "text/plain": [
       "Validation: 0it [00:00, ?it/s]"
      ]
     },
     "metadata": {},
     "output_type": "display_data"
    },
    {
     "data": {
      "application/vnd.jupyter.widget-view+json": {
       "model_id": "0631751270ba44728d416b675fe9f1fa",
       "version_major": 2,
       "version_minor": 0
      },
      "text/plain": [
       "Validation: 0it [00:00, ?it/s]"
      ]
     },
     "metadata": {},
     "output_type": "display_data"
    },
    {
     "data": {
      "application/vnd.jupyter.widget-view+json": {
       "model_id": "f69e472a3d08445db958268460dfd7b9",
       "version_major": 2,
       "version_minor": 0
      },
      "text/plain": [
       "Validation: 0it [00:00, ?it/s]"
      ]
     },
     "metadata": {},
     "output_type": "display_data"
    },
    {
     "data": {
      "application/vnd.jupyter.widget-view+json": {
       "model_id": "c4c1a064e8ae426dbeccefdc1f910595",
       "version_major": 2,
       "version_minor": 0
      },
      "text/plain": [
       "Validation: 0it [00:00, ?it/s]"
      ]
     },
     "metadata": {},
     "output_type": "display_data"
    },
    {
     "data": {
      "application/vnd.jupyter.widget-view+json": {
       "model_id": "76ceba0820894992a71e9b9ec665fa21",
       "version_major": 2,
       "version_minor": 0
      },
      "text/plain": [
       "Validation: 0it [00:00, ?it/s]"
      ]
     },
     "metadata": {},
     "output_type": "display_data"
    },
    {
     "data": {
      "application/vnd.jupyter.widget-view+json": {
       "model_id": "17b8e57ace214f4296e32ddb2f6c8f6b",
       "version_major": 2,
       "version_minor": 0
      },
      "text/plain": [
       "Validation: 0it [00:00, ?it/s]"
      ]
     },
     "metadata": {},
     "output_type": "display_data"
    },
    {
     "data": {
      "application/vnd.jupyter.widget-view+json": {
       "model_id": "6dc9569e99a14ca7b76be91ff01b2289",
       "version_major": 2,
       "version_minor": 0
      },
      "text/plain": [
       "Validation: 0it [00:00, ?it/s]"
      ]
     },
     "metadata": {},
     "output_type": "display_data"
    },
    {
     "data": {
      "application/vnd.jupyter.widget-view+json": {
       "model_id": "26a740911bea4bca8c0d8ad881d58d7b",
       "version_major": 2,
       "version_minor": 0
      },
      "text/plain": [
       "Validation: 0it [00:00, ?it/s]"
      ]
     },
     "metadata": {},
     "output_type": "display_data"
    },
    {
     "data": {
      "application/vnd.jupyter.widget-view+json": {
       "model_id": "eef50089bf0649f18175faa5f5852c65",
       "version_major": 2,
       "version_minor": 0
      },
      "text/plain": [
       "Validation: 0it [00:00, ?it/s]"
      ]
     },
     "metadata": {},
     "output_type": "display_data"
    },
    {
     "data": {
      "application/vnd.jupyter.widget-view+json": {
       "model_id": "09c36a63bc894d6f8e565b99fd4ec697",
       "version_major": 2,
       "version_minor": 0
      },
      "text/plain": [
       "Validation: 0it [00:00, ?it/s]"
      ]
     },
     "metadata": {},
     "output_type": "display_data"
    },
    {
     "data": {
      "application/vnd.jupyter.widget-view+json": {
       "model_id": "de070075d6484b6daf9d473961f95956",
       "version_major": 2,
       "version_minor": 0
      },
      "text/plain": [
       "Validation: 0it [00:00, ?it/s]"
      ]
     },
     "metadata": {},
     "output_type": "display_data"
    },
    {
     "data": {
      "application/vnd.jupyter.widget-view+json": {
       "model_id": "e6eeee17558546d4b26acfa276e1ee25",
       "version_major": 2,
       "version_minor": 0
      },
      "text/plain": [
       "Validation: 0it [00:00, ?it/s]"
      ]
     },
     "metadata": {},
     "output_type": "display_data"
    },
    {
     "data": {
      "application/vnd.jupyter.widget-view+json": {
       "model_id": "36b729fbc43b4d0499786f2cf2a5d087",
       "version_major": 2,
       "version_minor": 0
      },
      "text/plain": [
       "Validation: 0it [00:00, ?it/s]"
      ]
     },
     "metadata": {},
     "output_type": "display_data"
    },
    {
     "data": {
      "application/vnd.jupyter.widget-view+json": {
       "model_id": "3c2ec0dc68334556890c6b2d10ce0d55",
       "version_major": 2,
       "version_minor": 0
      },
      "text/plain": [
       "Validation: 0it [00:00, ?it/s]"
      ]
     },
     "metadata": {},
     "output_type": "display_data"
    },
    {
     "data": {
      "application/vnd.jupyter.widget-view+json": {
       "model_id": "c1c80efadb4445d3a565e1a6665d089e",
       "version_major": 2,
       "version_minor": 0
      },
      "text/plain": [
       "Validation: 0it [00:00, ?it/s]"
      ]
     },
     "metadata": {},
     "output_type": "display_data"
    },
    {
     "data": {
      "application/vnd.jupyter.widget-view+json": {
       "model_id": "5b0ca38064514094b9db42598a203feb",
       "version_major": 2,
       "version_minor": 0
      },
      "text/plain": [
       "Validation: 0it [00:00, ?it/s]"
      ]
     },
     "metadata": {},
     "output_type": "display_data"
    },
    {
     "data": {
      "application/vnd.jupyter.widget-view+json": {
       "model_id": "4988c2cbfc6345cdbbe102b2751f303d",
       "version_major": 2,
       "version_minor": 0
      },
      "text/plain": [
       "Validation: 0it [00:00, ?it/s]"
      ]
     },
     "metadata": {},
     "output_type": "display_data"
    },
    {
     "data": {
      "application/vnd.jupyter.widget-view+json": {
       "model_id": "28bf326cc97141e690016dbecfb93241",
       "version_major": 2,
       "version_minor": 0
      },
      "text/plain": [
       "Validation: 0it [00:00, ?it/s]"
      ]
     },
     "metadata": {},
     "output_type": "display_data"
    },
    {
     "data": {
      "application/vnd.jupyter.widget-view+json": {
       "model_id": "0b8be86a87484409a25c0979397792b0",
       "version_major": 2,
       "version_minor": 0
      },
      "text/plain": [
       "Validation: 0it [00:00, ?it/s]"
      ]
     },
     "metadata": {},
     "output_type": "display_data"
    },
    {
     "data": {
      "application/vnd.jupyter.widget-view+json": {
       "model_id": "c64d79b4236646bf85620d9860aa1445",
       "version_major": 2,
       "version_minor": 0
      },
      "text/plain": [
       "Validation: 0it [00:00, ?it/s]"
      ]
     },
     "metadata": {},
     "output_type": "display_data"
    },
    {
     "data": {
      "application/vnd.jupyter.widget-view+json": {
       "model_id": "b300c5b80bfc408fadadd395ec2ac455",
       "version_major": 2,
       "version_minor": 0
      },
      "text/plain": [
       "Validation: 0it [00:00, ?it/s]"
      ]
     },
     "metadata": {},
     "output_type": "display_data"
    },
    {
     "data": {
      "application/vnd.jupyter.widget-view+json": {
       "model_id": "14694339d5e64c468b522ab3c9c87363",
       "version_major": 2,
       "version_minor": 0
      },
      "text/plain": [
       "Validation: 0it [00:00, ?it/s]"
      ]
     },
     "metadata": {},
     "output_type": "display_data"
    },
    {
     "data": {
      "application/vnd.jupyter.widget-view+json": {
       "model_id": "c81585de6a1149db8c97da89af90be0b",
       "version_major": 2,
       "version_minor": 0
      },
      "text/plain": [
       "Validation: 0it [00:00, ?it/s]"
      ]
     },
     "metadata": {},
     "output_type": "display_data"
    },
    {
     "data": {
      "application/vnd.jupyter.widget-view+json": {
       "model_id": "8bd23751841c4fdab58aa3b98df3d939",
       "version_major": 2,
       "version_minor": 0
      },
      "text/plain": [
       "Validation: 0it [00:00, ?it/s]"
      ]
     },
     "metadata": {},
     "output_type": "display_data"
    },
    {
     "data": {
      "application/vnd.jupyter.widget-view+json": {
       "model_id": "273a9748555848978e4e7d69ec195506",
       "version_major": 2,
       "version_minor": 0
      },
      "text/plain": [
       "Validation: 0it [00:00, ?it/s]"
      ]
     },
     "metadata": {},
     "output_type": "display_data"
    },
    {
     "data": {
      "application/vnd.jupyter.widget-view+json": {
       "model_id": "1461c60753784666bbe37a2bc0536e14",
       "version_major": 2,
       "version_minor": 0
      },
      "text/plain": [
       "Validation: 0it [00:00, ?it/s]"
      ]
     },
     "metadata": {},
     "output_type": "display_data"
    },
    {
     "data": {
      "application/vnd.jupyter.widget-view+json": {
       "model_id": "9c07c82e44a746d1ab75cd69d558d79a",
       "version_major": 2,
       "version_minor": 0
      },
      "text/plain": [
       "Validation: 0it [00:00, ?it/s]"
      ]
     },
     "metadata": {},
     "output_type": "display_data"
    },
    {
     "data": {
      "application/vnd.jupyter.widget-view+json": {
       "model_id": "95a4a924b40e4e6dbc981bd362111672",
       "version_major": 2,
       "version_minor": 0
      },
      "text/plain": [
       "Validation: 0it [00:00, ?it/s]"
      ]
     },
     "metadata": {},
     "output_type": "display_data"
    },
    {
     "data": {
      "application/vnd.jupyter.widget-view+json": {
       "model_id": "9f1fc4c211ae49fb934e88104ad5c224",
       "version_major": 2,
       "version_minor": 0
      },
      "text/plain": [
       "Validation: 0it [00:00, ?it/s]"
      ]
     },
     "metadata": {},
     "output_type": "display_data"
    },
    {
     "data": {
      "application/vnd.jupyter.widget-view+json": {
       "model_id": "164f6ed5590746e4979ddc5c70289fe3",
       "version_major": 2,
       "version_minor": 0
      },
      "text/plain": [
       "Validation: 0it [00:00, ?it/s]"
      ]
     },
     "metadata": {},
     "output_type": "display_data"
    },
    {
     "data": {
      "application/vnd.jupyter.widget-view+json": {
       "model_id": "c208c2dfb6054688835bd41e97fa9b19",
       "version_major": 2,
       "version_minor": 0
      },
      "text/plain": [
       "Validation: 0it [00:00, ?it/s]"
      ]
     },
     "metadata": {},
     "output_type": "display_data"
    },
    {
     "data": {
      "application/vnd.jupyter.widget-view+json": {
       "model_id": "138daadda1654a41b83352a7f7d62ea2",
       "version_major": 2,
       "version_minor": 0
      },
      "text/plain": [
       "Validation: 0it [00:00, ?it/s]"
      ]
     },
     "metadata": {},
     "output_type": "display_data"
    },
    {
     "data": {
      "application/vnd.jupyter.widget-view+json": {
       "model_id": "2f87930811dd440ba11e15b67188343c",
       "version_major": 2,
       "version_minor": 0
      },
      "text/plain": [
       "Validation: 0it [00:00, ?it/s]"
      ]
     },
     "metadata": {},
     "output_type": "display_data"
    },
    {
     "data": {
      "application/vnd.jupyter.widget-view+json": {
       "model_id": "c3f5f8d0572946cea1e89948b0a0740e",
       "version_major": 2,
       "version_minor": 0
      },
      "text/plain": [
       "Validation: 0it [00:00, ?it/s]"
      ]
     },
     "metadata": {},
     "output_type": "display_data"
    },
    {
     "data": {
      "application/vnd.jupyter.widget-view+json": {
       "model_id": "43b3bb45fc4d4b268ec0dcc98bb0dc2e",
       "version_major": 2,
       "version_minor": 0
      },
      "text/plain": [
       "Validation: 0it [00:00, ?it/s]"
      ]
     },
     "metadata": {},
     "output_type": "display_data"
    },
    {
     "data": {
      "application/vnd.jupyter.widget-view+json": {
       "model_id": "0c1e1314c2e743b5906635dc2188be74",
       "version_major": 2,
       "version_minor": 0
      },
      "text/plain": [
       "Validation: 0it [00:00, ?it/s]"
      ]
     },
     "metadata": {},
     "output_type": "display_data"
    },
    {
     "data": {
      "application/vnd.jupyter.widget-view+json": {
       "model_id": "db1e4b763e6542e29e16d771b3a4dc02",
       "version_major": 2,
       "version_minor": 0
      },
      "text/plain": [
       "Validation: 0it [00:00, ?it/s]"
      ]
     },
     "metadata": {},
     "output_type": "display_data"
    },
    {
     "data": {
      "application/vnd.jupyter.widget-view+json": {
       "model_id": "965e906794b44daba11c0cd5790e525a",
       "version_major": 2,
       "version_minor": 0
      },
      "text/plain": [
       "Validation: 0it [00:00, ?it/s]"
      ]
     },
     "metadata": {},
     "output_type": "display_data"
    },
    {
     "data": {
      "application/vnd.jupyter.widget-view+json": {
       "model_id": "3b42b91ddb5042f383cf8d9cbb57b4c2",
       "version_major": 2,
       "version_minor": 0
      },
      "text/plain": [
       "Validation: 0it [00:00, ?it/s]"
      ]
     },
     "metadata": {},
     "output_type": "display_data"
    },
    {
     "data": {
      "application/vnd.jupyter.widget-view+json": {
       "model_id": "5277633e90e543caa391034d1fe917ff",
       "version_major": 2,
       "version_minor": 0
      },
      "text/plain": [
       "Validation: 0it [00:00, ?it/s]"
      ]
     },
     "metadata": {},
     "output_type": "display_data"
    },
    {
     "data": {
      "application/vnd.jupyter.widget-view+json": {
       "model_id": "c6029fa36c194248a119dee38d75ba6e",
       "version_major": 2,
       "version_minor": 0
      },
      "text/plain": [
       "Validation: 0it [00:00, ?it/s]"
      ]
     },
     "metadata": {},
     "output_type": "display_data"
    },
    {
     "data": {
      "application/vnd.jupyter.widget-view+json": {
       "model_id": "c973ae58b1bb4ceb829715be68c7c535",
       "version_major": 2,
       "version_minor": 0
      },
      "text/plain": [
       "Validation: 0it [00:00, ?it/s]"
      ]
     },
     "metadata": {},
     "output_type": "display_data"
    },
    {
     "data": {
      "application/vnd.jupyter.widget-view+json": {
       "model_id": "ecd9fe3f91f64d79a592555ee766d6b6",
       "version_major": 2,
       "version_minor": 0
      },
      "text/plain": [
       "Validation: 0it [00:00, ?it/s]"
      ]
     },
     "metadata": {},
     "output_type": "display_data"
    },
    {
     "data": {
      "application/vnd.jupyter.widget-view+json": {
       "model_id": "7b3348afac6f4848847a69b1571fe99e",
       "version_major": 2,
       "version_minor": 0
      },
      "text/plain": [
       "Validation: 0it [00:00, ?it/s]"
      ]
     },
     "metadata": {},
     "output_type": "display_data"
    },
    {
     "data": {
      "application/vnd.jupyter.widget-view+json": {
       "model_id": "54e11862137d4170bb17203f1d44002a",
       "version_major": 2,
       "version_minor": 0
      },
      "text/plain": [
       "Validation: 0it [00:00, ?it/s]"
      ]
     },
     "metadata": {},
     "output_type": "display_data"
    },
    {
     "data": {
      "application/vnd.jupyter.widget-view+json": {
       "model_id": "3efa69b6e4a34e52bd57f509f26fcf92",
       "version_major": 2,
       "version_minor": 0
      },
      "text/plain": [
       "Validation: 0it [00:00, ?it/s]"
      ]
     },
     "metadata": {},
     "output_type": "display_data"
    },
    {
     "data": {
      "application/vnd.jupyter.widget-view+json": {
       "model_id": "fa9d82fe079c4f7297b5cb5a78e8a41f",
       "version_major": 2,
       "version_minor": 0
      },
      "text/plain": [
       "Validation: 0it [00:00, ?it/s]"
      ]
     },
     "metadata": {},
     "output_type": "display_data"
    },
    {
     "data": {
      "application/vnd.jupyter.widget-view+json": {
       "model_id": "585f2f78f9074659b73f028892476593",
       "version_major": 2,
       "version_minor": 0
      },
      "text/plain": [
       "Validation: 0it [00:00, ?it/s]"
      ]
     },
     "metadata": {},
     "output_type": "display_data"
    },
    {
     "data": {
      "application/vnd.jupyter.widget-view+json": {
       "model_id": "159270f514a54d7a8159d225d64ab92b",
       "version_major": 2,
       "version_minor": 0
      },
      "text/plain": [
       "Validation: 0it [00:00, ?it/s]"
      ]
     },
     "metadata": {},
     "output_type": "display_data"
    },
    {
     "data": {
      "application/vnd.jupyter.widget-view+json": {
       "model_id": "055bc17109c84675b18a39d7d9f7879a",
       "version_major": 2,
       "version_minor": 0
      },
      "text/plain": [
       "Validation: 0it [00:00, ?it/s]"
      ]
     },
     "metadata": {},
     "output_type": "display_data"
    },
    {
     "data": {
      "application/vnd.jupyter.widget-view+json": {
       "model_id": "10c6bccb36ce4350aa2d888575e8e74c",
       "version_major": 2,
       "version_minor": 0
      },
      "text/plain": [
       "Validation: 0it [00:00, ?it/s]"
      ]
     },
     "metadata": {},
     "output_type": "display_data"
    },
    {
     "data": {
      "application/vnd.jupyter.widget-view+json": {
       "model_id": "37c809889a7742f7b7beadba9d493d3b",
       "version_major": 2,
       "version_minor": 0
      },
      "text/plain": [
       "Validation: 0it [00:00, ?it/s]"
      ]
     },
     "metadata": {},
     "output_type": "display_data"
    },
    {
     "data": {
      "application/vnd.jupyter.widget-view+json": {
       "model_id": "786279aae4994659b07b9102bf153a5c",
       "version_major": 2,
       "version_minor": 0
      },
      "text/plain": [
       "Validation: 0it [00:00, ?it/s]"
      ]
     },
     "metadata": {},
     "output_type": "display_data"
    },
    {
     "data": {
      "application/vnd.jupyter.widget-view+json": {
       "model_id": "651358f61f5c46cb8709a6ad892f6c99",
       "version_major": 2,
       "version_minor": 0
      },
      "text/plain": [
       "Validation: 0it [00:00, ?it/s]"
      ]
     },
     "metadata": {},
     "output_type": "display_data"
    },
    {
     "data": {
      "application/vnd.jupyter.widget-view+json": {
       "model_id": "56108b0de94042e9a68fa4735ae8f98b",
       "version_major": 2,
       "version_minor": 0
      },
      "text/plain": [
       "Validation: 0it [00:00, ?it/s]"
      ]
     },
     "metadata": {},
     "output_type": "display_data"
    },
    {
     "data": {
      "application/vnd.jupyter.widget-view+json": {
       "model_id": "69b70058891842dfad001bc858725bf0",
       "version_major": 2,
       "version_minor": 0
      },
      "text/plain": [
       "Validation: 0it [00:00, ?it/s]"
      ]
     },
     "metadata": {},
     "output_type": "display_data"
    },
    {
     "data": {
      "application/vnd.jupyter.widget-view+json": {
       "model_id": "512b8abab2a3412a82fbe90c3ecaa06c",
       "version_major": 2,
       "version_minor": 0
      },
      "text/plain": [
       "Validation: 0it [00:00, ?it/s]"
      ]
     },
     "metadata": {},
     "output_type": "display_data"
    },
    {
     "data": {
      "application/vnd.jupyter.widget-view+json": {
       "model_id": "e27ae50d3fca45ff98ace01fd216bb51",
       "version_major": 2,
       "version_minor": 0
      },
      "text/plain": [
       "Validation: 0it [00:00, ?it/s]"
      ]
     },
     "metadata": {},
     "output_type": "display_data"
    },
    {
     "data": {
      "application/vnd.jupyter.widget-view+json": {
       "model_id": "eb7071b7760042fcb7b0443505e0abdc",
       "version_major": 2,
       "version_minor": 0
      },
      "text/plain": [
       "Validation: 0it [00:00, ?it/s]"
      ]
     },
     "metadata": {},
     "output_type": "display_data"
    },
    {
     "data": {
      "application/vnd.jupyter.widget-view+json": {
       "model_id": "1091adf6b7f24de6a7c4165e32504fd0",
       "version_major": 2,
       "version_minor": 0
      },
      "text/plain": [
       "Validation: 0it [00:00, ?it/s]"
      ]
     },
     "metadata": {},
     "output_type": "display_data"
    },
    {
     "data": {
      "application/vnd.jupyter.widget-view+json": {
       "model_id": "3132c63239cc4cb69b602d71bd4a1aa6",
       "version_major": 2,
       "version_minor": 0
      },
      "text/plain": [
       "Validation: 0it [00:00, ?it/s]"
      ]
     },
     "metadata": {},
     "output_type": "display_data"
    },
    {
     "data": {
      "application/vnd.jupyter.widget-view+json": {
       "model_id": "67af249247344578b69d0a1427a10a8d",
       "version_major": 2,
       "version_minor": 0
      },
      "text/plain": [
       "Validation: 0it [00:00, ?it/s]"
      ]
     },
     "metadata": {},
     "output_type": "display_data"
    },
    {
     "data": {
      "application/vnd.jupyter.widget-view+json": {
       "model_id": "50446648d39844028bd17fbac2a64ae1",
       "version_major": 2,
       "version_minor": 0
      },
      "text/plain": [
       "Validation: 0it [00:00, ?it/s]"
      ]
     },
     "metadata": {},
     "output_type": "display_data"
    },
    {
     "data": {
      "application/vnd.jupyter.widget-view+json": {
       "model_id": "6925f69b571846fbb885f45fe948d181",
       "version_major": 2,
       "version_minor": 0
      },
      "text/plain": [
       "Validation: 0it [00:00, ?it/s]"
      ]
     },
     "metadata": {},
     "output_type": "display_data"
    },
    {
     "data": {
      "application/vnd.jupyter.widget-view+json": {
       "model_id": "82eb71f3acd14220a236a49c7cb525bc",
       "version_major": 2,
       "version_minor": 0
      },
      "text/plain": [
       "Validation: 0it [00:00, ?it/s]"
      ]
     },
     "metadata": {},
     "output_type": "display_data"
    },
    {
     "data": {
      "application/vnd.jupyter.widget-view+json": {
       "model_id": "c1f476c54d6a4bcf9ba0bc82bac1d8c3",
       "version_major": 2,
       "version_minor": 0
      },
      "text/plain": [
       "Validation: 0it [00:00, ?it/s]"
      ]
     },
     "metadata": {},
     "output_type": "display_data"
    },
    {
     "data": {
      "application/vnd.jupyter.widget-view+json": {
       "model_id": "def57ac9dcaa4318b665613f3d92d674",
       "version_major": 2,
       "version_minor": 0
      },
      "text/plain": [
       "Validation: 0it [00:00, ?it/s]"
      ]
     },
     "metadata": {},
     "output_type": "display_data"
    },
    {
     "data": {
      "application/vnd.jupyter.widget-view+json": {
       "model_id": "49cc61e7e60f4dfcae9ef12813072c01",
       "version_major": 2,
       "version_minor": 0
      },
      "text/plain": [
       "Validation: 0it [00:00, ?it/s]"
      ]
     },
     "metadata": {},
     "output_type": "display_data"
    },
    {
     "data": {
      "application/vnd.jupyter.widget-view+json": {
       "model_id": "3355c1f88e054cfe92f128f31002637d",
       "version_major": 2,
       "version_minor": 0
      },
      "text/plain": [
       "Validation: 0it [00:00, ?it/s]"
      ]
     },
     "metadata": {},
     "output_type": "display_data"
    },
    {
     "data": {
      "application/vnd.jupyter.widget-view+json": {
       "model_id": "61c3a76b9abd46d7aa3123be2a173339",
       "version_major": 2,
       "version_minor": 0
      },
      "text/plain": [
       "Validation: 0it [00:00, ?it/s]"
      ]
     },
     "metadata": {},
     "output_type": "display_data"
    },
    {
     "data": {
      "application/vnd.jupyter.widget-view+json": {
       "model_id": "7bf97242e98a488f9a91e712c2493743",
       "version_major": 2,
       "version_minor": 0
      },
      "text/plain": [
       "Validation: 0it [00:00, ?it/s]"
      ]
     },
     "metadata": {},
     "output_type": "display_data"
    },
    {
     "data": {
      "application/vnd.jupyter.widget-view+json": {
       "model_id": "0f7c63163b71442b989531e45364bf8a",
       "version_major": 2,
       "version_minor": 0
      },
      "text/plain": [
       "Validation: 0it [00:00, ?it/s]"
      ]
     },
     "metadata": {},
     "output_type": "display_data"
    },
    {
     "data": {
      "application/vnd.jupyter.widget-view+json": {
       "model_id": "240ac04a5bd842738d77957dd0f4e641",
       "version_major": 2,
       "version_minor": 0
      },
      "text/plain": [
       "Validation: 0it [00:00, ?it/s]"
      ]
     },
     "metadata": {},
     "output_type": "display_data"
    },
    {
     "data": {
      "application/vnd.jupyter.widget-view+json": {
       "model_id": "0171b35572f043cf9bd1dc42988f1c36",
       "version_major": 2,
       "version_minor": 0
      },
      "text/plain": [
       "Validation: 0it [00:00, ?it/s]"
      ]
     },
     "metadata": {},
     "output_type": "display_data"
    },
    {
     "data": {
      "application/vnd.jupyter.widget-view+json": {
       "model_id": "00dba79f409347428275614ac5fee1cc",
       "version_major": 2,
       "version_minor": 0
      },
      "text/plain": [
       "Validation: 0it [00:00, ?it/s]"
      ]
     },
     "metadata": {},
     "output_type": "display_data"
    },
    {
     "data": {
      "application/vnd.jupyter.widget-view+json": {
       "model_id": "05f820d7477b44568de196446134e670",
       "version_major": 2,
       "version_minor": 0
      },
      "text/plain": [
       "Validation: 0it [00:00, ?it/s]"
      ]
     },
     "metadata": {},
     "output_type": "display_data"
    },
    {
     "data": {
      "application/vnd.jupyter.widget-view+json": {
       "model_id": "53f5c294475d4598b4f5b4811ed82d1e",
       "version_major": 2,
       "version_minor": 0
      },
      "text/plain": [
       "Validation: 0it [00:00, ?it/s]"
      ]
     },
     "metadata": {},
     "output_type": "display_data"
    },
    {
     "data": {
      "application/vnd.jupyter.widget-view+json": {
       "model_id": "2cbe1e82a29f40e68619b9c94982c299",
       "version_major": 2,
       "version_minor": 0
      },
      "text/plain": [
       "Validation: 0it [00:00, ?it/s]"
      ]
     },
     "metadata": {},
     "output_type": "display_data"
    },
    {
     "data": {
      "application/vnd.jupyter.widget-view+json": {
       "model_id": "f4080f179df043168cd935666ba78636",
       "version_major": 2,
       "version_minor": 0
      },
      "text/plain": [
       "Validation: 0it [00:00, ?it/s]"
      ]
     },
     "metadata": {},
     "output_type": "display_data"
    },
    {
     "data": {
      "application/vnd.jupyter.widget-view+json": {
       "model_id": "7cc5f5e3455a4b8fb7b40d5bea9d414d",
       "version_major": 2,
       "version_minor": 0
      },
      "text/plain": [
       "Validation: 0it [00:00, ?it/s]"
      ]
     },
     "metadata": {},
     "output_type": "display_data"
    },
    {
     "data": {
      "application/vnd.jupyter.widget-view+json": {
       "model_id": "b87d9191cb4045cbb0ed08c1dcdf7c92",
       "version_major": 2,
       "version_minor": 0
      },
      "text/plain": [
       "Validation: 0it [00:00, ?it/s]"
      ]
     },
     "metadata": {},
     "output_type": "display_data"
    },
    {
     "data": {
      "application/vnd.jupyter.widget-view+json": {
       "model_id": "fefb0f2e28fd4907904a2eefc3e4b43b",
       "version_major": 2,
       "version_minor": 0
      },
      "text/plain": [
       "Validation: 0it [00:00, ?it/s]"
      ]
     },
     "metadata": {},
     "output_type": "display_data"
    },
    {
     "name": "stderr",
     "output_type": "stream",
     "text": [
      "`Trainer.fit` stopped: `max_epochs=150` reached.\n"
     ]
    }
   ],
   "source": [
    "trainer.fit(model, xy_train, xy_val) "
   ]
  },
  {
   "cell_type": "code",
   "execution_count": 444,
   "id": "6d8f4eda-2701-4e45-a1b4-a182912431fa",
   "metadata": {},
   "outputs": [
    {
     "data": {
      "text/html": [
       "<div>\n",
       "<style scoped>\n",
       "    .dataframe tbody tr th:only-of-type {\n",
       "        vertical-align: middle;\n",
       "    }\n",
       "\n",
       "    .dataframe tbody tr th {\n",
       "        vertical-align: top;\n",
       "    }\n",
       "\n",
       "    .dataframe thead th {\n",
       "        text-align: right;\n",
       "    }\n",
       "</style>\n",
       "<table border=\"1\" class=\"dataframe\">\n",
       "  <thead>\n",
       "    <tr style=\"text-align: right;\">\n",
       "      <th></th>\n",
       "      <th>val_loss</th>\n",
       "      <th>val_offset</th>\n",
       "      <th>epoch</th>\n",
       "      <th>step</th>\n",
       "      <th>train_loss</th>\n",
       "      <th>train_offset</th>\n",
       "    </tr>\n",
       "  </thead>\n",
       "  <tbody>\n",
       "    <tr>\n",
       "      <th>0</th>\n",
       "      <td>9.598987e+06</td>\n",
       "      <td>4.241256e+06</td>\n",
       "      <td>0</td>\n",
       "      <td>0</td>\n",
       "      <td>NaN</td>\n",
       "      <td>NaN</td>\n",
       "    </tr>\n",
       "    <tr>\n",
       "      <th>1</th>\n",
       "      <td>5.357439e+06</td>\n",
       "      <td>3.128178e+06</td>\n",
       "      <td>0</td>\n",
       "      <td>8</td>\n",
       "      <td>NaN</td>\n",
       "      <td>NaN</td>\n",
       "    </tr>\n",
       "    <tr>\n",
       "      <th>2</th>\n",
       "      <td>NaN</td>\n",
       "      <td>NaN</td>\n",
       "      <td>0</td>\n",
       "      <td>8</td>\n",
       "      <td>6.057014e+06</td>\n",
       "      <td>3.456244e+06</td>\n",
       "    </tr>\n",
       "    <tr>\n",
       "      <th>3</th>\n",
       "      <td>6.817724e+05</td>\n",
       "      <td>6.403737e+05</td>\n",
       "      <td>1</td>\n",
       "      <td>17</td>\n",
       "      <td>NaN</td>\n",
       "      <td>NaN</td>\n",
       "    </tr>\n",
       "    <tr>\n",
       "      <th>4</th>\n",
       "      <td>NaN</td>\n",
       "      <td>NaN</td>\n",
       "      <td>1</td>\n",
       "      <td>17</td>\n",
       "      <td>1.678460e+06</td>\n",
       "      <td>1.312021e+06</td>\n",
       "    </tr>\n",
       "    <tr>\n",
       "      <th>...</th>\n",
       "      <td>...</td>\n",
       "      <td>...</td>\n",
       "      <td>...</td>\n",
       "      <td>...</td>\n",
       "      <td>...</td>\n",
       "      <td>...</td>\n",
       "    </tr>\n",
       "    <tr>\n",
       "      <th>296</th>\n",
       "      <td>NaN</td>\n",
       "      <td>NaN</td>\n",
       "      <td>147</td>\n",
       "      <td>1331</td>\n",
       "      <td>2.886690e+03</td>\n",
       "      <td>-8.803762e+02</td>\n",
       "    </tr>\n",
       "    <tr>\n",
       "      <th>297</th>\n",
       "      <td>3.284955e+03</td>\n",
       "      <td>3.319518e+04</td>\n",
       "      <td>148</td>\n",
       "      <td>1340</td>\n",
       "      <td>NaN</td>\n",
       "      <td>NaN</td>\n",
       "    </tr>\n",
       "    <tr>\n",
       "      <th>298</th>\n",
       "      <td>NaN</td>\n",
       "      <td>NaN</td>\n",
       "      <td>148</td>\n",
       "      <td>1340</td>\n",
       "      <td>2.762894e+03</td>\n",
       "      <td>-4.361265e+02</td>\n",
       "    </tr>\n",
       "    <tr>\n",
       "      <th>299</th>\n",
       "      <td>2.895383e+03</td>\n",
       "      <td>8.223103e+03</td>\n",
       "      <td>149</td>\n",
       "      <td>1349</td>\n",
       "      <td>NaN</td>\n",
       "      <td>NaN</td>\n",
       "    </tr>\n",
       "    <tr>\n",
       "      <th>300</th>\n",
       "      <td>NaN</td>\n",
       "      <td>NaN</td>\n",
       "      <td>149</td>\n",
       "      <td>1349</td>\n",
       "      <td>2.846448e+03</td>\n",
       "      <td>2.141026e+03</td>\n",
       "    </tr>\n",
       "  </tbody>\n",
       "</table>\n",
       "<p>301 rows × 6 columns</p>\n",
       "</div>"
      ],
      "text/plain": [
       "         val_loss    val_offset  epoch  step    train_loss  train_offset\n",
       "0    9.598987e+06  4.241256e+06      0     0           NaN           NaN\n",
       "1    5.357439e+06  3.128178e+06      0     8           NaN           NaN\n",
       "2             NaN           NaN      0     8  6.057014e+06  3.456244e+06\n",
       "3    6.817724e+05  6.403737e+05      1    17           NaN           NaN\n",
       "4             NaN           NaN      1    17  1.678460e+06  1.312021e+06\n",
       "..            ...           ...    ...   ...           ...           ...\n",
       "296           NaN           NaN    147  1331  2.886690e+03 -8.803762e+02\n",
       "297  3.284955e+03  3.319518e+04    148  1340           NaN           NaN\n",
       "298           NaN           NaN    148  1340  2.762894e+03 -4.361265e+02\n",
       "299  2.895383e+03  8.223103e+03    149  1349           NaN           NaN\n",
       "300           NaN           NaN    149  1349  2.846448e+03  2.141026e+03\n",
       "\n",
       "[301 rows x 6 columns]"
      ]
     },
     "execution_count": 444,
     "metadata": {},
     "output_type": "execute_result"
    }
   ],
   "source": [
    "results = pd.read_csv(logger.log_dir+\"/metrics.csv\")\n",
    "results"
   ]
  },
  {
   "cell_type": "code",
   "execution_count": 445,
   "id": "d9156268-0afc-4513-ae82-b468ec25d875",
   "metadata": {},
   "outputs": [
    {
     "data": {
      "image/png": "[encoded data removed]",
      "text/plain": [
       "<Figure size 640x480 with 1 Axes>"
      ]
     },
     "metadata": {},
     "output_type": "display_data"
    }
   ],
   "source": [
    "plt.plot(results[\"epoch\"][np.logical_not(np.isnan(results[\"train_loss\"]))],\n",
    "         results[\"train_loss\"][np.logical_not(np.isnan(results[\"train_loss\"]))],\n",
    "         label=\"Training\")\n",
    "\n",
    "plt.plot(results[\"epoch\"][np.logical_not(np.isnan(results[\"val_loss\"]))], \n",
    "         results[\"val_loss\"][np.logical_not(np.isnan(results[\"val_loss\"]))], \n",
    "         label=\"Validation\")\n",
    "\n",
    "plt.legend() \n",
    "plt.ylabel(\"MSE Loss\") \n",
    "plt.xlabel(\"Epoch\") \n",
    "plt.show()"
   ]
  },
  {
   "cell_type": "code",
   "execution_count": 446,
   "id": "744687d4-8cf0-45d7-bef4-147ce7ad1b32",
   "metadata": {},
   "outputs": [
    {
     "data": {
      "image/png": "[encoded data removed]",
      "text/plain": [
       "<Figure size 640x480 with 1 Axes>"
      ]
     },
     "metadata": {},
     "output_type": "display_data"
    }
   ],
   "source": [
    "plt.plot(results[\"epoch\"][np.logical_not(np.isnan(results[\"train_offset\"]))],\n",
    "         results[\"train_offset\"][np.logical_not(np.isnan(results[\"train_offset\"]))],\n",
    "         label=\"Training\")\n",
    "\n",
    "plt.plot(results[\"epoch\"][np.logical_not(np.isnan(results[\"val_offset\"]))], \n",
    "         results[\"val_offset\"][np.logical_not(np.isnan(results[\"val_offset\"]))], \n",
    "         label=\"Validation\")\n",
    "\n",
    "plt.legend() \n",
    "plt.ylabel(\"Offset\") \n",
    "plt.xlabel(\"Epoch\") \n",
    "plt.show()"
   ]
  },
  {
   "cell_type": "code",
   "execution_count": 458,
   "id": "3926f508-578e-4618-86a1-d850ffcc2eb3",
   "metadata": {},
   "outputs": [
    {
     "data": {
      "image/png": "[encoded data removed]",
      "text/plain": [
       "<Figure size 1000x600 with 1 Axes>"
      ]
     },
     "metadata": {},
     "output_type": "display_data"
    }
   ],
   "source": [
    "# Lets me crop the data to look at it\n",
    "df_plot_data = df_avg[:]\n",
    "\n",
    "# Assuming df's index is the date and the rest of the columns are integers\n",
    "summed_values = df_plot_data.sum(axis=1)\n",
    "\n",
    "# Plotting\n",
    "plt.figure(figsize=(10, 6))\n",
    "plt.plot(df_plot_data.index, summed_values, label='Original Data')\n",
    "\n",
    "plt.xlabel('Dates')\n",
    "plt.ylabel('Sales')\n",
    "plt.title('Sum of Sales')\n",
    "plt.xticks(rotation=45)\n",
    "\n",
    "# Formatting date on the x-axis\n",
    "plt.gca().xaxis.set_major_formatter(mdates.DateFormatter('%Y-%m-%d'))\n",
    "plt.gca().xaxis.set_major_locator(mdates.DayLocator(interval=90)) # 3months\n",
    "\n",
    "plt.legend()\n",
    "plt.show()"
   ]
  },
  {
   "cell_type": "code",
   "execution_count": 473,
   "id": "5fda7ba8-0c46-441d-892d-13360f64c1ef",
   "metadata": {},
   "outputs": [],
   "source": [
    "data_set = df_avg[:].values\n",
    "data_pred = df_avg[-300:-150].values\n",
    "\n",
    "for i in range(30):\n",
    "    tensor_input = torch.tensor(data_pred, dtype=torch.float32).unsqueeze(0)\n",
    "    pred = model.predict(tensor_input)\n",
    "    pred = pred.detach().numpy()\n",
    "    data_pred = np.append(data_pred[1:], pred.reshape(1, -1), axis=0)\n"
   ]
  },
  {
   "cell_type": "code",
   "execution_count": 474,
   "id": "a1a89fae-0ee7-4430-9cea-f990c7a9e551",
   "metadata": {},
   "outputs": [
    {
     "data": {
      "image/png": "[encoded data removed]",
      "text/plain": [
       "<Figure size 1000x600 with 1 Axes>"
      ]
     },
     "metadata": {},
     "output_type": "display_data"
    }
   ],
   "source": [
    "data_set_summed = data_set.sum(axis=1)\n",
    "data_set_pred = data_pred.sum(axis=1)\n",
    "\n",
    "\n",
    "# Plotting the data\n",
    "plt.figure(figsize=(10, 6))\n",
    "plt.plot(data_set_summed)\n",
    "plt.plot(data_set_pred)\n",
    "plt.title('Plot without Explicit Index')\n",
    "plt.show()"
   ]
  },
  {
   "cell_type": "code",
   "execution_count": null,
   "id": "611e0892-8c41-4482-abe9-b1d8499849ba",
   "metadata": {},
   "outputs": [],
   "source": []
  }
 ],
 "metadata": {
  "kernelspec": {
   "display_name": "Python 3 (ipykernel)",
   "language": "python",
   "name": "python3"
  },
  "language_info": {
   "codemirror_mode": {
    "name": "ipython",
    "version": 3
   },
   "file_extension": ".py",
   "mimetype": "text/x-python",
   "name": "python",
   "nbconvert_exporter": "python",
   "pygments_lexer": "ipython3",
   "version": "3.11.5"
  }
 },
 "nbformat": 4,
 "nbformat_minor": 5
}
